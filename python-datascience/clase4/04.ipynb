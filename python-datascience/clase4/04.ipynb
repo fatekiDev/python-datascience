{
  "cells": [
    {
      "cell_type": "markdown",
      "metadata": {
        "id": "lYE0JBY6IVJ5"
      },
      "source": [
        "## **Python para Data Science: Clase 04**\n",
        "\n",
        "### **Más información sobre estructuras**\n",
        "\n",
        "#### Comprensión de listas\n",
        "\n",
        "Python soporta la comprensión de listas, una forma concisa para crear listas en una sola línea. Veamos un ejemplo donde queremos obtener el cuadrado de cad elemento de una lista:"
      ]
    },
    {
      "cell_type": "code",
      "execution_count": 1,
      "metadata": {
        "id": "nd0gYYTM5VgP"
      },
      "outputs": [
        {
          "name": "stdout",
          "output_type": "stream",
          "text": [
            "primera version [1, 4, 9, 16, 25, 36, 49, 64, 81, 100, 121, 144]\n",
            "segunda version [1, 4, 9, 16, 25, 36, 49, 64, 81, 100, 121, 144]\n"
          ]
        }
      ],
      "source": [
        "numeros = [1, 2, 3, 4, 5, 6, 7, 8, 9, 10, 11, 12]\n",
        "\n",
        "numeros_sq  = []\n",
        "for i in numeros:\n",
        "    numeros_sq.append(i**2)\n",
        "print(\"primera version\", numeros_sq)\n",
        "\n",
        "# usando comprension de listas\n",
        "numeros_sq = [i**2 for i in numeros]\n",
        "print(\"segunda version\", numeros_sq)"
      ]
    },
    {
      "cell_type": "markdown",
      "metadata": {
        "id": "IsjpEcoUGVNK"
      },
      "source": [
        "Interesantemente, la comprensión de listas soporta clausulas if-else. Por ejemplo, podemos obtener los cuadradados pero solo de números impares:"
      ]
    },
    {
      "cell_type": "code",
      "execution_count": 2,
      "metadata": {
        "id": "HFLhhhVjGUqF"
      },
      "outputs": [
        {
          "name": "stdout",
          "output_type": "stream",
          "text": [
            "primera version [1, 9, 25, 49, 81, 121]\n",
            "segunda version [1, 9, 25, 49, 81, 121]\n"
          ]
        }
      ],
      "source": [
        "numeros = [1, 2, 3, 4, 5, 6, 7, 8, 9, 10, 11, 12]\n",
        "\n",
        "numeros_sq  = []\n",
        "for i in numeros:\n",
        "    if i % 2 != 0:\n",
        "      numeros_sq.append(i**2)\n",
        "print(\"primera version\", numeros_sq)\n",
        "\n",
        "# usando comprension de listas\n",
        "numeros_sq = [i**2 for i in numeros if i % 2 != 0]\n",
        "print(\"segunda version\", numeros_sq)"
      ]
    },
    {
      "cell_type": "markdown",
      "metadata": {
        "id": "CtuRTXoV541M"
      },
      "source": [
        "Desglosemos la expresión `[i**2 for i in numeros if i % 2 != 0]`:\n",
        "\n",
        "1. Lo primero que se hace es inicializar una lista `[]`.\n",
        "2. Usando la sintaxis que permite Python, le decimos en un principio que esa lista contenga cada elemento de `numeros` usando `i for i in numeros`.\n",
        "3. Antes de asignar cada elemento le decimos que incluya solo si son impares con `i % 2 != 0`.\n",
        "\n",
        "Esto no solo se restringe a las listas, también podemos hacerlo con diccionarios:"
      ]
    },
    {
      "cell_type": "code",
      "execution_count": 3,
      "metadata": {
        "id": "HogIEdSC5fMh"
      },
      "outputs": [
        {
          "name": "stdout",
          "output_type": "stream",
          "text": [
            "Primera versión: {2: 4, 4: 16, 6: 36, 8: 64, 10: 100, 12: 144}\n",
            "Segunda versión: {2: 4, 4: 16, 6: 36, 8: 64, 10: 100, 12: 144}\n"
          ]
        }
      ],
      "source": [
        "numeros = [1, 2, 3, 4, 5, 6, 7, 8, 9, 10, 11, 12]\n",
        "\n",
        "# Crear un diccionario con los números pares como claves y su cuadrado como valores\n",
        "diccionario1 = {}\n",
        "for i in numeros:\n",
        "    if i % 2 == 0:\n",
        "        diccionario1[i] = i ** 2\n",
        "print(\"Primera versión:\", diccionario1)\n",
        "\n",
        "# Una versión más corta\n",
        "diccionario2 = {i: i ** 2 for i in numeros if i % 2 == 0}\n",
        "print(\"Segunda versión:\", diccionario2)\n"
      ]
    },
    {
      "cell_type": "markdown",
      "metadata": {
        "id": "LpZUzvk1HioB"
      },
      "source": [
        "## Slicing\n",
        "\n",
        "Permite seleccionar un subconjunto de elementos de una secuencia, como una lista o string, utilizando una sintaxis específica que indica el rango de índices de los elementos que se desean extraer.\n",
        "\n",
        "Por ejemplo, dado una `lista` puedo obtener los primeros 5 elementos usando la sintaxis `lista[:5]`"
      ]
    },
    {
      "cell_type": "code",
      "execution_count": 4,
      "metadata": {
        "id": "NrRUl-wNHbk0"
      },
      "outputs": [
        {
          "name": "stdout",
          "output_type": "stream",
          "text": [
            "[5, 4, 1, 7, 9]\n"
          ]
        }
      ],
      "source": [
        "lista = [5, 4, 1, 7, 9, 3, 0, 1, 2]\n",
        "print(lista[:5])"
      ]
    },
    {
      "cell_type": "markdown",
      "metadata": {
        "id": "9udZqzqnHoDy"
      },
      "source": [
        "O al contrario, puedo obtener todos los elementos desde el indice 5 en adelante con `lista[5:]`"
      ]
    },
    {
      "cell_type": "code",
      "execution_count": 5,
      "metadata": {
        "id": "yk2PhLQFHmUx"
      },
      "outputs": [
        {
          "name": "stdout",
          "output_type": "stream",
          "text": [
            "[3, 0, 1, 2]\n"
          ]
        }
      ],
      "source": [
        "print(lista[5:])"
      ]
    },
    {
      "cell_type": "markdown",
      "metadata": {
        "id": "CdlJmPfUHqiQ"
      },
      "source": [
        "Incluso podemos obtener los elementos que están entre dos indices"
      ]
    },
    {
      "cell_type": "code",
      "execution_count": 6,
      "metadata": {
        "id": "g3ZH5VHwHpAo"
      },
      "outputs": [
        {
          "name": "stdout",
          "output_type": "stream",
          "text": [
            "[7, 9, 3]\n"
          ]
        }
      ],
      "source": [
        "print(lista[3:6])"
      ]
    },
    {
      "cell_type": "markdown",
      "metadata": {
        "id": "FAFTZDA2Hvs9"
      },
      "source": [
        "La sintaxis en concreto es de la forma `variable[inicio:final]`, siendo\n",
        "\n",
        "- `variable` una secuencia de elementos ordenada (lista, tupla, string)\n",
        "-  `inicio` indice inicial, si no se especifica se usa por defecto el primer indice de `variable`\n",
        "- `final` indice `final`, si no se especifica entonces será igual al largo de la lista. Notar que el índice usado se **excluye** del resultado"
      ]
    },
    {
      "cell_type": "code",
      "execution_count": 7,
      "metadata": {
        "id": "I2l30GpNHs4z"
      },
      "outputs": [
        {
          "data": {
            "text/plain": [
              "[0, 1, 2]"
            ]
          },
          "execution_count": 7,
          "metadata": {},
          "output_type": "execute_result"
        }
      ],
      "source": [
        "lista = [5, 4, 1, 7, 9, 3, 0, 1, 2,]\n",
        "\n",
        "# como puedo extraer los últimos 3 elementos de lista?\n",
        "lista[-3:]"
      ]
    },
    {
      "cell_type": "code",
      "execution_count": 8,
      "metadata": {
        "id": "XvLWkiKeHznH"
      },
      "outputs": [
        {
          "data": {
            "text/plain": [
              "[4, 1, 7, 9, 3, 0, 1]"
            ]
          },
          "execution_count": 8,
          "metadata": {},
          "output_type": "execute_result"
        }
      ],
      "source": [
        "# como puedo excluir el primer y último elemento?\n",
        "lista[1:-1]"
      ]
    },
    {
      "cell_type": "markdown",
      "metadata": {
        "id": "cddr7nuzH3SE"
      },
      "source": [
        "#### Cambiando Pasos\n",
        "\n",
        "Otra cosa interesante del slicing es que podemos pedirle a una secuencia que nos entregue los elementos cada **x** pasos."
      ]
    },
    {
      "cell_type": "code",
      "execution_count": 9,
      "metadata": {
        "id": "p294MJmeH2Tx"
      },
      "outputs": [
        {
          "name": "stdout",
          "output_type": "stream",
          "text": [
            "[1, 2, 3, 4, 5, 6, 7, 8, 9, 10]\n"
          ]
        }
      ],
      "source": [
        "lista = list(range(1,11))\n",
        "print(lista)"
      ]
    },
    {
      "cell_type": "code",
      "execution_count": 10,
      "metadata": {
        "id": "dqH3p4MZH2mD"
      },
      "outputs": [
        {
          "name": "stdout",
          "output_type": "stream",
          "text": [
            "[1, 3, 5, 7, 9]\n"
          ]
        }
      ],
      "source": [
        "# Ejemplo: cada dos pasos\n",
        "print(lista[::2])"
      ]
    },
    {
      "cell_type": "code",
      "execution_count": 11,
      "metadata": {
        "id": "dMok9-21H7Q_"
      },
      "outputs": [
        {
          "name": "stdout",
          "output_type": "stream",
          "text": [
            "[2, 4, 6, 8, 10]\n"
          ]
        }
      ],
      "source": [
        "# Ejemplo: cada dos pasos partiendo del segundo elemento\n",
        "print(lista[1::2])"
      ]
    },
    {
      "cell_type": "code",
      "execution_count": 12,
      "metadata": {
        "id": "V9UO6I4TH9L7"
      },
      "outputs": [
        {
          "name": "stdout",
          "output_type": "stream",
          "text": [
            "[10, 9, 8, 7, 6, 5, 4, 3, 2, 1]\n"
          ]
        }
      ],
      "source": [
        "# Ejemplo: cada un paso partiendo desde el final\n",
        "print(lista[::-1])"
      ]
    },
    {
      "cell_type": "markdown",
      "metadata": {
        "id": "YihAptwUIBM-"
      },
      "source": [
        "Si te has fijado bien, acabamos de dar vuelta el orden de los elementos!, esto es parecido a haber usado `reverse` sobre la lista, salvo que esto último lo hace de manera implícita:"
      ]
    },
    {
      "cell_type": "code",
      "execution_count": 14,
      "metadata": {
        "id": "LuY0eFRBIAhN"
      },
      "outputs": [],
      "source": [
        "lista = list(range(1,11))\n",
        "\n",
        "# guardamos la lista dada vuelta\n",
        "lista_r = lista[::-1]\n",
        "\n",
        "# damos vuelta la lista\n",
        "lista.reverse()\n",
        "\n",
        "assert lista_r == lista, \"Las listas no son iguales\""
      ]
    },
    {
      "cell_type": "markdown",
      "metadata": {
        "id": "W734KVvNIGIO"
      },
      "source": [
        "Podemos entonces también dar vuelta strings:"
      ]
    },
    {
      "cell_type": "code",
      "execution_count": 15,
      "metadata": {
        "id": "_QP_GKeGH-ga"
      },
      "outputs": [
        {
          "name": "stdout",
          "output_type": "stream",
          "text": [
            "odnuM aloH\n"
          ]
        }
      ],
      "source": [
        "saludo = \"Hola Mundo\"\n",
        "print(saludo[::-1])"
      ]
    },
    {
      "cell_type": "markdown",
      "metadata": {
        "id": "MrlcmOMiIJqT"
      },
      "source": [
        "Hagamos un pequeño ejercicio:\n",
        "\n",
        "Defina la función `es_palindromo(palabra)`, que comprueba si `palabra` es palindromo o no, retornando `True` o `False`."
      ]
    },
    {
      "cell_type": "code",
      "execution_count": 3,
      "metadata": {
        "id": "XBtPtWmLIHvB"
      },
      "outputs": [],
      "source": [
        "def es_palindromo(palabra):\n",
        "  palabra = palabra.replace(\" \", \"\").lower()\n",
        "  return palabra == palabra[::-1]\n",
        "\n",
        "assert es_palindromo(\"reconocer\") == True\n",
        "assert es_palindromo(\"anita lava la tina\") == True\n",
        "assert es_palindromo(\"radar\") == True\n",
        "assert es_palindromo(\"Victor\") == False"
      ]
    },
    {
      "cell_type": "markdown",
      "metadata": {
        "id": "s-JSo-0qIbd_"
      },
      "source": [
        "### Funcionalidades importantes de los strings\n",
        "\n",
        "Los `strings` de Python contienen una variedad de utilidades que pueden ser util en el análisis de datos. A continuación veremos algunas de ellas\n",
        "\n",
        "#### `string.strip()`\n",
        "\n",
        "Supongamos que tenemos estamos leyendo strings desde una tabla, y nos damos cuenta que algunos de ellos tienen espacios al principio o al final (error muy común cuando se escriben datos en una tabla). La funcionalidad `string.strip()` nos permite eliminar **todos** los espacios (y algunos otros elementos) de `string`:"
      ]
    },
    {
      "cell_type": "code",
      "execution_count": 4,
      "metadata": {
        "id": "XSR7J7dlINKy"
      },
      "outputs": [
        {
          "data": {
            "text/plain": [
              "('o', ' ')"
            ]
          },
          "execution_count": 4,
          "metadata": {},
          "output_type": "execute_result"
        }
      ],
      "source": [
        "un_string = \"Un buen, Ejemplo \"\n",
        "un_string_clean = un_string.strip()\n",
        "\n",
        "# Vemos que los largos son distintos\n",
        "assert len(un_string) != len(un_string_clean)\n",
        "\n",
        "# Comprobemos el último elemento de cada uno\n",
        "(un_string_clean[-1], un_string[-1])"
      ]
    },
    {
      "cell_type": "markdown",
      "metadata": {
        "id": "ZVhVKJ1FIia5"
      },
      "source": [
        "Tambien existe `lstrip` para solo eliminar la parte izquierda (left), y `rstrip` para únicamente la parte derecha (right).\n",
        "\n",
        "#### `string.lower()` y `string.upper()`\n",
        "\n",
        "Nos permite dejar todo el string en minúsculas (lowercase) o mayúscula (uppercase):"
      ]
    },
    {
      "cell_type": "code",
      "execution_count": 5,
      "metadata": {
        "id": "UsDx6HAzIg-j"
      },
      "outputs": [
        {
          "name": "stdout",
          "output_type": "stream",
          "text": [
            "un buen, ejemplo \n",
            "UN BUEN, EJEMPLO \n"
          ]
        }
      ],
      "source": [
        "print(un_string.lower())\n",
        "print(un_string.upper())"
      ]
    },
    {
      "cell_type": "markdown",
      "metadata": {
        "id": "e0D-ZoRTInT2"
      },
      "source": [
        "#### `string.startswith(substring)` y `string.endswith(substring)`\n",
        "\n",
        "Nos permite saber si un string empieza (startswith) o termina (endswith) con un substring."
      ]
    },
    {
      "cell_type": "code",
      "execution_count": 6,
      "metadata": {
        "id": "wVl32rBQIlwi"
      },
      "outputs": [
        {
          "name": "stdout",
          "output_type": "stream",
          "text": [
            "True\n",
            "False\n"
          ]
        }
      ],
      "source": [
        "un_string = \"Un buen, Ejemplo \"\n",
        "print(un_string.startswith(\"Un\"))\n",
        "print(un_string.endswith(\"Ejemplo\"))"
      ]
    },
    {
      "cell_type": "markdown",
      "metadata": {
        "id": "MAWVeaOUIqRb"
      },
      "source": [
        "#### `string.replace(a,b)`\n",
        "\n",
        "Remplaza el substring `a` por el substring `b` dentro de `string`. Muy útil para limpiar strings."
      ]
    },
    {
      "cell_type": "code",
      "execution_count": 7,
      "metadata": {
        "id": "Oz4EHZj0Io6u"
      },
      "outputs": [
        {
          "name": "stdout",
          "output_type": "stream",
          "text": [
            "Un mal, Ejemplo \n"
          ]
        }
      ],
      "source": [
        "print(un_string.replace('buen', 'mal'))"
      ]
    },
    {
      "cell_type": "code",
      "execution_count": 8,
      "metadata": {
        "id": "0JejG_ZqIwUo"
      },
      "outputs": [
        {
          "data": {
            "text/plain": [
              "<function str.replace(old, new, count=-1, /)>"
            ]
          },
          "execution_count": 8,
          "metadata": {},
          "output_type": "execute_result"
        }
      ],
      "source": [
        "# Como podríamos usar esto para eliminar las comas?\n",
        "un_string.replace"
      ]
    },
    {
      "cell_type": "markdown",
      "metadata": {
        "id": "PBX-UiF1I3jD"
      },
      "source": [
        "#### `string.split(sep=\" \")`\n",
        "\n",
        "Corta `string` según cada aparición de `sep` dentro de este. Si no se define un valor, entonces se utiliza un espacio en blanco por defecto. El resultado final es una lista con cada uno de los elementos"
      ]
    },
    {
      "cell_type": "code",
      "execution_count": 9,
      "metadata": {
        "id": "mMl8CieLI4G2"
      },
      "outputs": [
        {
          "name": "stdout",
          "output_type": "stream",
          "text": [
            "['Un', 'buen,', 'Ejemplo,', '1']\n"
          ]
        }
      ],
      "source": [
        "un_string = \"Un buen, Ejemplo, 1 \"\n",
        "print(un_string.split())"
      ]
    },
    {
      "cell_type": "code",
      "execution_count": 10,
      "metadata": {
        "id": "aVR8BbbMI599"
      },
      "outputs": [
        {
          "name": "stdout",
          "output_type": "stream",
          "text": [
            "['Un buen', ' Ejemplo', ' 1 ']\n"
          ]
        }
      ],
      "source": [
        "print(un_string.split(\",\"))"
      ]
    },
    {
      "cell_type": "markdown",
      "metadata": {
        "id": "ixuZkOQ7JHUp"
      },
      "source": [
        "#### `string.capitalize()`\n",
        "\n",
        "Capitaliza un string (deja el primer caracter en mayúscula):"
      ]
    },
    {
      "cell_type": "code",
      "execution_count": 11,
      "metadata": {
        "id": "n-Um9B95JFpB"
      },
      "outputs": [
        {
          "name": "stdout",
          "output_type": "stream",
          "text": [
            "Hola mundo,que tal\n"
          ]
        }
      ],
      "source": [
        "otro_string = \"hola mundo,que tal\"\n",
        "print(otro_string.capitalize())"
      ]
    },
    {
      "cell_type": "markdown",
      "metadata": {
        "id": "AwWa8690JNfz"
      },
      "source": [
        "Veamos un ejercicio simple: transforme `\"Un buen, Ejemplo \"` en `\"Un buen ejemplo\"`."
      ]
    },
    {
      "cell_type": "code",
      "execution_count": 12,
      "metadata": {
        "id": "hrp0fCyWJJOi"
      },
      "outputs": [],
      "source": [
        "un_string = \"Un buen, Ejemplo \"\n",
        "\n",
        "un_string_clean = un_string.capitalize().replace(',',\"\").strip()\n",
        "un_string_clean\n",
        "\n",
        "assert un_string_clean == \"Un buen ejemplo\""
      ]
    },
    {
      "cell_type": "markdown",
      "metadata": {
        "id": "rD_Me8N_JckJ"
      },
      "source": [
        "## Más información sobre funciones\n",
        "\n",
        "Hasta ahora hemos visto lo básico de funciones, sabiendo ya como aplicarlas y definirlas. Ahora bien, nos faltan dos conceptos de interés:\n",
        "\n",
        "- Recursividad\n",
        "- Funciones anónimas (lambda functions)\n",
        "\n",
        "### Recursividad\n",
        "\n",
        "Un concepto no menos importante es el de *función recursiva*. Una función recursiva resuelve un problema llamándose a sí misma con argumentos que van siendo modificados en cada paso. Cada vez que la función se llama a sí misma, se acerca a una condición de parada que detiene la recursión. Sin esta condición de parada, la recursión continuaría indefinidamente.\n",
        "\n",
        "Hay dos componentes claves en una función recursiva:\n",
        "\n",
        "1. Caso base o condición de parada: Indica cuando se debe detener la recursión\n",
        "2. Llamada recursiva: El cuerpo de la función\n",
        "\n",
        "Recordemos la función para obtener el factorial de un número (sin casos bordes):"
      ]
    },
    {
      "cell_type": "code",
      "execution_count": 13,
      "metadata": {
        "id": "4Bea9DSaJR1F"
      },
      "outputs": [
        {
          "data": {
            "text/plain": [
              "6"
            ]
          },
          "execution_count": 13,
          "metadata": {},
          "output_type": "execute_result"
        }
      ],
      "source": [
        "def factorial(n):\n",
        "  resultado = 1\n",
        "  for i in range(1, n+1):\n",
        "    resultado *= i\n",
        "  return resultado\n",
        "\n",
        "factorial(3)"
      ]
    },
    {
      "cell_type": "markdown",
      "metadata": {
        "id": "ynlrKJH_LXNB"
      },
      "source": [
        "Podemos definirla usando recursividad:\n",
        "\n",
        "- Caso base: Si $n=0$, entonces retornar 1\n",
        "- Llamada recursiva: llamarse a si misma con argumento $(n-1)$ y multiplicar dicho valor por $n$."
      ]
    },
    {
      "cell_type": "code",
      "execution_count": 14,
      "metadata": {
        "id": "jce7pYHOLWJj"
      },
      "outputs": [
        {
          "data": {
            "text/plain": [
              "6"
            ]
          },
          "execution_count": 14,
          "metadata": {},
          "output_type": "execute_result"
        }
      ],
      "source": [
        "def factorial_recursivo(n):\n",
        "  # caso base:\n",
        "  if n == 0:\n",
        "    return 1\n",
        "\n",
        "  # llamada recursiva\n",
        "  else:\n",
        "    return n * factorial_recursivo(n-1)\n",
        "\n",
        "factorial_recursivo(3)"
      ]
    },
    {
      "cell_type": "markdown",
      "metadata": {
        "id": "YM3Uw_CQMcTW"
      },
      "source": [
        "Podemos entender esto viendo a partir del siguiente diagrama:\n",
        "\n",
        "```python\n",
        "factorial_recursivo(3)\n",
        "├── 3 * factorial_recursivo(2)\n",
        "|       ├── 2 * factorial_recursivo(1)\n",
        "|       |       ├── 1 * factorial_recursivo(0)\n",
        "|       |       │       └── 1  (caso base)\n",
        "|       |       └── 1 * 1 = 1\n",
        "|       └──  2 * 1 = 2\n",
        "└── 3 * 2 = 6\n",
        "```"
      ]
    },
    {
      "cell_type": "markdown",
      "metadata": {
        "id": "MHSNEQS1Obnk"
      },
      "source": [
        "Recordemos Fibonacci:\n",
        "\n",
        "$f_n = f_{n-1} + f_{n-2}$\n",
        "\n",
        "Siendo $f_0=0$ y $f_1=1$ por definición.\n",
        "\n",
        "Los primeros 10 números de la sucesion de Fibonacci son $0, 1, 1, 2, 3, 5, 8, 13,21,34$"
      ]
    },
    {
      "cell_type": "code",
      "execution_count": 15,
      "metadata": {
        "id": "lFp9fI5PObAN"
      },
      "outputs": [
        {
          "data": {
            "text/plain": [
              "6765"
            ]
          },
          "execution_count": 15,
          "metadata": {},
          "output_type": "execute_result"
        }
      ],
      "source": [
        "def fib(n):\n",
        "  # caso base\n",
        "  if n == 0:\n",
        "    return 0\n",
        "\n",
        "  if n == 1:\n",
        "    return 1\n",
        "    \n",
        "  # llamada recursiva\n",
        "  return fib(n - 1) + fib (n - 2)\n",
        "\n",
        "fib(20)"
      ]
    },
    {
      "cell_type": "markdown",
      "metadata": {
        "id": "DQji7SKzO63j"
      },
      "source": [
        "### Funciones anónimas (Funciones Lambda)\n",
        "\n",
        "Las funciones anónimas, también conocidas como *funciones lambda*, son una característica poderosa en Python que permite crear funciones pequeñas y de una sola línea sin necesidad de definirlas con un nombre usando la keyword `def`. Son particularmente útiles cuando se necesita una función simple y rápida, especialmente como argumentos en otras funciones.\n",
        "\n",
        "Una función lambda se define utilizando el keyword `lambda`, seguida de los argumentos, dos puntos, y la expresión a evaluar y retornar. La sintaxis es la siguiente:\n",
        "\n",
        "```python\n",
        "lambda argumentos: expresión\n",
        "```\n",
        "\n",
        "Veamos un par de ejemplos:"
      ]
    },
    {
      "cell_type": "code",
      "execution_count": 18,
      "metadata": {
        "id": "7OY9afWQMWWf"
      },
      "outputs": [
        {
          "data": {
            "text/plain": [
              "8"
            ]
          },
          "execution_count": 18,
          "metadata": {},
          "output_type": "execute_result"
        }
      ],
      "source": [
        "# Función que suma dos numeros\n",
        "suma = lambda x, y: x + y\n",
        "suma(5,3)"
      ]
    },
    {
      "cell_type": "code",
      "execution_count": 19,
      "metadata": {
        "id": "ITagQcWNL5kX"
      },
      "outputs": [
        {
          "data": {
            "text/plain": [
              "16"
            ]
          },
          "execution_count": 19,
          "metadata": {},
          "output_type": "execute_result"
        }
      ],
      "source": [
        "# Función que eleva un número al cuadrado\n",
        "cuadrado = lambda x : x**2\n",
        "cuadrado(4)"
      ]
    },
    {
      "cell_type": "markdown",
      "metadata": {
        "id": "jKiTsB4HQHEG"
      },
      "source": [
        "Un caso de uso sencillo, es el de querer ordenar una lista de diccionarios en base a una clave en particular. Veamos el siguiente ejemplo usando la función sorted:"
      ]
    },
    {
      "cell_type": "code",
      "execution_count": 20,
      "metadata": {
        "id": "1NsGsG48Qe42"
      },
      "outputs": [
        {
          "name": "stdout",
          "output_type": "stream",
          "text": [
            "Help on built-in function sorted in module builtins:\n",
            "\n",
            "sorted(iterable, /, *, key=None, reverse=False)\n",
            "    Return a new list containing all items from the iterable in ascending order.\n",
            "\n",
            "    A custom key function can be supplied to customize the sort order, and the\n",
            "    reverse flag can be set to request the result in descending order.\n",
            "\n"
          ]
        }
      ],
      "source": [
        "help(sorted)"
      ]
    },
    {
      "cell_type": "code",
      "execution_count": 21,
      "metadata": {
        "id": "KCXItKLAQNv0"
      },
      "outputs": [
        {
          "data": {
            "text/plain": [
              "[{'nombre': 'Pedro', 'edad': 20},\n",
              " {'nombre': 'Juan', 'edad': 21},\n",
              " {'nombre': 'Ana', 'edad': 22}]"
            ]
          },
          "execution_count": 21,
          "metadata": {},
          "output_type": "execute_result"
        }
      ],
      "source": [
        "estudiantes = [\n",
        "    {'nombre': 'Juan', 'edad': 21},\n",
        "    {'nombre': 'Ana', 'edad': 22},\n",
        "    {'nombre': 'Pedro', 'edad': 20}\n",
        "]\n",
        "\n",
        "# usamos la función sorted\n",
        "estudiantes_por_edad = sorted(estudiantes, key=lambda x: x['edad'])\n",
        "estudiantes_por_edad"
      ]
    },
    {
      "cell_type": "markdown",
      "metadata": {
        "id": "W5PnufsMP5pi"
      },
      "source": [
        "Por ahora no hay muchos casos de uso en el ámbito de Data Science donde las funciones lambdas sean de mucha utilidad. Sin embargo, cuando veamos otras estructuras de datos más sofisticadas veremos como sacarle más provecho a estas funciones."
      ]
    },
    {
      "cell_type": "markdown",
      "metadata": {
        "id": "qhoQxawyQ8-m"
      },
      "source": [
        "## Clases\n",
        "\n",
        "\n",
        "Podemos entender una clase como una plantilla que define un objeto, la cual almacenará datos y funcionalidades (métodos) que operan sobre estos datos. Este concepto es fundamental en la *Programación Orientada en Objetos (POO)*, muy común en muchos otros lenguajes de programación.\n",
        "\n",
        "La sintaxis de las clases es la siguiente:\n",
        "\n",
        "```python\n",
        "class NombreClase: # nombre de la clase\n",
        "\n",
        "  def __init__(self, param1, param2, ..., paramN): # metodo de inicializacion\n",
        "    self.param1 = param1 # asignamos param1 como atributo de la clase\n",
        "    ...\n",
        "\n",
        "  def metodo1(self): # Método de la clase\n",
        "    ...\n",
        "```\n",
        "\n",
        "Notar que constantemente se utiliza `self`. En Python, esto significa que uno se está refiriendo a la clase misma. Veamos un ejemplo más concreto"
      ]
    },
    {
      "cell_type": "code",
      "execution_count": 33,
      "metadata": {
        "id": "xwtyllidQ8c3"
      },
      "outputs": [
        {
          "name": "stdout",
          "output_type": "stream",
          "text": [
            "<__main__.Usuario object at 0x000001EDAA52C3E0>\n"
          ]
        }
      ],
      "source": [
        "class Usuario:\n",
        "\n",
        "  def __init__(self, nombre, numero, correo, pais=\"Chile\"):\n",
        "    self.nombre = nombre\n",
        "    self.numero = numero\n",
        "    self.correo = correo\n",
        "    self.pais = pais\n",
        "\n",
        "\n",
        "# En las clases, el metodo __init__ no se llama de forma explicita\n",
        "un_usuario = Usuario(nombre=\"Victor\", numero=\"+56987654321\", correo=\"victor.saldivia@ulagos.cl\")\n",
        "print(un_usuario) # Es un objeto!"
      ]
    },
    {
      "cell_type": "markdown",
      "metadata": {
        "id": "nSyxeqBW62B2"
      },
      "source": [
        "Una vez definida una clase y sus atributos, podemos por ejemplo acceder a sus elementos directamente usando `objeto.atributo`:"
      ]
    },
    {
      "cell_type": "code",
      "execution_count": 34,
      "metadata": {
        "id": "2w3BMdZm6zR5"
      },
      "outputs": [
        {
          "name": "stdout",
          "output_type": "stream",
          "text": [
            "+56987654321\n"
          ]
        }
      ],
      "source": [
        "print(un_usuario.numero)"
      ]
    },
    {
      "cell_type": "markdown",
      "metadata": {
        "id": "Q5gT86z965lJ"
      },
      "source": [
        "Notar que este objeto tiene cierta similaridad con la parte de *diccionarios* que vimos en la clase anterior:"
      ]
    },
    {
      "cell_type": "code",
      "execution_count": 39,
      "metadata": {
        "id": "XmXl997765ND"
      },
      "outputs": [
        {
          "name": "stdout",
          "output_type": "stream",
          "text": [
            "+56987654321\n"
          ]
        }
      ],
      "source": [
        "un_usuario_dict = {\"nombre\": \"Victor\", \"numero\": \"+56987654321\",\n",
        "                   \"correo\": \"victor@ulagos.cl\", \"pais\": \"Chile\"}\n",
        "\n",
        "print(un_usuario_dict[\"numero\"])"
      ]
    },
    {
      "cell_type": "markdown",
      "metadata": {
        "id": "xqxzAvna7Cko"
      },
      "source": [
        "En Python podemos ver un objeto como diccionario usando `objeto.__dict__`"
      ]
    },
    {
      "cell_type": "code",
      "execution_count": 36,
      "metadata": {
        "id": "kUqHnFVU6-b6"
      },
      "outputs": [
        {
          "name": "stdout",
          "output_type": "stream",
          "text": [
            "{'nombre': 'Victor', 'numero': '+56987654321', 'correo': 'victor.saldivia@ulagos.cl', 'pais': 'Chile'}\n"
          ]
        },
        {
          "ename": "AssertionError",
          "evalue": "",
          "output_type": "error",
          "traceback": [
            "\u001b[31m---------------------------------------------------------------------------\u001b[39m",
            "\u001b[31mAssertionError\u001b[39m                            Traceback (most recent call last)",
            "\u001b[36mCell\u001b[39m\u001b[36m \u001b[39m\u001b[32mIn[36]\u001b[39m\u001b[32m, line 4\u001b[39m\n\u001b[32m      1\u001b[39m \u001b[38;5;28mprint\u001b[39m(un_usuario.\u001b[34m__dict__\u001b[39m)\n\u001b[32m      3\u001b[39m \u001b[38;5;66;03m# Comprobamos que son iguales\u001b[39;00m\n\u001b[32m----> \u001b[39m\u001b[32m4\u001b[39m \u001b[38;5;28;01massert\u001b[39;00m un_usuario.\u001b[34m__dict__\u001b[39m == un_usuario_dict\n",
            "\u001b[31mAssertionError\u001b[39m: "
          ]
        }
      ],
      "source": [
        "print(un_usuario.__dict__)\n",
        "\n",
        "# Comprobamos que son iguales\n",
        "assert un_usuario.__dict__ == un_usuario_dict"
      ]
    },
    {
      "cell_type": "markdown",
      "metadata": {
        "id": "jyg_bAHQ7MSF"
      },
      "source": [
        "Ahora bien, solo hemos visto el método para construir la clase. Empecemos a mejorar la clase añadiendo nuevos métodos:\n",
        "\n",
        "1. Queremos un método que al ser llamado, retorne el código del número asociado al usuario, por ejemplo `un_usuario.codigo_telefono()` debería retornar \"+56\""
      ]
    },
    {
      "cell_type": "code",
      "execution_count": 38,
      "metadata": {
        "id": "0QoBBqqM6_Bi"
      },
      "outputs": [],
      "source": [
        "class Usuario:\n",
        "\n",
        "  def __init__(self, nombre, numero, correo, pais=\"Chile\"):\n",
        "    self.nombre = nombre\n",
        "    self.numero = numero\n",
        "    self.correo = correo\n",
        "    self.pais = pais\n",
        "\n",
        "  def codigo_telefono(self):\n",
        "    return self.numero[:3]\n",
        "\n",
        "un_usuario = Usuario(nombre=\"Victor\", numero=\"+56987654321\", correo=\"victor.saldivia@ulagos.cl\")\n",
        "\n",
        "# Tests\n",
        "assert un_usuario.codigo_telefono() == \"+56\""
      ]
    },
    {
      "cell_type": "markdown",
      "metadata": {
        "id": "29E717yM7ev5"
      },
      "source": [
        "Pero notemos puede que número no sea ingresado con \"+\". Hagamos una mejora:\n",
        "\n",
        "2. Validar que `numero` empiece con \"+\". Si no lo tiene, agregarlo a `numero`."
      ]
    },
    {
      "cell_type": "code",
      "execution_count": 37,
      "metadata": {
        "id": "9NR151c27bm5"
      },
      "outputs": [],
      "source": [
        "class Usuario:\n",
        "\n",
        "  def __init__(self, nombre, numero, correo, pais=\"Chile\"):\n",
        "    self.nombre = nombre\n",
        "    self.numero = numero\n",
        "    #if self.numero = \"+\" + self.numero:\n",
        "    self.correo = correo\n",
        "    self.pais = pais\n",
        "\n",
        "  def codigo_telefono(self):\n",
        "    return self.numero[:3]\n",
        "\n",
        "\n",
        "un_usuario = Usuario(nombre=\"Victor\", numero=\"+56987654321\", correo=\"victor.saldivia@ulagos.cl\")\n",
        "\n",
        "# Tests\n",
        "assert un_usuario.codigo_telefono() == \"+56\""
      ]
    },
    {
      "cell_type": "markdown",
      "metadata": {
        "id": "t0DtsdM_75Bd"
      },
      "source": [
        "Otra posibilidad interesante sería *mostrar un error* si por ej, número no tiene el largo suficiente, o si el correo no contiene el símbolo `@`. Para entender esto veamos primero los Excepciones en Python\n",
        "\n",
        "## Errores y manejo de errores\n",
        "\n",
        "Python, así como en muchos lenguajes de programación, muestra un mensaje de error cuando hay un problema en el código. Dicho mensaje corresponde a una `exception` en Python.\n",
        "\n",
        "Existen tipos comunes de excepciones:\n",
        "\n",
        "- **SyntaxError**: Error en la sintaxis del código.\n",
        "- **TypeError**: Error cuando una operación se realiza en un objeto de tipo inapropiado.\n",
        "- **ValueError**: Error cuando una función recibe un argumento de tipo correcto pero valor inapropiado.\n",
        "- **IndexError**: Error cuando se intenta acceder a un índice que no existe en una secuencia.\n",
        "- **KeyError**: Error cuando se intenta acceder a una clave que no existe en un diccionario.\n",
        "- **ZeroDivisionError**: Error cuando se intenta dividir por cero.\n",
        "\n",
        "Veamos por ejemplo la división por cero:"
      ]
    },
    {
      "cell_type": "code",
      "execution_count": 41,
      "metadata": {
        "id": "F6E8A_ws72GH"
      },
      "outputs": [
        {
          "ename": "ZeroDivisionError",
          "evalue": "division by zero",
          "output_type": "error",
          "traceback": [
            "\u001b[31m---------------------------------------------------------------------------\u001b[39m",
            "\u001b[31mZeroDivisionError\u001b[39m                         Traceback (most recent call last)",
            "\u001b[36mCell\u001b[39m\u001b[36m \u001b[39m\u001b[32mIn[41]\u001b[39m\u001b[32m, line 1\u001b[39m\n\u001b[32m----> \u001b[39m\u001b[32m1\u001b[39m \u001b[32;43m10\u001b[39;49m\u001b[43m/\u001b[49m\u001b[32;43m0\u001b[39;49m\n",
            "\u001b[31mZeroDivisionError\u001b[39m: division by zero"
          ]
        }
      ],
      "source": [
        "10/0"
      ]
    },
    {
      "cell_type": "markdown",
      "metadata": {
        "id": "scanptef9QkE"
      },
      "source": [
        "Así como Python tiene excepciones predefinidas, nosotros también podemos definir algunas. Volvamos al ejemplo de la función recursiva:"
      ]
    },
    {
      "cell_type": "code",
      "execution_count": 42,
      "metadata": {
        "id": "5kSBt_DQ8af8"
      },
      "outputs": [
        {
          "data": {
            "text/plain": [
              "6"
            ]
          },
          "execution_count": 42,
          "metadata": {},
          "output_type": "execute_result"
        }
      ],
      "source": [
        "def factorial(n):\n",
        "  return 1 if n == 0 else n * factorial(n-1)\n",
        "\n",
        "factorial(3)"
      ]
    },
    {
      "cell_type": "markdown",
      "metadata": {
        "id": "9oUHooCm9wu3"
      },
      "source": [
        "Podemos incluir un validador sobre `n`, de tal modo que si hay un valor negativo \"levantar\" una excepción del tipo *ValueError*:"
      ]
    },
    {
      "cell_type": "code",
      "execution_count": 43,
      "metadata": {
        "id": "S_lfk0BC9vRD"
      },
      "outputs": [
        {
          "ename": "ValueError",
          "evalue": "n debe ser mayor o igual a 0",
          "output_type": "error",
          "traceback": [
            "\u001b[31m---------------------------------------------------------------------------\u001b[39m",
            "\u001b[31mValueError\u001b[39m                                Traceback (most recent call last)",
            "\u001b[36mCell\u001b[39m\u001b[36m \u001b[39m\u001b[32mIn[43]\u001b[39m\u001b[32m, line 6\u001b[39m\n\u001b[32m      3\u001b[39m     \u001b[38;5;28;01mraise\u001b[39;00m \u001b[38;5;167;01mValueError\u001b[39;00m(\u001b[33m\"\u001b[39m\u001b[33mn debe ser mayor o igual a 0\u001b[39m\u001b[33m\"\u001b[39m)\n\u001b[32m      4\u001b[39m   \u001b[38;5;28;01mreturn\u001b[39;00m \u001b[32m1\u001b[39m \u001b[38;5;28;01mif\u001b[39;00m n == \u001b[32m0\u001b[39m \u001b[38;5;28;01melse\u001b[39;00m n * factorial_v2(n-\u001b[32m1\u001b[39m)\n\u001b[32m----> \u001b[39m\u001b[32m6\u001b[39m \u001b[43mfactorial_v2\u001b[49m\u001b[43m(\u001b[49m\u001b[43m-\u001b[49m\u001b[32;43m1\u001b[39;49m\u001b[43m)\u001b[49m\n",
            "\u001b[36mCell\u001b[39m\u001b[36m \u001b[39m\u001b[32mIn[43]\u001b[39m\u001b[32m, line 3\u001b[39m, in \u001b[36mfactorial_v2\u001b[39m\u001b[34m(n)\u001b[39m\n\u001b[32m      1\u001b[39m \u001b[38;5;28;01mdef\u001b[39;00m\u001b[38;5;250m \u001b[39m\u001b[34mfactorial_v2\u001b[39m(n):\n\u001b[32m      2\u001b[39m   \u001b[38;5;28;01mif\u001b[39;00m n < \u001b[32m0\u001b[39m:\n\u001b[32m----> \u001b[39m\u001b[32m3\u001b[39m     \u001b[38;5;28;01mraise\u001b[39;00m \u001b[38;5;167;01mValueError\u001b[39;00m(\u001b[33m\"\u001b[39m\u001b[33mn debe ser mayor o igual a 0\u001b[39m\u001b[33m\"\u001b[39m)\n\u001b[32m      4\u001b[39m   \u001b[38;5;28;01mreturn\u001b[39;00m \u001b[32m1\u001b[39m \u001b[38;5;28;01mif\u001b[39;00m n == \u001b[32m0\u001b[39m \u001b[38;5;28;01melse\u001b[39;00m n * factorial_v2(n-\u001b[32m1\u001b[39m)\n",
            "\u001b[31mValueError\u001b[39m: n debe ser mayor o igual a 0"
          ]
        }
      ],
      "source": [
        "def factorial_v2(n):\n",
        "  if n < 0:\n",
        "    raise ValueError(\"n debe ser mayor o igual a 0\")\n",
        "  return 1 if n == 0 else n * factorial_v2(n-1)\n",
        "\n",
        "factorial_v2(-1)"
      ]
    },
    {
      "cell_type": "markdown",
      "metadata": {
        "id": "PaNRjhOz-UlM"
      },
      "source": [
        "Ahora bien, en muchos casos nos podemos topar con el caso donde sabemos que un código pueda posiblemente activar una excepción, y queremos controlar esos casos. Para ello están los bloques `try-except-finally` en Python, cuya sintaxis es la siguiente:\n",
        "\n",
        "```python\n",
        "try:\n",
        "    # Bloque de código que puede lanzar una excepción\n",
        "    ...\n",
        "except algunaExcepcion as e:\n",
        "    # Bloque de código que se ejecuta si ocurre la excepcion algunaExcepcion\n",
        "    ...\n",
        "finally:\n",
        "    # Bloque de código que se ejecuta siempre, ocurra o no una excepción\n",
        "    ...\n",
        "```\n",
        "\n",
        "El `finally` es opcional, por lo que se puede omitir cuando se quieran manejar errores en Python. Volvamos al ejemplo de nuestra funcion `factorial_v2`:"
      ]
    },
    {
      "cell_type": "code",
      "execution_count": 44,
      "metadata": {
        "id": "Sll3o_iQ9rWs"
      },
      "outputs": [
        {
          "name": "stdout",
          "output_type": "stream",
          "text": [
            "Algo salió mal\n",
            "Fin\n"
          ]
        }
      ],
      "source": [
        "try:\n",
        "  factorial_v2(-1)\n",
        "  print(\"No hubieron problemas\")\n",
        "except:\n",
        "  print(\"Algo salió mal\")\n",
        "finally:\n",
        "  print(\"Fin\")\n"
      ]
    },
    {
      "cell_type": "markdown",
      "metadata": {
        "id": "QxiKaTd-_cVX"
      },
      "source": [
        "Teniendo conocimiento de esto, mejoremos nuestra clase:"
      ]
    },
    {
      "cell_type": "code",
      "execution_count": 49,
      "metadata": {
        "id": "Z3jRqRUe_O8B"
      },
      "outputs": [
        {
          "ename": "AssertionError",
          "evalue": "",
          "output_type": "error",
          "traceback": [
            "\u001b[31m---------------------------------------------------------------------------\u001b[39m",
            "\u001b[31mAssertionError\u001b[39m                            Traceback (most recent call last)",
            "\u001b[36mCell\u001b[39m\u001b[36m \u001b[39m\u001b[32mIn[49]\u001b[39m\u001b[32m, line 19\u001b[39m\n\u001b[32m     16\u001b[39m un_usuario = Usuario(nombre=\u001b[33m\"\u001b[39m\u001b[33mVictor\u001b[39m\u001b[33m\"\u001b[39m, numero=\u001b[33m\"\u001b[39m\u001b[33m+56987654321\u001b[39m\u001b[33m\"\u001b[39m, correo=\u001b[33m\"\u001b[39m\u001b[33mvictor.saldivia@ulagos.cl\u001b[39m\u001b[33m\"\u001b[39m)\n\u001b[32m     18\u001b[39m \u001b[38;5;66;03m# Tests\u001b[39;00m\n\u001b[32m---> \u001b[39m\u001b[32m19\u001b[39m \u001b[38;5;28;01massert\u001b[39;00m un_usuario.codigo_telefono() == \u001b[33m\"\u001b[39m\u001b[33m+56\u001b[39m\u001b[33m\"\u001b[39m\n",
            "\u001b[31mAssertionError\u001b[39m: "
          ]
        }
      ],
      "source": [
        "class Usuario:\n",
        "\n",
        "  def __init__(self, nombre, numero, correo, pais=\"Chile\"):\n",
        "    self.nombre = nombre\n",
        "    self.numero = numero\n",
        "    # validar que numero parta con \"+\", si no, agregarselo\n",
        "    #if self.numero[0] != \"+\":\n",
        "      #self.numero\n",
        "    self.correo = correo\n",
        "    self.pais = pais\n",
        "\n",
        "  def codigo_telefono(self):\n",
        "    ...\n",
        "\n",
        "\n",
        "un_usuario = Usuario(nombre=\"Victor\", numero=\"+56987654321\", correo=\"victor.saldivia@ulagos.cl\")\n",
        "\n",
        "# Tests\n",
        "assert un_usuario.codigo_telefono() == \"+56\""
      ]
    },
    {
      "cell_type": "markdown",
      "metadata": {
        "id": "6kn-bgW9_m-2"
      },
      "source": [
        "Queremos:\n",
        "\n",
        "1. Validar que `numero` tenga 11 digitos junto al símbolo \"+\". Si no, levantar una excepción **ValueError**\n",
        "2. Validar que correo contenga \"@\". Si no, levantar una excepción **ValueError**"
      ]
    },
    {
      "cell_type": "code",
      "execution_count": 51,
      "metadata": {
        "id": "5Zd9EeLUANCE"
      },
      "outputs": [
        {
          "ename": "AssertionError",
          "evalue": "",
          "output_type": "error",
          "traceback": [
            "\u001b[31m---------------------------------------------------------------------------\u001b[39m",
            "\u001b[31mAssertionError\u001b[39m                            Traceback (most recent call last)",
            "\u001b[36mCell\u001b[39m\u001b[36m \u001b[39m\u001b[32mIn[51]\u001b[39m\u001b[32m, line 23\u001b[39m\n\u001b[32m     20\u001b[39m un_usuario = Usuario(nombre=\u001b[33m\"\u001b[39m\u001b[33mVictor\u001b[39m\u001b[33m\"\u001b[39m, numero=\u001b[33m\"\u001b[39m\u001b[33m+56987654321\u001b[39m\u001b[33m\"\u001b[39m, correo=\u001b[33m\"\u001b[39m\u001b[33mvictor.saldivia@ulagos.cl\u001b[39m\u001b[33m\"\u001b[39m)\n\u001b[32m     22\u001b[39m \u001b[38;5;66;03m# Tests\u001b[39;00m\n\u001b[32m---> \u001b[39m\u001b[32m23\u001b[39m \u001b[38;5;28;01massert\u001b[39;00m un_usuario.codigo_telefono() == \u001b[33m\"\u001b[39m\u001b[33m+56\u001b[39m\u001b[33m\"\u001b[39m\n",
            "\u001b[31mAssertionError\u001b[39m: "
          ]
        }
      ],
      "source": [
        "class Usuario:\n",
        "\n",
        "  def __init__(self, nombre, numero, correo, pais=\"Chile\"):\n",
        "    self.nombre = nombre\n",
        "    # validar que numero tenga largo 11 (sin contar el +)\n",
        "    # ..\n",
        "    self.numero = numero\n",
        "    # validar que numero parta con \"+\", si no, agregarselo\n",
        "    # ...\n",
        "\n",
        "    # validar que correo contenga \"@\"\n",
        "    # ...\n",
        "    self.correo = correo\n",
        "    self.pais = pais\n",
        "\n",
        "  def codigo_telefono(self):\n",
        "    ...\n",
        "\n",
        "\n",
        "un_usuario = Usuario(nombre=\"Victor\", numero=\"+56987654321\", correo=\"victor.saldivia@ulagos.cl\")\n",
        "\n",
        "# Tests\n",
        "assert un_usuario.codigo_telefono() == \"+56\""
      ]
    },
    {
      "cell_type": "markdown",
      "metadata": {
        "id": "vEjaKK1qDNzg"
      },
      "source": [
        "#### Ejercicios\n",
        "\n",
        "Considere la clase `DataHelper`, la cual almacena una lista de números:"
      ]
    },
    {
      "cell_type": "code",
      "execution_count": 53,
      "metadata": {
        "id": "lFM6ANQxESQu"
      },
      "outputs": [
        {
          "data": {
            "text/plain": [
              "[1, 3, 0]"
            ]
          },
          "execution_count": 53,
          "metadata": {},
          "output_type": "execute_result"
        }
      ],
      "source": [
        "\n",
        "class DataHelper:\n",
        "  def __init__(self, data):\n",
        "    if not all(isinstance(dato, (int, float)) for dato in data): #si el dato es de tipo int o float va a dar True (eso hace 'isinstance') - 'all' indica que todas las condiciones se cumplan\n",
        "      raise ValueError(\"Los elementos de \\\"data\\\" deben ser únicamente números\")\n",
        "    self.data = data\n",
        "\n",
        "  def agregar_dato(self, dato):\n",
        "    if not isinstance(dato, (int, float)):\n",
        "      raise ValueError(\"El dato agregado debe ser un número\")\n",
        "    self.data.append(dato)\n",
        "\n",
        "  def eliminar_dato(self, dato):\n",
        "    if dato in self.data:\n",
        "      self.data.remove(dato)\n",
        "\n",
        "  def obtener_datos(self):\n",
        "    return self.data\n",
        "\n",
        "data_helper = DataHelper([1, 3, 0])\n",
        "#data_helper.agregar_dato(4)\n",
        "data_helper.obtener_datos()"
      ]
    },
    {
      "cell_type": "code",
      "execution_count": 54,
      "metadata": {},
      "outputs": [
        {
          "data": {
            "text/plain": [
              "True"
            ]
          },
          "execution_count": 54,
          "metadata": {},
          "output_type": "execute_result"
        }
      ],
      "source": [
        "any(isinstance(dato, (int, float)) for dato in [1,3,0,\"a\"])"
      ]
    },
    {
      "cell_type": "markdown",
      "metadata": {
        "id": "9jZW1XHiDMAf"
      },
      "source": [
        "1. Defina los métodos:\n",
        "  - `sum()`: Calcula la suma del total de datos\n",
        "  - `len()`: Cuenta el número total de datos\n",
        "  - `max()`: Obtiene el máximo entre los datos\n",
        "  - `min()`: Obtiene el mínimo entre los datos"
      ]
    },
    {
      "cell_type": "code",
      "execution_count": 57,
      "metadata": {
        "id": "i5E0QqGlBBa5"
      },
      "outputs": [],
      "source": [
        "class DataHelper:\n",
        "  def __init__(self, data):\n",
        "    if not all(isinstance(dato, (int, float)) for dato in data):\n",
        "      raise ValueError(\"Los elementos de \\\"data\\\" deben ser únicamente números\")\n",
        "    self.data = data\n",
        "\n",
        "  def agregar_dato(self, dato):\n",
        "    if not isinstance(dato, (int, float)):\n",
        "      raise ValueError(\"El dato agregado debe ser un número\")\n",
        "    self.data.append(dato)\n",
        "\n",
        "  def eliminar_dato(self, dato):\n",
        "    if dato in self.data:\n",
        "      self.data.remove(dato)\n",
        "\n",
        "  def obtener_datos(self):\n",
        "    return self.data\n",
        "\n",
        "  def sum(self):\n",
        "    return sum(self.obtener_datos())\n",
        "\n",
        "  def len(self):\n",
        "    return len(self.obtener_datos())\n",
        "\n",
        "  def max(self):\n",
        "    return max(self.obtener_datos())\n",
        "\n",
        "  def min(self):\n",
        "    return min(self.obtener_datos())\n",
        "\n",
        "# Tests\n",
        "data_helper = DataHelper([1, 3, 0])\n",
        "assert data_helper.sum() == 4, \"resultado incorrecto\"\n",
        "assert data_helper.len() == 3, \"resultado incorrecto\"\n",
        "assert data_helper.max() == 3, \"resultado incorrecto\"\n",
        "assert data_helper.min() == 0, \"resultado incorrecto\""
      ]
    },
    {
      "cell_type": "markdown",
      "metadata": {
        "id": "dhcF8pa6GReW"
      },
      "source": [
        "2. Defina los siguiente métodos:\n",
        "  - `mean()`: Calcula el promedio de los datos $\\Large \\mu = \\frac{\\sum_{i=0}^n x_i}{n}$\n",
        "  - `std()`: Calcula la desviación estandar de los datos $\\Large \\sigma = \\sqrt{\\frac{\\sum_{i=0}^n (x_i - \\mu)^2}{n}}$\n",
        "  - `normalize()`: Que normaliza los datos usando un enfoque `max-min`, i.e., restando el valor mínimo y dividiendo por la diferencia entre `max` y `min` $\\Large \\tilde{x}_i = \\frac{x_i - \\min(x)}{\\max(x) - \\min(x)}$\n"
      ]
    },
    {
      "cell_type": "code",
      "execution_count": 58,
      "metadata": {},
      "outputs": [
        {
          "data": {
            "text/plain": [
              "1.2472235832707248"
            ]
          },
          "execution_count": 58,
          "metadata": {},
          "output_type": "execute_result"
        }
      ],
      "source": [
        "datos = [1, 3, 0]\n",
        "promedio = 1.33\n",
        "(sum([(dato - promedio)**2 for dato in datos]) / len(datos)) **0.5"
      ]
    },
    {
      "cell_type": "code",
      "execution_count": 59,
      "metadata": {
        "id": "g9waAaIvEmaZ"
      },
      "outputs": [],
      "source": [
        "class DataHelper:\n",
        "  def __init__(self, data):\n",
        "    if not all(isinstance(dato, (int, float)) for dato in data):\n",
        "      raise ValueError(\"Los elementos de \\\"data\\\" deben ser únicamente números\")\n",
        "    self.data = data\n",
        "\n",
        "  def agregar_dato(self, dato):\n",
        "    if not isinstance(dato, (int, float)):\n",
        "      raise ValueError(\"El dato agregado debe ser un número\")\n",
        "    self.data.append(dato)\n",
        "\n",
        "  def eliminar_dato(self, dato):\n",
        "    if dato in self.data:\n",
        "      self.data.remove(dato)\n",
        "\n",
        "  def obtener_datos(self):\n",
        "    return self.data\n",
        "\n",
        "  def sum(self):\n",
        "    return sum(self.obtener_datos())\n",
        "\n",
        "  def len(self):\n",
        "    return len(self.obtener_datos())\n",
        "\n",
        "  def max(self):\n",
        "    return max(self.obtener_datos())\n",
        "\n",
        "  def min(self):\n",
        "    return min(self.obtener_datos())\n",
        "\n",
        "  def mean(self):\n",
        "    return self.sum() / self.len()\n",
        "\n",
        "  def std(self):\n",
        "    promedio = self.mean()\n",
        "    suma = sum([(dato - promedio)**2 for dato in self.obtener_datos()])\n",
        "    return (suma / self.len()) ** 0.5\n",
        "\n",
        "  def normalize(self):\n",
        "    min = self.min()\n",
        "    max = self.max()\n",
        "    return [(d - min) / (max - min) for d in self.data]\n",
        "\n",
        "# Tests\n",
        "data_helper = DataHelper([1, 3, 0])\n",
        "assert round(data_helper.mean(), 2) == 1.33, \"resultado incorrecto\"\n",
        "assert round(data_helper.std(), 2) == 1.25, \"resultado incorrecto\"\n",
        "\n",
        "data_normalizada = [round(x, 2) for x in data_helper.normalize()]\n",
        "expected = [0.33, 1.0, 0.0]\n",
        "assert data_normalizada == [0.33, 1.0, 0.0], \"resultado incorrecto\""
      ]
    }
  ],
  "metadata": {
    "colab": {
      "provenance": []
    },
    "kernelspec": {
      "display_name": "python-datascience",
      "language": "python",
      "name": "python3"
    },
    "language_info": {
      "codemirror_mode": {
        "name": "ipython",
        "version": 3
      },
      "file_extension": ".py",
      "mimetype": "text/x-python",
      "name": "python",
      "nbconvert_exporter": "python",
      "pygments_lexer": "ipython3",
      "version": "3.12.11"
    }
  },
  "nbformat": 4,
  "nbformat_minor": 0
}
