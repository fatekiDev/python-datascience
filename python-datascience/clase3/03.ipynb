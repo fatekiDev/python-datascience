{
  "cells": [
    {
      "cell_type": "markdown",
      "metadata": {
        "id": "lYE0JBY6IVJ5"
      },
      "source": [
        "# Python para Data Science: Clase 03\n",
        "\n",
        "## Estructuras de Datos\n",
        "\n",
        "### Listas\n",
        "\n",
        "Las listas corresponden a una colección ordenada de elementos, los cuales pueder ser de cualquier tipo.\n",
        "\n",
        "Principales carácteristicas de las listas:\n",
        "- **Ordenadas**: Los elementos en una lista están ordenados y se pueden acceder por su posición en la lista.\n",
        "- **Mutables**: Se pueden cambiar, agregar o eliminar elementos de una lista después de crearla.\n",
        "- **Elementos duplicados**: Las listas permiten elementos duplicados\n",
        "\n",
        "Veamos un ejemplo en concreto:"
      ]
    },
    {
      "cell_type": "code",
      "execution_count": null,
      "metadata": {
        "colab": {
          "base_uri": "https://localhost:8080/"
        },
        "id": "nd0gYYTM5VgP",
        "outputId": "5d0a31d3-097a-419a-9f37-4adae0105171"
      },
      "outputs": [
        {
          "data": {
            "text/plain": [
              "list"
            ]
          },
          "execution_count": 9,
          "metadata": {},
          "output_type": "execute_result"
        }
      ],
      "source": [
        "una_lista = [1, 2, 3, 4, 5]\n",
        "type(una_lista)"
      ]
    },
    {
      "cell_type": "markdown",
      "metadata": {
        "id": "CtuRTXoV541M"
      },
      "source": [
        "Como dijimos, una lista puede tener realmente cualquier tipo de elementos:"
      ]
    },
    {
      "cell_type": "code",
      "execution_count": null,
      "metadata": {
        "colab": {
          "base_uri": "https://localhost:8080/"
        },
        "id": "HogIEdSC5fMh",
        "outputId": "4cd51733-5ee1-476b-a30d-2f42995339f0"
      },
      "outputs": [
        {
          "name": "stdout",
          "output_type": "stream",
          "text": [
            "lista1 [2, 5, -1, 3.4, 1, 'hola']\n",
            "lista2 [2, 2, 2, 2, 2]\n",
            "lista3 [1, None, [2, 5, -1, 3.4, 1, 'hola'], 0, True, [2, 2, 2, 2, 2]]\n"
          ]
        }
      ],
      "source": [
        "lista1 = [2, 5, -1, 3.4, 1, \"hola\"]\n",
        "print(\"lista1\", lista1)\n",
        "\n",
        "#elementos repetidos\n",
        "lista2 = [2, 2, 2, 2, 2]\n",
        "print(\"lista2\", lista2)\n",
        "\n",
        "# Incluso pueden haber listas dentro de una lista\n",
        "lista3 = [1, None, lista1, 0, True, lista2]\n",
        "print(\"lista3\", lista3)\n",
        "\n"
      ]
    },
    {
      "cell_type": "markdown",
      "metadata": {
        "id": "nW7xvymp59Wf"
      },
      "source": [
        "Incluso puede no tener ninguno:"
      ]
    },
    {
      "cell_type": "code",
      "execution_count": null,
      "metadata": {
        "colab": {
          "base_uri": "https://localhost:8080/"
        },
        "id": "sJcNf5f050LZ",
        "outputId": "5d326b0a-cad9-4f01-aed5-7db285ed987d"
      },
      "outputs": [
        {
          "name": "stdout",
          "output_type": "stream",
          "text": [
            "[]\n"
          ]
        }
      ],
      "source": [
        "lista_vacia = []\n",
        "print(lista_vacia)"
      ]
    },
    {
      "cell_type": "markdown",
      "metadata": {
        "id": "E1l55mlo6GWs"
      },
      "source": [
        "Así como con los strings, podemos convertir una lista al tipo `bool`, lo que nos dará `True` si es que la lista contiene elementos, y `False` si no."
      ]
    },
    {
      "cell_type": "code",
      "execution_count": null,
      "metadata": {
        "id": "VUGOJHs_6A53"
      },
      "outputs": [],
      "source": [
        "print(\"lista con elementos es\", bool([1, 2, 3]))\n",
        "print(\"lista vacía es\", bool([]))"
      ]
    },
    {
      "cell_type": "markdown",
      "metadata": {
        "id": "pKTH8-tE6Lt_"
      },
      "source": [
        "#### Índices\n",
        "\n",
        "Cuando decimos que una lista es un tipo de dato ordenado, decimos que cada elemento tiene una pocisión específica. La posición de un elemento se conoce como *índice*.\n",
        "\n",
        "En Python, así como en la mayoría de lenguajes de programación, el primer índice corresponde al *0*. Así, se puede entender que el *n-ésimo* elemento de una lista tendrá el índice *n-1*."
      ]
    },
    {
      "cell_type": "code",
      "execution_count": null,
      "metadata": {
        "id": "p83zGw2S6JFY"
      },
      "outputs": [],
      "source": [
        "lista = [2, 3.5, True, \"Hola\", 3.5]\n",
        "\n",
        "print(lista[0]) # primer elemento de la lista\n",
        "print(lista[4]) # cuarto elemento de la lista"
      ]
    },
    {
      "cell_type": "markdown",
      "metadata": {
        "id": "m1pLi_nP6VnJ"
      },
      "source": [
        "Una característica interesante de las listas en Python es que se pueden usar *índices negativos*, los cuales permiten a acceder a los elementos de derecha a izquierda:"
      ]
    },
    {
      "cell_type": "code",
      "execution_count": null,
      "metadata": {
        "id": "PSWZOoM-6R0n"
      },
      "outputs": [],
      "source": [
        "print(lista[-1]) # último valor\n",
        "print(lista[-2]) # penúltimo valor"
      ]
    },
    {
      "cell_type": "markdown",
      "metadata": {
        "id": "sKJNnU6p6lVY"
      },
      "source": [
        "#### Operaciones con listas\n",
        "\n",
        "Las listas permiten operaciones comunes, como agregar un elemento a una lista , modificar un valor, o eliminar uno.\n",
        "\n"
      ]
    },
    {
      "cell_type": "code",
      "execution_count": null,
      "metadata": {
        "id": "b6JP_7mk6j-N"
      },
      "outputs": [],
      "source": [
        "lista = [2, 3.5, True, \"Hola\", 3.5]\n",
        "print(\"         Lista original:\", lista)\n",
        "\n",
        "lista.append(6) # Agregamos un elemento\n",
        "print(\"  Agregamos un elemento:\", lista)\n",
        "\n",
        "lista[1] = 0 # Modificamos un elemento\n",
        "print(\"Modificamos un elemento:\", lista)\n",
        "\n",
        "lista.remove(True) # Eliminamos un elemento segun su valor\n",
        "print(\" Eliminamos un elemento:\", lista)\n",
        "\n",
        "elemento = lista.pop(0) # Eliminamos un elemento según su índice\n",
        "print(\"       Eliminar con pop:\", lista)\n",
        "print(\"     Elemento eliminado:\", lista)\n",
        "\n",
        "del lista[1]\n",
        "print(\"       Eliminar con del:\", lista)\n",
        "\n",
        "print(\"      Largo de la lista:\", len(lista))"
      ]
    },
    {
      "cell_type": "markdown",
      "metadata": {
        "id": "Gtym8Kz-612T"
      },
      "source": [
        "Python permite hacer cierta aritmética con listas.\n",
        "1. Si dos listas son sumadas, entonces el resultado será la **concatenación** ambas.\n",
        "2. Si una lista es multiplicada por un número entero `n`, el resultado será una lista con los elementos repetidos `n` de forma consecutiva"
      ]
    },
    {
      "cell_type": "code",
      "execution_count": 1,
      "metadata": {
        "id": "JG99_1846o61"
      },
      "outputs": [
        {
          "name": "stdout",
          "output_type": "stream",
          "text": [
            "listas concatenadas: [2, 3.5, True, 'Hola', 3.5, False, 0]\n",
            "3 veces lista1: [2, 3.5, True, 'Hola', 3.5, 2, 3.5, True, 'Hola', 3.5, 2, 3.5, True, 'Hola', 3.5]\n"
          ]
        }
      ],
      "source": [
        "lista1 = [2, 3.5, True, \"Hola\", 3.5]\n",
        "lista2 = [False, 0]\n",
        "\n",
        "# concatenamos listas\n",
        "print(\"listas concatenadas:\", lista1 + lista2)\n",
        "\n",
        "# multiplicamos una lista 3 veces\n",
        "print(\"3 veces lista1:\",  lista1 * 3)"
      ]
    },
    {
      "cell_type": "markdown",
      "metadata": {
        "id": "jl0vcI817BDn"
      },
      "source": [
        "Existen otras funcionalidades con listas, como la de contar elementos `lista.count`, encontrar un índice `lista.index`, entre otros.\n",
        "\n",
        "Tabla resumen\n",
        "\n",
        "| Ejemplo de Uso                  | Descripción  |\n",
        "|---------------------------------|--------------|\n",
        "| `lista.append(elemento)`        | Añade un elemento al final de la lista.                                  |\n",
        "| `lista.extend(iterable)`        | Extiende la lista agregando todos los elementos de un iterable al final. |\n",
        "| `lista.insert(indice, elemento)`| Inserta un elemento en una posición específica.                          |\n",
        "| `lista.remove(elemento)`        | Elimina el primer elemento con el valor especificado.                    |\n",
        "| `lista.pop(indice)`             | Elimina el elemento en la posición dada y lo devuelve.                   |\n",
        "| `lista.clear()`                 | Elimina todos los elementos de la lista.                                 |\n",
        "| `lista.index(elemento)`         | Devuelve el índice del primer elemento con el valor especificado.        |\n",
        "| `lista.count(elemento)`         | Cuenta el número de veces que un valor aparece en la lista.              |\n",
        "| `lista.sort()`                  | Ordena los elementos de la lista en lugar específico.                    |\n",
        "| `lista.reverse()`               | Invierte el orden de los elementos de la lista.                          |\n",
        "| `lista.copy()`                  | Devuelve una copia superficial de la lista.                              |\n"
      ]
    },
    {
      "cell_type": "markdown",
      "metadata": {
        "id": "ZkcLXiedTC0D"
      },
      "source": [
        "#### Iteración sobre listas\n",
        "\n",
        "Una lista corresponde a un conjuto de elementos, por lo que podemos iterar sobre cada uno de ellos usando un ciclo `for`:"
      ]
    },
    {
      "cell_type": "code",
      "execution_count": 2,
      "metadata": {
        "id": "b3h-hF3aTcX2"
      },
      "outputs": [
        {
          "name": "stdout",
          "output_type": "stream",
          "text": [
            "1\n",
            "4\n",
            "9\n",
            "16\n",
            "25\n"
          ]
        }
      ],
      "source": [
        "una_lista = [1, 2, 3, 4, 5]\n",
        "# para cada uno de los números de la lista\n",
        "for numero in una_lista:\n",
        "  # imprimir el cuadrado de dicho número\n",
        "  print(numero**2)"
      ]
    },
    {
      "cell_type": "markdown",
      "metadata": {
        "id": "311JJ2kU8eDy"
      },
      "source": [
        "### Tuplas\n",
        "\n",
        "Las tuplas son muy similares a las listas, pero con dos grandes diferencias. **Son inmutables**, es decir, no pueden ser modificadas una vez declaradas, y son inicializadas usando paréntesis `()` en vez de corchetes `[]`, o bien usando `tuple()` sobre una lista de elementos"
      ]
    },
    {
      "cell_type": "code",
      "execution_count": null,
      "metadata": {
        "id": "uBk3ND-38iHT"
      },
      "outputs": [],
      "source": [
        "una_tupla = (1, 2, 3)\n",
        "print(una_tupla, type(una_tupla))\n",
        "otra_tupla = tuple([3,4,5])\n",
        "print(otra_tupla, type(otra_tupla))"
      ]
    },
    {
      "cell_type": "markdown",
      "metadata": {
        "id": "eWZEBqil8x-8"
      },
      "source": [
        "Al ser inmutables, no podemos agregar, modificar o eliminar elementos de una tupla. Solo podemos acceder a un valor de ella según su índice, esto porque **son ordenadas**."
      ]
    },
    {
      "cell_type": "code",
      "execution_count": null,
      "metadata": {
        "id": "l3Wn84dd8vvB"
      },
      "outputs": [],
      "source": [
        "tupla = (1, 2, 3, 2, 1)\n",
        "# tupla[2] = 0 # Esto tiraría un error\n",
        "print(tupla)\n",
        "print(tupla[2]) # Tercer elemento"
      ]
    },
    {
      "cell_type": "markdown",
      "metadata": {
        "id": "zAFaQ5Lt81YZ"
      },
      "source": [
        "#### Operaciones con tuplas\n",
        "\n",
        "Con las tuplas ocurre el mismo fenómeno que con las listas cuando estas son sumadas, o multiplicadas por un entero:"
      ]
    },
    {
      "cell_type": "code",
      "execution_count": null,
      "metadata": {
        "id": "UQWNouZc80i0"
      },
      "outputs": [],
      "source": [
        "tupla1 = (2, 3.5, True, \"Hola\", 3.5)\n",
        "tupla2 = (False, 0)\n",
        "\n",
        "# concatenamos listas\n",
        "print(\"tuplas concatenadas:\", tupla1 + tupla2)\n",
        "\n",
        "# multiplicamos una lista 3 veces\n",
        "print(\"3 veces tupla1:\",  tupla1 * 3)"
      ]
    },
    {
      "cell_type": "markdown",
      "metadata": {
        "id": "RuTMEXY79D1L"
      },
      "source": [
        "Tambien podemos usar `len` para saber el largo de una tupla:"
      ]
    },
    {
      "cell_type": "code",
      "execution_count": null,
      "metadata": {
        "id": "4N3Gy-3W9Am5"
      },
      "outputs": [],
      "source": [
        "tupla = (2, 3.5, True, \"Hola\", 3.5)\n",
        "print(f\"La tupla contiene {len(tupla)} elementos\")"
      ]
    },
    {
      "cell_type": "markdown",
      "metadata": {
        "id": "zl7b-TZM9Lp7"
      },
      "source": [
        "Al ser inmutables, hay pocas funcionalidades que se pueden usar sobre tuplas:\n",
        "\n",
        "| Ejemplo de Uso                  | Descripción                                                                |\n",
        "|---------------------------------|----------------------------------------------------------------------------|\n",
        "| `tupla.count(elemento)`         | Cuenta el número de veces que un elemento aparece en la tupla.             |\n",
        "| `tupla.index(elemento)`         | Devuelve el índice del primer elemento con el valor especificado.          |\n",
        "\n",
        "Una característica interesante, y que se comparte también con las listas, es que podemos distribuir los valores de estas estructuras a distintas variables:"
      ]
    },
    {
      "cell_type": "code",
      "execution_count": 3,
      "metadata": {
        "id": "qa1aL1N-9Hp6"
      },
      "outputs": [
        {
          "name": "stdout",
          "output_type": "stream",
          "text": [
            "1\n",
            "2\n",
            "3\n"
          ]
        }
      ],
      "source": [
        "una_tupla = (1, 2, 3)\n",
        "a, b, c = una_tupla\n",
        "print(a)\n",
        "print(b)\n",
        "print(c)"
      ]
    },
    {
      "cell_type": "code",
      "execution_count": null,
      "metadata": {
        "id": "hb-Eqm-29Kw6"
      },
      "outputs": [],
      "source": [
        "una_lista = [1, 2, 3]\n",
        "a, b, c = una_lista\n",
        "print(a)\n",
        "print(b)\n",
        "print(c)"
      ]
    },
    {
      "cell_type": "markdown",
      "metadata": {
        "id": "lVMAHjsC9XMz"
      },
      "source": [
        "#### Strings como tuplas\n",
        "\n",
        "Las tuplas y los strings comparten las siguientes propiedades:\n",
        "\n",
        "- **Indexación**: Cada elemento tiene un índice en específico\n",
        "- **Inmutabilidad**: no se pueden modificar elementos\n",
        "- **Concatenación**: Puedo concatenarlos usando `+`"
      ]
    },
    {
      "cell_type": "code",
      "execution_count": 4,
      "metadata": {
        "id": "Fox_vQlI9R-4"
      },
      "outputs": [
        {
          "name": "stdout",
          "output_type": "stream",
          "text": [
            "String Hola Mundo\n",
            "El cuarto elemento es a\n",
            "Concatenación: Hola Mundo! que tal?\n",
            "---\n",
            "Tupla (2, 4, 6, 8, 1, 3, 5, 7)\n",
            "El cuarto elemento es 8\n",
            "Concatenación: (2, 4, 6, 8, 1, 3, 5, 7, 9, 0)\n"
          ]
        }
      ],
      "source": [
        "un_string = \"Hola Mundo\"\n",
        "print(\"String\", un_string)\n",
        "print(\"El cuarto elemento es\", un_string[3]) # indexación\n",
        "print(\"Concatenación:\", un_string + \"! que tal?\") # concatenacion\n",
        "\n",
        "print(\"---\")\n",
        "\n",
        "una_tupla = (2, 4, 6, 8, 1, 3, 5, 7)\n",
        "print(\"Tupla\", una_tupla)\n",
        "print(\"El cuarto elemento es\", una_tupla[3]) # indexación\n",
        "print(\"Concatenación:\", una_tupla + (9, 0)) # concatenacion"
      ]
    },
    {
      "cell_type": "markdown",
      "metadata": {
        "id": "4LQ-AtNt93f8"
      },
      "source": [
        "### Conjuntos\n",
        "\n",
        "Un conjunto representa una colección de **elementos únicos** y no ordenados. Para crear un conjunto se utilizan llaves `{}`, o bien la función `set()` sobre una lista de elementos:"
      ]
    },
    {
      "cell_type": "code",
      "execution_count": null,
      "metadata": {
        "id": "V4NZPfOi9tSG"
      },
      "outputs": [],
      "source": [
        "un_conjunto = {1, 2, 3}\n",
        "print(un_conjunto, type(un_conjunto))\n",
        "otro_conjunto = set([3,4,5])\n",
        "print(otro_conjunto, type(otro_conjunto))"
      ]
    },
    {
      "cell_type": "markdown",
      "metadata": {
        "id": "VV9iVZMq-Bpz"
      },
      "source": [
        "Los conjuntos son mutables, por lo que se pueden agregar o eliminar elementos después de crearlos. Al ser no ordenados, **no** podemos acceder a un elemento, pues no se almacena su indice"
      ]
    },
    {
      "cell_type": "markdown",
      "metadata": {
        "id": "6gRvpi6l-Emw"
      },
      "source": [
        "#### Operaciones con conjuntos"
      ]
    },
    {
      "cell_type": "code",
      "execution_count": 12,
      "metadata": {
        "id": "ItirfOn499__"
      },
      "outputs": [
        {
          "name": "stdout",
          "output_type": "stream",
          "text": [
            "      Conjunto original: {True, 2, 3.5, 'Hola'}\n",
            "  Agregamos un elemento: {True, 2, 3.5, 6, 'Hola'}\n",
            " Eliminamos un elemento: {2, 3.5, 6, 'Hola'}\n",
            " Eliminamos un elemento: {3.5, 6, 'Hola'}\n",
            "     Largo del conjunto: 3\n"
          ]
        }
      ],
      "source": [
        "conjunto = {2, 3.5, True, \"Hola\"}\n",
        "print(\"      Conjunto original:\", conjunto)\n",
        "\n",
        "conjunto.add(6) # Agregamos un elemento\n",
        "print(\"  Agregamos un elemento:\", conjunto)\n",
        "\n",
        "\n",
        "conjunto.remove(True) # Eliminamos un elemento segun su valor\n",
        "print(\" Eliminamos un elemento:\", conjunto)\n",
        "\n",
        "conjunto.pop() # Eliminamos un elemento arbitrario\n",
        "print(\" Eliminamos un elemento:\", conjunto)\n",
        "\n",
        "print(\"     Largo del conjunto:\", len(conjunto))"
      ]
    },
    {
      "cell_type": "markdown",
      "metadata": {
        "id": "i-eJ9vUe-x1C"
      },
      "source": [
        "A diferencia de las listas, **no podemos hacer aritmética** con los conjuntos, sin embargo, hay un simil a \"concatenar conjuntos\" esperando que retornen un valor (algo así como cuando sumamos listas)"
      ]
    },
    {
      "cell_type": "code",
      "execution_count": null,
      "metadata": {
        "id": "A9p7-dzw-krG"
      },
      "outputs": [],
      "source": [
        "conjunto1 = {2, 3, 7}\n",
        "conjunto2 = {4, 7, 9}\n",
        "\n",
        "print(conjunto1.union(conjunto2))"
      ]
    },
    {
      "cell_type": "markdown",
      "metadata": {
        "id": "5LUw7B38-9AA"
      },
      "source": [
        "![](https://i.stack.imgur.com/uH6cL.png)\n",
        "\n",
        "Esto se relaciona más con teoría de conjuntos, donde podemos también hacer otras operaciones además de la unión, como la intersección y la diferencia."
      ]
    },
    {
      "cell_type": "code",
      "execution_count": 13,
      "metadata": {
        "id": "k9MJTwXn-_Sh"
      },
      "outputs": [
        {
          "name": "stdout",
          "output_type": "stream",
          "text": [
            "Unión {2, 3, 4, 7, 9}\n",
            "Intersección {7}\n",
            "Diferencia {2, 3}\n"
          ]
        }
      ],
      "source": [
        "conjunto1 = {2, 3, 7}\n",
        "conjunto2 = {4, 7, 9}\n",
        "\n",
        "print(\"Unión\", conjunto1.union(conjunto2))\n",
        "print(\"Intersección\", conjunto1.intersection(conjunto2))\n",
        "print(\"Diferencia\", conjunto1.difference(conjunto2))"
      ]
    },
    {
      "cell_type": "markdown",
      "metadata": {
        "id": "R8kdXzxD_AOH"
      },
      "source": [
        "Tabla resumen\n",
        "\n",
        "| Ejemplo de Uso             | Descripción                                                                |\n",
        "|----------------------------|----------------------------------------------------------------------------|\n",
        "| `conjunto.add(elemento)`   | Añade un elemento al conjunto, si ya no está presente.                     |\n",
        "| `conjunto.update(iterable)`| Añade todos los elementos de un iterable al conjunto, omitiendo duplicados.|\n",
        "| `conjunto.remove(elemento)`| Elimina un elemento del conjunto. Lanza un error si el elemento no existe.  |\n",
        "| `conjunto.discard(elemento)`| Elimina un elemento del conjunto si está presente (sin lanzar error).      |\n",
        "| `conjunto.pop()`           | Elimina y devuelve un elemento aleatorio del conjunto. Lanza un error si el conjunto está vacío.|\n",
        "| `conjunto.clear()`         | Elimina todos los elementos del conjunto.                                  |\n",
        "| `conjunto.copy()`          | Devuelve una copia superficial del conjunto.                               |\n",
        "| `conjunto.union(otro)`     | Devuelve un nuevo conjunto con todos los elementos de ambos conjuntos.     |\n",
        "| `conjunto.intersection(otro)`| Devuelve un nuevo conjunto con los elementos comunes a ambos conjuntos.   |\n",
        "| `conjunto.difference(otro)`| Devuelve un nuevo conjunto con los elementos que están en el primero pero no en el segundo.|\n",
        "| `conjunto.symmetric_difference(otro)`| Devuelve un nuevo conjunto con elementos que están en uno de los conjuntos pero no en ambos.|\n",
        "\n"
      ]
    },
    {
      "cell_type": "markdown",
      "metadata": {
        "id": "d5Ztw5M8_U0k"
      },
      "source": [
        "#### Diccionarios\n",
        "\n",
        "Un diccionario en Python es una colección **no ordenada** de pares clave-valor. Cada elemento tiene una clave única que se utiliza para acceder a su valor correspondiente. Los diccionarios se definen utilizando llaves `{}` junto a los pares clave-valor (`clave: valor`) separados por coma, o bien usando `dict()` sobre pares de elementos"
      ]
    },
    {
      "cell_type": "code",
      "execution_count": 14,
      "metadata": {
        "id": "ARdGMzWi-05T"
      },
      "outputs": [
        {
          "name": "stdout",
          "output_type": "stream",
          "text": [
            "{'nombre': 'Victor', 'numero': 912345678}\n",
            "{'nombre': 'Victor', 'numero': 912345678}\n"
          ]
        }
      ],
      "source": [
        "un_diccionario =  {\"nombre\": \"Victor\", \"numero\": 912345678}\n",
        "\n",
        "otro_diccionario = dict([(\"nombre\", \"Victor\"),\n",
        "                         (\"numero\", 912345678)])\n",
        "print(un_diccionario)\n",
        "print(otro_diccionario)"
      ]
    },
    {
      "cell_type": "markdown",
      "metadata": {
        "id": "JoIvbU0H_dPy"
      },
      "source": [
        "#### Manipulación de diccionarios\n",
        "\n",
        "En un diccionario, podemos entender a las claves como la estructura de  *conjuntos* vistas anteriormente, pues las claves son únicas y no están ordenadas.\n",
        "\n",
        "Al no estar ordenado no podemos acceder a una posición concreta, pero si podemos acceder al valor almacenado usando una clave:"
      ]
    },
    {
      "cell_type": "code",
      "execution_count": null,
      "metadata": {
        "id": "kSI-sD1__Ww1"
      },
      "outputs": [],
      "source": [
        "un_diccionario =  {\"nombre\": \"Victor\", \"numero\": 912345678}\n",
        "\n",
        "print(\"nombre:\", un_diccionario[\"nombre\"])"
      ]
    },
    {
      "cell_type": "markdown",
      "metadata": {
        "id": "lD7SWOqk_r39"
      },
      "source": [
        "Para ver todas las claves que tiene un diccionario, podemos utilizar la funcion `diccionario.keys()`"
      ]
    },
    {
      "cell_type": "code",
      "execution_count": 15,
      "metadata": {
        "id": "7b4V1-rp_pAK"
      },
      "outputs": [
        {
          "name": "stdout",
          "output_type": "stream",
          "text": [
            "dict_keys(['nombre', 'numero'])\n",
            "nombre: Victor\n",
            "numero: 912345678\n"
          ]
        }
      ],
      "source": [
        "# Notar que esto retorna un dict_keys, no una lista\n",
        "print(un_diccionario.keys())\n",
        "\n",
        "# Puedo iterar sobre el de todas formas:\n",
        "for key in un_diccionario.keys():\n",
        "  print(key + \":\", un_diccionario[key])"
      ]
    },
    {
      "cell_type": "markdown",
      "metadata": {
        "id": "ZTVApIsL_xAs"
      },
      "source": [
        "#### Operaciones con diccionarios\n",
        "\n",
        "Las claves son la parte fundamental de un diccionario, pues además de poder acceder a un elemento a partir de ella, podemos también agregar, modificar o eliminar pares clave-valor:"
      ]
    },
    {
      "cell_type": "code",
      "execution_count": 16,
      "metadata": {
        "id": "AO9_Absl_wQ7"
      },
      "outputs": [
        {
          "name": "stdout",
          "output_type": "stream",
          "text": [
            "Diccionario original: {'nombre': 'Victor', 'numero': 912345678}\n",
            "Agrego correo: {'nombre': 'Victor', 'numero': 912345678, 'correo': 'victor.navarro@udd.cl'}\n",
            "Modifico número: {'nombre': 'Victor', 'numero': 987654321, 'correo': 'victor.navarro@udd.cl'}\n",
            "Eliminamos correo con pop: {'nombre': 'Victor', 'numero': 987654321}\n",
            "Elemento sacado: victor.navarro@udd.cl\n",
            "Eliminamos número: {'nombre': 'Victor'}\n"
          ]
        }
      ],
      "source": [
        "un_diccionario =  {\"nombre\": \"Victor\", \"numero\": 912345678}\n",
        "print(\"Diccionario original:\", un_diccionario)\n",
        "\n",
        "# Agrego correo\n",
        "un_diccionario[\"correo\"] = \"victor.navarro@udd.cl\"\n",
        "print(\"Agrego correo:\", un_diccionario)\n",
        "\n",
        "# Modifico numero\n",
        "un_diccionario[\"numero\"] = 987654321\n",
        "print(\"Modifico número:\", un_diccionario)\n",
        "\n",
        "# Usamos pop para eliminar correo\n",
        "elemento = un_diccionario.pop(\"correo\")\n",
        "print(\"Eliminamos correo con pop:\", un_diccionario)\n",
        "print(\"Elemento sacado:\", elemento)\n",
        "\n",
        "# Usamos del para eliminar numero\n",
        "del un_diccionario[\"numero\"]\n",
        "print(\"Eliminamos número:\", un_diccionario)"
      ]
    },
    {
      "cell_type": "markdown",
      "metadata": {
        "id": "6A1kg-q-AFx4"
      },
      "source": [
        "Los diccionarios tienen la funcionalidad `update` (los conjuntos también), con lo que podemos incorporar elementos de otro diccionario usando `diccionario.update(otro_diccionario)`. Notar que si la clave se repite, entonces esta se cambia por el valor presente en `otro_diccionario`"
      ]
    },
    {
      "cell_type": "code",
      "execution_count": 17,
      "metadata": {
        "id": "v8DoIfXk_tQ5"
      },
      "outputs": [
        {
          "name": "stdout",
          "output_type": "stream",
          "text": [
            "{'nombre': 'Victor', 'numero': 987654321, 'correo': 'victor.navarro@udd.cl', 'pais': 'Chile'}\n"
          ]
        }
      ],
      "source": [
        "un_diccionario = {\"nombre\": \"Victor\", \"numero\": 912345678}\n",
        "otro_diccionario = {\"numero\": 987654321, \"correo\": \"victor.navarro@udd.cl\", \"pais\": \"Chile\"}\n",
        "\n",
        "un_diccionario.update(otro_diccionario)\n",
        "print(un_diccionario)"
      ]
    },
    {
      "cell_type": "markdown",
      "metadata": {
        "id": "y7n-2wIjASZb"
      },
      "source": [
        "Una funcionalidad interesante de los diccionarios es `diccionario.get(clave)`, la cual retorna `None` si es que la clave no existe, o bien `diccionario.get(clave, default)` para retornar `default` si es que no existe. La gran  diferencia con usar `diccionario[clave]` es que este último arroja un error si la clave no existe"
      ]
    },
    {
      "cell_type": "code",
      "execution_count": 18,
      "metadata": {
        "id": "WrLVupsOAOWr"
      },
      "outputs": [
        {
          "name": "stdout",
          "output_type": "stream",
          "text": [
            "None\n",
            "Chile\n"
          ]
        }
      ],
      "source": [
        "un_diccionario = {\"nombre\": \"Victor\", \"numero\": 912345678}\n",
        "print(un_diccionario.get(\"pais\"))\n",
        "print(un_diccionario.get(\"pais\", \"Chile\"))"
      ]
    },
    {
      "cell_type": "markdown",
      "metadata": {
        "id": "U23y1tjyTtOa"
      },
      "source": [
        "#### Iterar sobre un diccionario\n",
        "\n",
        "Al iterar sobre un diccionario usando un ciclo `for`, debemos considerar que están construidos por una tupla clave-valor en cada elemento. Por defecto si no se especifica sobre qué se quiere iterar, Python usará las llaves como elementos:"
      ]
    },
    {
      "cell_type": "code",
      "execution_count": null,
      "metadata": {
        "id": "90Kb5d_pAT1Z"
      },
      "outputs": [],
      "source": [
        "un_diccionario = {\"nombre\": \"Victor\", \"numero\": 912345678, \"notas\": [3, 6.2, 4.3]}\n",
        "\n",
        "for elemento in un_diccionario:\n",
        "  print(elemento)"
      ]
    },
    {
      "cell_type": "markdown",
      "metadata": {
        "id": "Ssuo9t6DTyb1"
      },
      "source": [
        "Como vimos antes, esto es equivalente a haber puesto `un_diccionario.keys()` en vez de `un_diccionario`. De forma similar también podemos iterar solo sobre los valores usando `un_diccionario.values()`:"
      ]
    },
    {
      "cell_type": "code",
      "execution_count": 19,
      "metadata": {
        "id": "-8y7EdiGTzvL"
      },
      "outputs": [
        {
          "name": "stdout",
          "output_type": "stream",
          "text": [
            "Victor\n",
            "912345678\n"
          ]
        }
      ],
      "source": [
        "for elemento in un_diccionario.values():\n",
        "  print(elemento)"
      ]
    },
    {
      "cell_type": "markdown",
      "metadata": {
        "id": "BHCjEqVQT8zC"
      },
      "source": [
        "Y finalmente, tambien podemos iterar sobre la tupla usando `un_diccionario.items()`:"
      ]
    },
    {
      "cell_type": "code",
      "execution_count": 20,
      "metadata": {
        "id": "cP1G6vbvT0F9"
      },
      "outputs": [
        {
          "name": "stdout",
          "output_type": "stream",
          "text": [
            "('nombre', 'Victor')\n",
            "('numero', 912345678)\n"
          ]
        }
      ],
      "source": [
        "for elemento in un_diccionario.items():\n",
        "  print(elemento) # Tuplas"
      ]
    },
    {
      "cell_type": "markdown",
      "metadata": {
        "id": "3yLqLVa-UGBa"
      },
      "source": [
        "Notar que cada elemento es una tupla. Esto significa que podemos separar cada elemento en clave-valor:"
      ]
    },
    {
      "cell_type": "code",
      "execution_count": null,
      "metadata": {
        "id": "thsGSmwVT4z1"
      },
      "outputs": [],
      "source": [
        "for clave, valor in un_diccionario.items():\n",
        "  print(f\"{clave} contiene {valor}\")"
      ]
    },
    {
      "cell_type": "markdown",
      "metadata": {
        "id": "FdxF0lQVUKQq"
      },
      "source": [
        "Tabla Resumen\n",
        "\n",
        "| Ejemplo de Uso                        | Descripción                                                                  |\n",
        "|---------------------------------------|------------------------------------------------------------------------------|\n",
        "| `diccionario.clear()`                 | Elimina todos los elementos del diccionario.                                 |\n",
        "| `diccionario.copy()`                  | Devuelve una copia superficial del diccionario.                              |\n",
        "| `diccionario.get(clave, default)`     | Devuelve el valor para una clave si existe en el diccionario, si no, devuelve default.|\n",
        "| `diccionario.items()`                 | Devuelve una vista de los pares clave-valor del diccionario.                 |\n",
        "| `diccionario.keys()`                  | Devuelve una vista de las claves en el diccionario.                          |\n",
        "| `diccionario.pop(clave, default)`     | Elimina la clave especificada y devuelve el valor correspondiente. Si la clave no está, devuelve default.|\n",
        "| `diccionario.popitem()`               | Elimina y devuelve un par (clave, valor) aleatorio. Lanza un KeyError si el diccionario está vacío.|\n",
        "| `diccionario.setdefault(clave, default)`| Retorna el valor de la clave si está en el diccionario, si no, inserta la clave con el valor default y lo devuelve.|\n",
        "| `diccionario.update(otro_diccionario)`          | Actualiza el diccionario con los pares clave-valor de otro_diccionario, sobrescribiendo las claves existentes.|\n",
        "| `diccionario.values()`                | Devuelve una vista de todos los valores en el diccionario.                   |"
      ]
    },
    {
      "cell_type": "markdown",
      "metadata": {
        "id": "-rtzPrnzUM86"
      },
      "source": [
        "### Resumen Estructuras de Datos\n",
        "\n",
        "| Característica | Lista   | Tupla    | Diccionario| Conjunto |\n",
        "|----------|---------|-----------|------------| ----- |\n",
        "| Sintaxis               | `[elemento1, elemento2, ...]` | `(elemento1, elemento2, ...)` | `{clave1: valor1, clave2: valor2, ...}` | `{elemento1, elemento2, ...}`\n",
        "| Mutabilidad            | Sí | No | Sí | Sí |\n",
        "| Ordenada               | Sí | Sí | No | No |\n",
        "| Acceso por índice      | Sí | Sí | No (acceso por clave) | No |\n",
        "| Elementos duplicados   | Sí | Sí | No | No|\n",
        "| Usado para almacenar   | colecciones de elementos | elementos no modificables  |  pares clave-valor   | elementos únicos |\n",
        "| Agregar | `lista.append(nuevo_valor)` | No se puede | `dicc[nueva_clave] = nuevo_valor` | `conjunto.add(nuevo_valor)` |\n",
        "| Modificar  | `lista[0] = nuevo_valor`     | No se puede  | `dicc[clave1] = nuevo_valor` | No se puede |\n",
        "| Eliminar | `lista.remove(elemento)` | No se puede | `del lista[clave]` | `conjunto.pop()`|\n",
        "| Iteración | `for elemento in lista`  | `for elemento in tupla`  | `for clave in diccionario` | `for elemento in conjunto` |"
      ]
    },
    {
      "cell_type": "markdown",
      "metadata": {
        "id": "4YHRMjdkU8Ce"
      },
      "source": [
        "## Funciones\n",
        "\n",
        "\n",
        "Las funciones son otro aspecto fundamental en la programación. Una función consiste en un bloque de código que realiza una tarea en específico, la cual puede ser reutilizada en cualquier momento.\n",
        "\n",
        "Una función posee tres componentes:\n",
        "- `identificador`: El nombre de la función\n",
        "- `Argumento(s)` : Valor(es) de entrada para la función\n",
        "- `Resultado(s)`: Valor(es) que devuelve la función\n",
        "\n",
        "La sintaxis de una función en Python sería la siguiente:\n",
        "\n",
        "```python\n",
        "def identificador(argumento):\n",
        "  ... # hacer algo con el valor argumento\n",
        "  resultado = ... # definir un resultado\n",
        "  return resultado # devolver un resultado\n",
        "```\n",
        "\n",
        "Veamos un ejemplo:\n"
      ]
    },
    {
      "cell_type": "code",
      "execution_count": 21,
      "metadata": {
        "id": "GWo8AxvgUKeZ"
      },
      "outputs": [
        {
          "name": "stdout",
          "output_type": "stream",
          "text": [
            "La funcion es_par es del tipo <class 'function'>\n",
            "El número 25 es impar\n",
            "El número 30 es par\n"
          ]
        }
      ],
      "source": [
        "def es_par(numero):\n",
        "  if numero % 2 == 0:\n",
        "    return f\"El número {numero} es par\"\n",
        "  else:\n",
        "    return f\"El número {numero} es impar\"\n",
        "\n",
        "print(\"La funcion es_par es del tipo\", type(es_par))\n",
        "\n",
        "resultado = es_par(25)\n",
        "print(resultado)\n",
        "\n",
        "resultado = es_par(30)\n",
        "print(resultado)\n"
      ]
    },
    {
      "cell_type": "markdown",
      "metadata": {
        "id": "FyQjRnauVN8i"
      },
      "source": [
        "Hay dos cosas que les puede llamar la atención de lo anterior:\n",
        "1. No estamos creando un valor de retorno de forma explícita\n",
        "2. Estamos imprimiendo en pantalla **después** de utilizar la función\n",
        "\n",
        "Sobre el punto 1, no es necesario difinir un valor de forma explicita para que funcione, haber escrito la función de la siguiente forma hubiese sido totalmente equivalente:"
      ]
    },
    {
      "cell_type": "code",
      "execution_count": null,
      "metadata": {
        "id": "d-r54sHAVF0T"
      },
      "outputs": [],
      "source": [
        "def es_par_v2(numero):\n",
        "  if numero % 2 == 0:\n",
        "    resultado =  f\"El número {numero} es par\"\n",
        "  else:\n",
        "    resultado = f\"El número {numero} es impar\"\n",
        "  return resultado\n",
        "\n",
        "es_par_v2(25) == es_par(25)"
      ]
    },
    {
      "cell_type": "markdown",
      "metadata": {
        "id": "2qilhpdZVTYT"
      },
      "source": [
        "Sobre el punto dos, tiene que ver con que nuestra función está retornando un valor que en es un string"
      ]
    },
    {
      "cell_type": "code",
      "execution_count": null,
      "metadata": {
        "id": "jTBLhQH7VQFg"
      },
      "outputs": [],
      "source": [
        "type(es_par(25))"
      ]
    },
    {
      "cell_type": "markdown",
      "metadata": {
        "id": "IcUohHpeVXy0"
      },
      "source": [
        "Y dado que **retorna** un elemento, entonces podemos guardarlo en una variable:"
      ]
    },
    {
      "cell_type": "code",
      "execution_count": null,
      "metadata": {
        "id": "FBj9rFzyVVsb"
      },
      "outputs": [],
      "source": [
        "resultado = es_par(25) # le asignamos a resultado el valor de retorno de es_par(25)\n",
        "print(type(resultado), resultado)"
      ]
    },
    {
      "cell_type": "markdown",
      "metadata": {
        "id": "l95i14zHVmct"
      },
      "source": [
        "En algunos casos, se puede hacer que la función no retorne nada. Veamos que es lo que pasa si, en vez de retornar un string, hubieramos querido imprimir en pantalla inmediatamente"
      ]
    },
    {
      "cell_type": "code",
      "execution_count": 28,
      "metadata": {
        "id": "FP_o2vphVey9"
      },
      "outputs": [
        {
          "name": "stdout",
          "output_type": "stream",
          "text": [
            "El número 25 es impar\n",
            "None\n"
          ]
        }
      ],
      "source": [
        "# Este código tiene cierta inconsistencia, la encuentran?\n",
        "def es_par(numero):\n",
        "  if numero % 2 == 0:\n",
        "    return print(f\"El número {numero} es par\")\n",
        "  else:\n",
        "    return print(f\"El número {numero} es impar\")\n",
        "\n",
        "resultado = es_par(25)\n",
        "print(resultado)"
      ]
    },
    {
      "cell_type": "code",
      "execution_count": null,
      "metadata": {
        "id": "BAhGtAWLVvEA"
      },
      "outputs": [],
      "source": [
        "type(resultado)"
      ]
    },
    {
      "cell_type": "markdown",
      "metadata": {
        "id": "o62KKXIUV1u0"
      },
      "source": [
        "Las funciones pueden tener muchos argumentos, veamos por ejemplo una simple función que cálculo la potencia de un numero:"
      ]
    },
    {
      "cell_type": "code",
      "execution_count": 29,
      "metadata": {
        "id": "zn6nHsg8VvR0"
      },
      "outputs": [
        {
          "name": "stdout",
          "output_type": "stream",
          "text": [
            "8\n",
            "64\n"
          ]
        }
      ],
      "source": [
        "def potencia(base, exponente):\n",
        "  return base**exponente\n",
        "\n",
        "a = potencia(2,3)\n",
        "print(a)\n",
        "b = potencia(4,3)\n",
        "print(b)"
      ]
    },
    {
      "cell_type": "markdown",
      "metadata": {
        "id": "Iq3lccM8V52L"
      },
      "source": [
        "Una característica interesante de las funciones y los argumentos, es que podemos mencionar explicitamente el nombre del argumento junto a su valor:"
      ]
    },
    {
      "cell_type": "code",
      "execution_count": 30,
      "metadata": {
        "id": "y2sDaOyqV3h3"
      },
      "outputs": [
        {
          "name": "stdout",
          "output_type": "stream",
          "text": [
            "True\n",
            "True\n"
          ]
        }
      ],
      "source": [
        "print(potencia(base=2, exponente=3) == potencia(2, 3))\n",
        "# Tambien podriamos haberlos escrito al revés\n",
        "print(potencia(exponente=3, base=2) == potencia(2, 3))\n",
        "# Sin embargo, esto no funcionaría\n",
        "#print(potencia(exponente=3, 2) == potencia(2, 3))"
      ]
    },
    {
      "cell_type": "markdown",
      "metadata": {
        "id": "zbJdsUXNWABk"
      },
      "source": [
        "Otra característica interesante de los argumentos, es que podemos definir algunos valores por defecto:"
      ]
    },
    {
      "cell_type": "code",
      "execution_count": 31,
      "metadata": {
        "id": "KYezs_MUV75B"
      },
      "outputs": [
        {
          "name": "stdout",
          "output_type": "stream",
          "text": [
            "2.0\n",
            "4.0\n"
          ]
        }
      ],
      "source": [
        "# Definamos una funcion raiz, que corresponde al inverso de una potencia\n",
        "# Si exponente no es entregado, entonces se utilizara la raiz cuadrada\n",
        "def raiz(base, exponente=2):\n",
        "  return base**(1/exponente)\n",
        "\n",
        "print(raiz(8,3))\n",
        "print(raiz(16))"
      ]
    },
    {
      "cell_type": "markdown",
      "metadata": {
        "id": "BeCjlwgEWH2l"
      },
      "source": [
        "Los valores que se quieran declarar por defecto deben estar después de los valores obligatorios. Por ej, si hubiesemos escrito los argumentos al revés, entonces nos hubiera arrojado un error:"
      ]
    },
    {
      "cell_type": "code",
      "execution_count": null,
      "metadata": {
        "id": "yGhWd1aEWHM-"
      },
      "outputs": [],
      "source": [
        "def raiz(exponente=2, base):\n",
        "  return base**(1/exponente)"
      ]
    },
    {
      "cell_type": "markdown",
      "metadata": {
        "id": "2PDPtBhpWKYW"
      },
      "source": [
        "Dado que las funciones retornan valores, podemos usarlas como argumentos de otras funciones:"
      ]
    },
    {
      "cell_type": "code",
      "execution_count": 32,
      "metadata": {
        "id": "Lk6A-PAWWKhb"
      },
      "outputs": [
        {
          "name": "stdout",
          "output_type": "stream",
          "text": [
            "1231245.0\n"
          ]
        }
      ],
      "source": [
        "resultado = raiz(potencia(1231245,2), 2)\n",
        "print(resultado)"
      ]
    },
    {
      "cell_type": "markdown",
      "metadata": {
        "id": "JP43OdqgWTPl"
      },
      "source": [
        "Descompongamos lo que acabamos de ver:\n",
        "\n",
        "1. Primero se calcula el valor de $1231245^2$ usando la función `potencia` siendo la `base` igual a $1231245$ y el `exponente` igual a $2$.\n",
        "2. El resultado pasa a ser el argumento `base` de la función `raiz`.\n",
        "3. Se calcula entonces $\\sqrt{1231245^2}$, que es igual al valor `base` utilizado en la función `potencia`, es decir, a $1231245$.\n",
        "4. Se define la variable `resultado` como dicho valor y se imprime.\n",
        "\n",
        "Acá utilizamos dos funciones distintas, pero de hecho, podemos incluso usar de argumento la misma función misma. Por ejemplo, calculemos el valor de $3^{3^3}$"
      ]
    },
    {
      "cell_type": "code",
      "execution_count": 33,
      "metadata": {
        "id": "mcSEA0geWTdm"
      },
      "outputs": [
        {
          "data": {
            "text/plain": [
              "19683"
            ]
          },
          "execution_count": 33,
          "metadata": {},
          "output_type": "execute_result"
        }
      ],
      "source": [
        "potencia(potencia(3,3),3)"
      ]
    },
    {
      "cell_type": "markdown",
      "metadata": {
        "id": "pw6qwMTAWdjf"
      },
      "source": [
        "Existen buenas prácticas al momento de crear una función en Python. Una de ellas es agregar documentación o *docstring*, el cual se define con un string:\n"
      ]
    },
    {
      "cell_type": "code",
      "execution_count": 34,
      "metadata": {
        "id": "COqANhCDWZgz"
      },
      "outputs": [],
      "source": [
        "# Una documentación suficiente\n",
        "def potencia_v2(x, y):\n",
        "  \"Retorna la potencia de x elevado a y\"\n",
        "  return x**y"
      ]
    },
    {
      "cell_type": "markdown",
      "metadata": {
        "id": "FKci6uTfWjmV"
      },
      "source": [
        "¿Por qué un string y no un simple comentario? pues porque el string le servirá al usuario en caso de que utilice `help` o `?` sobre ella:"
      ]
    },
    {
      "cell_type": "code",
      "execution_count": 35,
      "metadata": {
        "id": "thM27FIwWjzD"
      },
      "outputs": [
        {
          "name": "stdout",
          "output_type": "stream",
          "text": [
            "Help on function potencia_v2 in module __main__:\n",
            "\n",
            "potencia_v2(x, y)\n",
            "    Retorna la potencia de x elevado a y\n",
            "\n"
          ]
        }
      ],
      "source": [
        "help(potencia_v2)"
      ]
    },
    {
      "cell_type": "markdown",
      "metadata": {
        "id": "TPMJEE6bWvK4"
      },
      "source": [
        "En general se recomienda usar un docstring simple para funciones cortas, pero  para funciones con muchos parámetros y/o más complejas se recomienda realizar una documentación mucho más robusta."
      ]
    },
    {
      "cell_type": "code",
      "execution_count": 36,
      "metadata": {
        "id": "sMlF_phNWoku"
      },
      "outputs": [
        {
          "name": "stdout",
          "output_type": "stream",
          "text": [
            "Help on function potencia_v3 in module __main__:\n",
            "\n",
            "potencia_v3(x, y)\n",
            "    Retorna la potencia de x elevado a y\n",
            "    \n",
            "    Parametros:\n",
            "    ----------\n",
            "      x (float) : Base de la potencia\n",
            "      y (float) : Exponente de la potencia\n",
            "    \n",
            "    Retorna:\n",
            "    --------\n",
            "      resultado (float): Resultado de elevar la base al exponente\n",
            "\n"
          ]
        }
      ],
      "source": [
        "# Una documentación más robusta\n",
        "def potencia_v3(x,y):\n",
        "  \"\"\"\n",
        "  Retorna la potencia de x elevado a y\n",
        "\n",
        "  Parametros:\n",
        "  ----------\n",
        "    x (float) : Base de la potencia\n",
        "    y (float) : Exponente de la potencia\n",
        "\n",
        "  Retorna:\n",
        "  --------\n",
        "    resultado (float): Resultado de elevar la base al exponente\n",
        "  \"\"\"\n",
        "  resultado = x**y\n",
        "  return resultado\n",
        "\n",
        "help(potencia_v3)"
      ]
    },
    {
      "cell_type": "markdown",
      "metadata": {
        "id": "ZBYEvdxxW09c"
      },
      "source": [
        "¿Les llama algo la atención?, hemos generado el string con triple comilla `\"\"\"`, lo que permite realizar saltos de linea!"
      ]
    },
    {
      "cell_type": "code",
      "execution_count": 38,
      "metadata": {
        "id": "_22ylEaSWwx7"
      },
      "outputs": [
        {
          "ename": "SyntaxError",
          "evalue": "incomplete input (3394906416.py, line 4)",
          "output_type": "error",
          "traceback": [
            "\u001b[1;36m  Cell \u001b[1;32mIn[38], line 4\u001b[1;36m\u001b[0m\n\u001b[1;33m    salto de linea\"\"\"\"\"\"\u001b[0m\n\u001b[1;37m                     ^\u001b[0m\n\u001b[1;31mSyntaxError\u001b[0m\u001b[1;31m:\u001b[0m incomplete input\n"
          ]
        }
      ],
      "source": [
        "un_string = \"Este es un string\"\n",
        "# Lo siguiente arrojará un error\n",
        "un_string = \"\"\"Este es un string con\n",
        "salto de linea\"\"\"\"\"\""
      ]
    },
    {
      "cell_type": "markdown",
      "metadata": {
        "id": "YLYmUzhvW-Hf"
      },
      "source": [
        "Durante el curso hemos visto varias funciones:\n",
        "- `print(texto)` : Imprime en pantalla el `texto`, no retorna nada\n",
        "- `input(texto)`: Imprime en pantalla el `texto` y le pide un string al usuario, el cual es luego retornado.\n",
        "- `type(variable)`: Retorna el tipo de `variable`.\n",
        "- `round(numero, n_decimales)`: Retorna el valor de `numero` redondeado a `n_decimales`.\n",
        "- `range(inicio, fin, step)`: Retorna un rango de enteros entre `inicio` (incluido) y  `fin` (excluido) cada `step` pasos."
      ]
    },
    {
      "cell_type": "markdown",
      "metadata": {
        "id": "poC3arj7XLVa"
      },
      "source": [
        "### Variables locales y globales\n",
        "\n",
        "Un dato importante a considerar al momento de crear una función, es que toda variable definida dentro de una solo \"vive\" dentro de esta: una vez fuera de la función no podemos acceder a esos elementos. Veamos un par de ejemplos"
      ]
    },
    {
      "cell_type": "code",
      "execution_count": 39,
      "metadata": {
        "id": "a_ac31pwW9Jk"
      },
      "outputs": [
        {
          "name": "stdout",
          "output_type": "stream",
          "text": [
            "x es igual a 2\n",
            "5\n"
          ]
        }
      ],
      "source": [
        "x = 5\n",
        "\n",
        "def f(x):\n",
        "  x = 2\n",
        "  print(\"x es igual a\", x)\n",
        "  return\n",
        "\n",
        "# Que creen que imprimirá?\n",
        "f(x)\n",
        "print(x)"
      ]
    },
    {
      "cell_type": "code",
      "execution_count": 42,
      "metadata": {
        "id": "jQhXoPiZW306"
      },
      "outputs": [
        {
          "name": "stdout",
          "output_type": "stream",
          "text": [
            "y es igual a 10\n"
          ]
        }
      ],
      "source": [
        "def f():\n",
        "  y = 10\n",
        "  print(\"y es igual a\", y)\n",
        "  return\n",
        "\n",
        "# Que creen que imprimirá?\n",
        "f()\n",
        "print(y)"
      ]
    },
    {
      "cell_type": "markdown",
      "metadata": {
        "id": "Iddg3t4IX3vO"
      },
      "source": [
        "Lo anterior ocurre por como se construyen los lenguajes de programación, haciendo que las funciones sean agnosticas al exterior, sin embargo, podemos entrar a veces en confusiones:"
      ]
    },
    {
      "cell_type": "code",
      "execution_count": 43,
      "metadata": {
        "id": "gmygklM8X8m7"
      },
      "outputs": [
        {
          "name": "stdout",
          "output_type": "stream",
          "text": [
            "x es igual a 5\n",
            "5\n"
          ]
        }
      ],
      "source": [
        "x = 5\n",
        "\n",
        "def f():\n",
        "  print(\"x es igual a\", x)\n",
        "  return\n",
        "\n",
        "# Que creen que imprimirá?\n",
        "f()\n",
        "print(x)"
      ]
    },
    {
      "cell_type": "markdown",
      "metadata": {
        "id": "DiGpq0HgX_1G"
      },
      "source": [
        "Si bien x no esta definido dentro de `f()`, puedo usarlo en su interior!, sin embargo, no puedo hacerle cambios:"
      ]
    },
    {
      "cell_type": "code",
      "execution_count": 44,
      "metadata": {
        "id": "YyV52DB4X_Jk"
      },
      "outputs": [
        {
          "ename": "UnboundLocalError",
          "evalue": "cannot access local variable 'x' where it is not associated with a value",
          "output_type": "error",
          "traceback": [
            "\u001b[1;31m---------------------------------------------------------------------------\u001b[0m",
            "\u001b[1;31mUnboundLocalError\u001b[0m                         Traceback (most recent call last)",
            "Cell \u001b[1;32mIn[44], line 9\u001b[0m\n\u001b[0;32m      6\u001b[0m   \u001b[38;5;28;01mreturn\u001b[39;00m\n\u001b[0;32m      8\u001b[0m \u001b[38;5;66;03m# Que creen que imprimirá?\u001b[39;00m\n\u001b[1;32m----> 9\u001b[0m \u001b[43mf\u001b[49m\u001b[43m(\u001b[49m\u001b[43m)\u001b[49m\n\u001b[0;32m     10\u001b[0m \u001b[38;5;28mprint\u001b[39m(x)\n",
            "Cell \u001b[1;32mIn[44], line 4\u001b[0m, in \u001b[0;36mf\u001b[1;34m()\u001b[0m\n\u001b[0;32m      3\u001b[0m \u001b[38;5;28;01mdef\u001b[39;00m \u001b[38;5;21mf\u001b[39m():\n\u001b[1;32m----> 4\u001b[0m   \u001b[43mx\u001b[49m \u001b[38;5;241m+\u001b[39m\u001b[38;5;241m=\u001b[39m \u001b[38;5;241m2\u001b[39m \u001b[38;5;66;03m# le sumo 2\u001b[39;00m\n\u001b[0;32m      5\u001b[0m   \u001b[38;5;28mprint\u001b[39m(\u001b[38;5;124m\"\u001b[39m\u001b[38;5;124mx es igual a\u001b[39m\u001b[38;5;124m\"\u001b[39m, x)\n\u001b[0;32m      6\u001b[0m   \u001b[38;5;28;01mreturn\u001b[39;00m\n",
            "\u001b[1;31mUnboundLocalError\u001b[0m: cannot access local variable 'x' where it is not associated with a value"
          ]
        }
      ],
      "source": [
        "x = 5\n",
        "\n",
        "def f():\n",
        "  x += 2 # le sumo 2\n",
        "  print(\"x es igual a\", x)\n",
        "  return\n",
        "\n",
        "# Que creen que imprimirá?\n",
        "f()\n",
        "print(x)"
      ]
    },
    {
      "cell_type": "markdown",
      "metadata": {
        "id": "kvXFuC0tYERX"
      },
      "source": [
        "En python existe la keyword `global` para decir que queremos explicitamente usar una variable externa a gusto, lo que nos permite hacer cualquier cosa con ella. Notar que ahora si que el valor se ve modificado!"
      ]
    },
    {
      "cell_type": "code",
      "execution_count": 45,
      "metadata": {
        "id": "d4itslr3X9Cb"
      },
      "outputs": [
        {
          "name": "stdout",
          "output_type": "stream",
          "text": [
            "x es igual a 2\n",
            "2\n"
          ]
        }
      ],
      "source": [
        "x = 5\n",
        "\n",
        "def f():\n",
        "  global x\n",
        "  x = 2\n",
        "  print(\"x es igual a\", x)\n",
        "  return\n",
        "\n",
        "# Que creen que imprimirá?\n",
        "f()\n",
        "print(x)"
      ]
    },
    {
      "cell_type": "markdown",
      "metadata": {
        "id": "8yOXZXTUYaeU"
      },
      "source": [
        "#### Ejercicios simples\n",
        "\n",
        "##### 1 Factorial\n",
        "Defina una función `factorial` que recibe de entrada un número `n` y retorna el valor de $n! = 1 \\times 2 \\times \\dots \\times (n - 1) \\times n$"
      ]
    },
    {
      "cell_type": "code",
      "execution_count": 10,
      "metadata": {
        "id": "wXFRg3efYIrb"
      },
      "outputs": [
        {
          "name": "stdout",
          "output_type": "stream",
          "text": [
            "120\n",
            "1\n",
            "El valor debe ser positivo!\n"
          ]
        }
      ],
      "source": [
        "def factorial(n):\n",
        "    if n < 0:\n",
        "        raise ValueError(\"El valor debe ser positivo!\")\n",
        "    elif n == 0:\n",
        "        return 1\n",
        "\n",
        "    resultado = 1\n",
        "    for i in range(1, n + 1):\n",
        "        resultado *= i\n",
        "    return resultado\n",
        "\n",
        "try:\n",
        "    print(factorial(5))\n",
        "    print(factorial(0))\n",
        "    print(factorial(-1))\n",
        "    \n",
        "except ValueError as e:\n",
        "    print(e)\n"
      ]
    },
    {
      "cell_type": "code",
      "execution_count": 11,
      "metadata": {},
      "outputs": [],
      "source": [
        "def factorial(n):\n",
        "    resultado = 1\n",
        "    for i in range(1,n + 1):\n",
        "        resultado *= i\n",
        "    return resultado\n",
        "\n",
        "factorial(5)"
      ]
    },
    {
      "cell_type": "markdown",
      "metadata": {
        "id": "ipNlVuFvZ6dr"
      },
      "source": [
        "###### 2 Máximo de una lista\n",
        "\n",
        "Defina una función `maximo` que recibe de entrada una lista y retorna el valor máximo de esta"
      ]
    },
    {
      "cell_type": "code",
      "execution_count": 22,
      "metadata": {
        "id": "y_LuGEvMZ6oG"
      },
      "outputs": [
        {
          "data": {
            "text/plain": [
              "12"
            ]
          },
          "execution_count": 22,
          "metadata": {},
          "output_type": "execute_result"
        }
      ],
      "source": [
        "def maximo(lista):\n",
        "  max = lista[0]\n",
        "  for i in range(1,len(lista)):\n",
        "    if lista[i] > max:\n",
        "      max = lista[i]\n",
        "  return max\n",
        "\n",
        "\n",
        "lista = [1,12,3,4]\n",
        "maximo(lista)"
      ]
    },
    {
      "cell_type": "markdown",
      "metadata": {
        "id": "1nstUEf-ZDD_"
      },
      "source": [
        "###### 3 Variaión porcentual\n",
        "\n",
        "Calcule la variación porcentual de una lista de intereses anuales. La fórmula de la variación porcentual es\n",
        "\n",
        "$\\Large\\Delta \\%_\\text{actual} = \\frac{\\text{periodo actual} - \\text{periodo anterior}}{\\text{periodo anterior}} \\times 100 $"
      ]
    },
    {
      "cell_type": "code",
      "execution_count": 23,
      "metadata": {
        "id": "iGwMvOVIZL1q"
      },
      "outputs": [],
      "source": [
        "# Tasas de interes anuales\n",
        "tasas_interes = [2.5, 2.6, 2.7, 2.5, 2.8, 2.9]\n",
        "\n",
        "def calcular_variacion(tasas):\n",
        "  variaciones = []\n",
        "  for i in range(1, len(tasas)):\n",
        "    # calcular variacion entre un año y el siguiente\n",
        "    # agregar valor a variaciones\n",
        "    variacion = (tasas[i]-tasas[i-1]) / tasas[i-1]*100\n",
        "    variaciones.append(variacion)\n",
        "  return [round(var, 1) for var in variaciones]\n",
        "\n",
        "assert calcular_variacion(tasas_interes) == [4, 3.8, -7.4, 12, 3.6], \"Resultado Incorrecto\""
      ]
    },
    {
      "cell_type": "markdown",
      "metadata": {
        "id": "1npZi83rZVT_"
      },
      "source": [
        "###### 4 Indicadores Mensuales\n",
        "\n",
        "Dado un diccionario de indicadores mensuales, defina:\n",
        "- Una función que calcule la media de un indicador dado una clave\n",
        "- Una función que, dado un indicador, retorne el mes más bajo. Asuma que la lista de cada indicador está ordenada de Enero a Junio."
      ]
    },
    {
      "cell_type": "code",
      "execution_count": 38,
      "metadata": {
        "id": "nmTq-OIgZXjA"
      },
      "outputs": [
        {
          "data": {
            "text/plain": [
              "0.33"
            ]
          },
          "execution_count": 38,
          "metadata": {},
          "output_type": "execute_result"
        }
      ],
      "source": [
        "# Los indicadores estan ordenados de Enero a Junio\n",
        "indicadores_mensuales = {\n",
        "      \"IPC\": [0.8, -0.1, 1.1, 0.3, 0.1, -0.2],\n",
        "      \"Tasa de Desempleo\": [8.04, 8.37, 8.81, 8.66, 8.52, 8.53],\n",
        "      \"Imacec\": [0.2, -0.5, -2.1, -0.9, -0.8, 0.3]\n",
        "  }\n",
        "\n",
        "indice_meses = {0: \"Enero\",\n",
        "                1: \"Febrero\",\n",
        "                2: \"Marzo\",\n",
        "                3: \"Abril\",\n",
        "                4: \"Mayo\",\n",
        "                5: \"Junio\"}\n",
        "\n",
        "\n",
        "def calcular_media(indicadores, IPC):\n",
        "  \"\"\"Calcula la media de un indicador\"\"\"\n",
        "  # hint: La suma de una lista se puede calcular usando la funcion sum(lista)\n",
        "  media = 0  \n",
        "  media = sum(indicadores[IPC])/len(indicadores[IPC])\n",
        "  return round(media, 2)\n",
        "\n",
        "\n",
        "def mes_minimo(indicadores, clave, indice_meses):\n",
        "  \"\"\"Retorna el mes donde el indicador fue mínimo\"\"\"\n",
        "  largo_indicador = len(indicadores[clave])\n",
        "  minimo_actual = 99999 # valor inicial\n",
        "  indice_mes_minimo = 0 # valor inicial\n",
        "  for i in range(largo_indicador):\n",
        "    if indicadores[clave][i] < minimo_actual:\n",
        "      minimo_actual = indicadores[clave][i]\n",
        "      indice_mes_minimo = i\n",
        "    # Si el valor actual es menor al minimo\n",
        "    # Actualizar el minimo y el indice\n",
        "\n",
        "    # Si no, no hacer nada\n",
        "  return indice_meses[indice_mes_minimo]\n",
        "\n",
        "\n",
        "#calcular_media(indicadores_mensuales, \"IPC\") \n",
        "\n",
        "# Tests\n",
        "assert calcular_media(indicadores_mensuales, \"IPC\") == 0.33, \"Media IPC incorrecta\"\n",
        "assert mes_minimo(indicadores_mensuales, \"Imacec\", indice_meses) == \"Marzo\", \"Incorrecto\"\n",
        "\n"
      ]
    },
    {
      "cell_type": "markdown",
      "metadata": {
        "id": "Up-ciD1IakUx"
      },
      "source": [
        "##### 5 Análisis de venta\n",
        "\n",
        "Un negocio de productos electrónicos tiene la siguiente lista de productos y precios\n",
        "\n",
        "| Producto  | precio |\n",
        "| --------- | ------ |\n",
        "| Celular   | 350000 |\n",
        "| Laptop    | 700000 |\n",
        "| Tablet    | 400000 |\n",
        "| Audifonos | 40000  |\n",
        "\n",
        "Por otro lado, las ventas del primer trimestre se muestra en la siguiente tabla\n",
        "\n",
        "| Producto | Mes 1 | Mes 2   | Mes 3 |\n",
        "| -------- | ----- | ------- | ----- |\n",
        "| Celular  | 320   | 300     | 305   |\n",
        "| Laptop   | 220   | 210     | 215   |\n",
        "| Tablet   | 125   | 130     | 128   |\n",
        "| Audifonos| 190   | 200     | 205   |\n",
        "\n",
        "1. Cree un diccionario `precios` que registre los precios de cada producto. La clave debe ser el nombre del producto.\n",
        "2. Cree un diccionario `ventas` que registre una lista con las ventas de los tres meses para cada producto. La clave debe ser el nombre del producto.\n",
        "3. Calcule el total de unidades vendidas por cada producto usando la función `total_unidades(ventas)`, la cual debe retornar un diccionario.\n",
        "4. Determine qué producto vendió más en el último mes, para ello defina la función `producto_estrella`, la cual retorna la clave de dicho producto.\n",
        "5. Calcule el ingreso total por producto usando la función `ingreso_total(ventas, precios)`, la cual deve retornar un diccionario. Para calcular los ingresos basta con multiplicar el precio del producto con la suma total de unidades."
      ]
    },
    {
      "cell_type": "code",
      "execution_count": null,
      "metadata": {
        "id": "xh0WoFLNav14"
      },
      "outputs": [],
      "source": [
        "# 1\n",
        "precios = {\n",
        "    \"Celular\" : 350000,\n",
        "    # continuar\n",
        "}\n",
        "\n",
        "# 2\n",
        "ventas = {\n",
        "    \"Celular\" : [320, 300, 305],\n",
        "    # continuar\n",
        "}\n",
        "\n",
        "\n",
        "# 3\n",
        "def total_unidades(ventas):\n",
        "  pass # código acá\n",
        "\n",
        "# 4\n",
        "def producto_estrella(ventas):\n",
        "  pass # código acá\n",
        "\n",
        "# 5\n",
        "def ingreso_total(ventas, precios):\n",
        "  pass # código acá\n",
        "\n",
        "\n",
        "unidades_vendidas = total_unidades(ventas)\n",
        "producto_top = producto_estrella(ventas)\n",
        "ingresos_por_producto = ingreso_total(ventas, precios)\n",
        "\n",
        "print(f\"Total de unidades vendidas por producto: {unidades_vendidas}\")\n",
        "print(f\"Producto más vendido en el último mes: {producto_top}\")\n",
        "print(f\"Ingresos totales por producto: {ingresos_por_producto}\")"
      ]
    },
    {
      "cell_type": "code",
      "execution_count": null,
      "metadata": {
        "id": "Be-DxM3qa-7B"
      },
      "outputs": [],
      "source": []
    }
  ],
  "metadata": {
    "colab": {
      "provenance": []
    },
    "kernelspec": {
      "display_name": "data-science",
      "language": "python",
      "name": "python3"
    },
    "language_info": {
      "codemirror_mode": {
        "name": "ipython",
        "version": 3
      },
      "file_extension": ".py",
      "mimetype": "text/x-python",
      "name": "python",
      "nbconvert_exporter": "python",
      "pygments_lexer": "ipython3",
      "version": "3.12.11"
    }
  },
  "nbformat": 4,
  "nbformat_minor": 0
}
