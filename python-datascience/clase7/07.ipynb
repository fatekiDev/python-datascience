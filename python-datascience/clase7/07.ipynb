{
 "cells": [
  {
   "cell_type": "markdown",
   "id": "f9c7fb5a",
   "metadata": {},
   "source": [
    "## **Python para Data Science: Clase 07**\n",
    "\n",
    "### Actividad Práctica: Numpy, Pandas y Librerías de Visualización"
   ]
  },
  {
   "cell_type": "markdown",
   "id": "f32a988e",
   "metadata": {},
   "source": [
    "#### **Actividad 1: Explorando Series y DataFrames con Pandas y Visualizando la Información**\n",
    "\n",
    "1. Crear una Serie a partir de un diccionario:\n",
    " \n",
    " ```data = {\n",
    "    'País': ['Chile', 'Argentina', 'Perú', 'Colombia', 'Uruguay'],\n",
    "    'Población (millones)': [19.5, 45.3, 32.1, 50.3, 3.5],\n",
    "    'PIB (USD miles de millones)': [320.0, 450.5, 226.8, 330.2, 59.2],\n",
    "    'Esperanza de vida (años)': [80.2, 76.1, 75.6, 74.5, 77.8] }\n",
    "```\n",
    "\n",
    "2. Extraer sólo los países con PIB mayor a 300\n",
    "3. Ordenar el DataFrame por “Esperanza de vida” de mayor a menor.\n",
    "4. Calcular el PIB per cápita (en USD) y agregarlo como columna.\n",
    "5. Crear una columna “Nivel de vida” que muestre la siguiente información:\n",
    "    - “Alta” si esperanza ≥ 78\n",
    "    - “Media” si entre 75 y 78\n",
    "    - “Baja” si < 75\n",
    "6. Calcular la media y desviación estándar de la población.\n",
    "7. Encontrar el país con mayor y menor PIB per cápita.\n",
    "8. Crear un Histograma de “Población (millones)”.\n",
    "9. Crear un gráfico de dispersión de “PIB per cápita” vs “Esperanza de vida”."
   ]
  }
 ],
 "metadata": {
  "kernelspec": {
   "display_name": "datalab",
   "language": "python",
   "name": "python3"
  },
  "language_info": {
   "name": "python",
   "version": "3.12.11"
  }
 },
 "nbformat": 4,
 "nbformat_minor": 5
}
