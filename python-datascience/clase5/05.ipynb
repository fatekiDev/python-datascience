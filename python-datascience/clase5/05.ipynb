{
  "cells": [
    {
      "cell_type": "markdown",
      "metadata": {
        "id": "lYE0JBY6IVJ5"
      },
      "source": [
        "## **Python para Data Science: Clase 05**\n",
        "\n",
        "### Librerías: Introducción\n",
        "\n",
        "![](https://i0.wp.com/makemeanalyst.com/wp-content/uploads/2017/09/Python-libraries-for-data-analysis.png?resize=830%2C349&ssl=1)\n",
        "\n",
        "\n",
        " Python soporta el uso de librerías que permiten importar nuevas funcionalidades a nuestro código. Dichas funcionalidades se integran de las siguientes formas:\n",
        "\n",
        "**1. Importación directa:**\n",
        "  ```python\n",
        "  # importamos la libreria directamente\n",
        "  import nombre_libreria\n",
        "  # usamos una funcionalidad sobre algo\n",
        "  nombre_libreria.una_funcion(...)\n",
        "  ```\n",
        "\n",
        "**2. Importación con alias:**\n",
        "  ```python\n",
        "  # esta vez podemos usar lib en vez del nombre completo\n",
        "  import nombre_libreria as lib\n",
        "  lib.una_funcion(...)\n",
        "  ```\n",
        "\n",
        "**3. Importar una (o mas) funcionalidad(es):**\n",
        "  ```python\n",
        "  # importamos una_funcion y otra_funcion desde nombre_libreria\n",
        "  from nombre_libreria import una_funcion, otra_funcion\n",
        "  # podemos usarlas directamente\n",
        "  una_funcion(...)\n",
        "  otra_funcion(...)\n",
        "  ```\n",
        "\n",
        "Veamos algunos ejemplos de librerías que ya vienen por defecto en Python:"
      ]
    },
    {
      "cell_type": "code",
      "execution_count": 1,
      "metadata": {
        "id": "9l3Y0WHJqfT5"
      },
      "outputs": [
        {
          "data": {
            "text/plain": [
              "4.0"
            ]
          },
          "execution_count": 1,
          "metadata": {},
          "output_type": "execute_result"
        }
      ],
      "source": [
        "# Funciones matemáticas\n",
        "import math\n",
        "math.sqrt(16)"
      ]
    },
    {
      "cell_type": "code",
      "execution_count": 2,
      "metadata": {
        "id": "azi_lLJSqhf2"
      },
      "outputs": [
        {
          "name": "stdout",
          "output_type": "stream",
          "text": [
            "2025-07-19 19:51:15.925318\n"
          ]
        }
      ],
      "source": [
        "# Trabajar con fechas y horas\n",
        "from datetime import datetime\n",
        "now = datetime.now() # fecha-hora actual\n",
        "print(now) # Colab está en UTC+0"
      ]
    },
    {
      "cell_type": "code",
      "execution_count": 3,
      "metadata": {
        "id": "VoBVO2BNqjeW"
      },
      "outputs": [
        {
          "name": "stdout",
          "output_type": "stream",
          "text": [
            "9\n",
            "3\n",
            "7\n",
            "3\n",
            "2\n"
          ]
        }
      ],
      "source": [
        "# Generador de números aleatorios\n",
        "import random\n",
        "for i in range(5):\n",
        "  print(random.randint(1,10)) # Número entero aleatorio entre 1 y 10"
      ]
    },
    {
      "cell_type": "markdown",
      "metadata": {
        "id": "5BnR_3yqtSE8"
      },
      "source": [
        "Ahora bien, ¿cómo puedo saber que funcionalidades tiene cada librería que importo? Hay dos formas de saberlo.\n",
        "\n",
        "1. Muchas librerías tienen su documentación en línea, por ejemplo, `math` se puede encontrar en https://docs.python.org/3/library/math.html.\n",
        "2. Siempre se puede usar el comando `help(...)` sobre una de ellas"
      ]
    },
    {
      "cell_type": "code",
      "execution_count": 4,
      "metadata": {
        "id": "W86rVX8EsG4d"
      },
      "outputs": [
        {
          "name": "stdout",
          "output_type": "stream",
          "text": [
            "Help on built-in module math:\n",
            "\n",
            "NAME\n",
            "    math\n",
            "\n",
            "DESCRIPTION\n",
            "    This module provides access to the mathematical functions\n",
            "    defined by the C standard.\n",
            "\n",
            "FUNCTIONS\n",
            "    acos(x, /)\n",
            "        Return the arc cosine (measured in radians) of x.\n",
            "\n",
            "        The result is between 0 and pi.\n",
            "\n",
            "    acosh(x, /)\n",
            "        Return the inverse hyperbolic cosine of x.\n",
            "\n",
            "    asin(x, /)\n",
            "        Return the arc sine (measured in radians) of x.\n",
            "\n",
            "        The result is between -pi/2 and pi/2.\n",
            "\n",
            "    asinh(x, /)\n",
            "        Return the inverse hyperbolic sine of x.\n",
            "\n",
            "    atan(x, /)\n",
            "        Return the arc tangent (measured in radians) of x.\n",
            "\n",
            "        The result is between -pi/2 and pi/2.\n",
            "\n",
            "    atan2(y, x, /)\n",
            "        Return the arc tangent (measured in radians) of y/x.\n",
            "\n",
            "        Unlike atan(y/x), the signs of both x and y are considered.\n",
            "\n",
            "    atanh(x, /)\n",
            "        Return the inverse hyperbolic tangent of x.\n",
            "\n",
            "    cbrt(x, /)\n",
            "        Return the cube root of x.\n",
            "\n",
            "    ceil(x, /)\n",
            "        Return the ceiling of x as an Integral.\n",
            "\n",
            "        This is the smallest integer >= x.\n",
            "\n",
            "    comb(n, k, /)\n",
            "        Number of ways to choose k items from n items without repetition and without order.\n",
            "\n",
            "        Evaluates to n! / (k! * (n - k)!) when k <= n and evaluates\n",
            "        to zero when k > n.\n",
            "\n",
            "        Also called the binomial coefficient because it is equivalent\n",
            "        to the coefficient of k-th term in polynomial expansion of the\n",
            "        expression (1 + x)**n.\n",
            "\n",
            "        Raises TypeError if either of the arguments are not integers.\n",
            "        Raises ValueError if either of the arguments are negative.\n",
            "\n",
            "    copysign(x, y, /)\n",
            "        Return a float with the magnitude (absolute value) of x but the sign of y.\n",
            "\n",
            "        On platforms that support signed zeros, copysign(1.0, -0.0)\n",
            "        returns -1.0.\n",
            "\n",
            "    cos(x, /)\n",
            "        Return the cosine of x (measured in radians).\n",
            "\n",
            "    cosh(x, /)\n",
            "        Return the hyperbolic cosine of x.\n",
            "\n",
            "    degrees(x, /)\n",
            "        Convert angle x from radians to degrees.\n",
            "\n",
            "    dist(p, q, /)\n",
            "        Return the Euclidean distance between two points p and q.\n",
            "\n",
            "        The points should be specified as sequences (or iterables) of\n",
            "        coordinates.  Both inputs must have the same dimension.\n",
            "\n",
            "        Roughly equivalent to:\n",
            "            sqrt(sum((px - qx) ** 2.0 for px, qx in zip(p, q)))\n",
            "\n",
            "    erf(x, /)\n",
            "        Error function at x.\n",
            "\n",
            "    erfc(x, /)\n",
            "        Complementary error function at x.\n",
            "\n",
            "    exp(x, /)\n",
            "        Return e raised to the power of x.\n",
            "\n",
            "    exp2(x, /)\n",
            "        Return 2 raised to the power of x.\n",
            "\n",
            "    expm1(x, /)\n",
            "        Return exp(x)-1.\n",
            "\n",
            "        This function avoids the loss of precision involved in the direct evaluation of exp(x)-1 for small x.\n",
            "\n",
            "    fabs(x, /)\n",
            "        Return the absolute value of the float x.\n",
            "\n",
            "    factorial(n, /)\n",
            "        Find n!.\n",
            "\n",
            "        Raise a ValueError if x is negative or non-integral.\n",
            "\n",
            "    floor(x, /)\n",
            "        Return the floor of x as an Integral.\n",
            "\n",
            "        This is the largest integer <= x.\n",
            "\n",
            "    fmod(x, y, /)\n",
            "        Return fmod(x, y), according to platform C.\n",
            "\n",
            "        x % y may differ.\n",
            "\n",
            "    frexp(x, /)\n",
            "        Return the mantissa and exponent of x, as pair (m, e).\n",
            "\n",
            "        m is a float and e is an int, such that x = m * 2.**e.\n",
            "        If x is 0, m and e are both 0.  Else 0.5 <= abs(m) < 1.0.\n",
            "\n",
            "    fsum(seq, /)\n",
            "        Return an accurate floating-point sum of values in the iterable seq.\n",
            "\n",
            "        Assumes IEEE-754 floating-point arithmetic.\n",
            "\n",
            "    gamma(x, /)\n",
            "        Gamma function at x.\n",
            "\n",
            "    gcd(*integers)\n",
            "        Greatest Common Divisor.\n",
            "\n",
            "    hypot(...)\n",
            "        hypot(*coordinates) -> value\n",
            "\n",
            "        Multidimensional Euclidean distance from the origin to a point.\n",
            "\n",
            "        Roughly equivalent to:\n",
            "            sqrt(sum(x**2 for x in coordinates))\n",
            "\n",
            "        For a two dimensional point (x, y), gives the hypotenuse\n",
            "        using the Pythagorean theorem:  sqrt(x*x + y*y).\n",
            "\n",
            "        For example, the hypotenuse of a 3/4/5 right triangle is:\n",
            "\n",
            "            >>> hypot(3.0, 4.0)\n",
            "            5.0\n",
            "\n",
            "    isclose(a, b, *, rel_tol=1e-09, abs_tol=0.0)\n",
            "        Determine whether two floating-point numbers are close in value.\n",
            "\n",
            "          rel_tol\n",
            "            maximum difference for being considered \"close\", relative to the\n",
            "            magnitude of the input values\n",
            "          abs_tol\n",
            "            maximum difference for being considered \"close\", regardless of the\n",
            "            magnitude of the input values\n",
            "\n",
            "        Return True if a is close in value to b, and False otherwise.\n",
            "\n",
            "        For the values to be considered close, the difference between them\n",
            "        must be smaller than at least one of the tolerances.\n",
            "\n",
            "        -inf, inf and NaN behave similarly to the IEEE 754 Standard.  That\n",
            "        is, NaN is not close to anything, even itself.  inf and -inf are\n",
            "        only close to themselves.\n",
            "\n",
            "    isfinite(x, /)\n",
            "        Return True if x is neither an infinity nor a NaN, and False otherwise.\n",
            "\n",
            "    isinf(x, /)\n",
            "        Return True if x is a positive or negative infinity, and False otherwise.\n",
            "\n",
            "    isnan(x, /)\n",
            "        Return True if x is a NaN (not a number), and False otherwise.\n",
            "\n",
            "    isqrt(n, /)\n",
            "        Return the integer part of the square root of the input.\n",
            "\n",
            "    lcm(*integers)\n",
            "        Least Common Multiple.\n",
            "\n",
            "    ldexp(x, i, /)\n",
            "        Return x * (2**i).\n",
            "\n",
            "        This is essentially the inverse of frexp().\n",
            "\n",
            "    lgamma(x, /)\n",
            "        Natural logarithm of absolute value of Gamma function at x.\n",
            "\n",
            "    log(...)\n",
            "        log(x, [base=math.e])\n",
            "        Return the logarithm of x to the given base.\n",
            "\n",
            "        If the base is not specified, returns the natural logarithm (base e) of x.\n",
            "\n",
            "    log10(x, /)\n",
            "        Return the base 10 logarithm of x.\n",
            "\n",
            "    log1p(x, /)\n",
            "        Return the natural logarithm of 1+x (base e).\n",
            "\n",
            "        The result is computed in a way which is accurate for x near zero.\n",
            "\n",
            "    log2(x, /)\n",
            "        Return the base 2 logarithm of x.\n",
            "\n",
            "    modf(x, /)\n",
            "        Return the fractional and integer parts of x.\n",
            "\n",
            "        Both results carry the sign of x and are floats.\n",
            "\n",
            "    nextafter(x, y, /, *, steps=None)\n",
            "        Return the floating-point value the given number of steps after x towards y.\n",
            "\n",
            "        If steps is not specified or is None, it defaults to 1.\n",
            "\n",
            "        Raises a TypeError, if x or y is not a double, or if steps is not an integer.\n",
            "        Raises ValueError if steps is negative.\n",
            "\n",
            "    perm(n, k=None, /)\n",
            "        Number of ways to choose k items from n items without repetition and with order.\n",
            "\n",
            "        Evaluates to n! / (n - k)! when k <= n and evaluates\n",
            "        to zero when k > n.\n",
            "\n",
            "        If k is not specified or is None, then k defaults to n\n",
            "        and the function returns n!.\n",
            "\n",
            "        Raises TypeError if either of the arguments are not integers.\n",
            "        Raises ValueError if either of the arguments are negative.\n",
            "\n",
            "    pow(x, y, /)\n",
            "        Return x**y (x to the power of y).\n",
            "\n",
            "    prod(iterable, /, *, start=1)\n",
            "        Calculate the product of all the elements in the input iterable.\n",
            "\n",
            "        The default start value for the product is 1.\n",
            "\n",
            "        When the iterable is empty, return the start value.  This function is\n",
            "        intended specifically for use with numeric values and may reject\n",
            "        non-numeric types.\n",
            "\n",
            "    radians(x, /)\n",
            "        Convert angle x from degrees to radians.\n",
            "\n",
            "    remainder(x, y, /)\n",
            "        Difference between x and the closest integer multiple of y.\n",
            "\n",
            "        Return x - n*y where n*y is the closest integer multiple of y.\n",
            "        In the case where x is exactly halfway between two multiples of\n",
            "        y, the nearest even value of n is used. The result is always exact.\n",
            "\n",
            "    sin(x, /)\n",
            "        Return the sine of x (measured in radians).\n",
            "\n",
            "    sinh(x, /)\n",
            "        Return the hyperbolic sine of x.\n",
            "\n",
            "    sqrt(x, /)\n",
            "        Return the square root of x.\n",
            "\n",
            "    sumprod(p, q, /)\n",
            "        Return the sum of products of values from two iterables p and q.\n",
            "\n",
            "        Roughly equivalent to:\n",
            "\n",
            "            sum(itertools.starmap(operator.mul, zip(p, q, strict=True)))\n",
            "\n",
            "        For float and mixed int/float inputs, the intermediate products\n",
            "        and sums are computed with extended precision.\n",
            "\n",
            "    tan(x, /)\n",
            "        Return the tangent of x (measured in radians).\n",
            "\n",
            "    tanh(x, /)\n",
            "        Return the hyperbolic tangent of x.\n",
            "\n",
            "    trunc(x, /)\n",
            "        Truncates the Real x to the nearest Integral toward 0.\n",
            "\n",
            "        Uses the __trunc__ magic method.\n",
            "\n",
            "    ulp(x, /)\n",
            "        Return the value of the least significant bit of the float x.\n",
            "\n",
            "DATA\n",
            "    e = 2.718281828459045\n",
            "    inf = inf\n",
            "    nan = nan\n",
            "    pi = 3.141592653589793\n",
            "    tau = 6.283185307179586\n",
            "\n",
            "FILE\n",
            "    (built-in)\n",
            "\n",
            "\n"
          ]
        }
      ],
      "source": [
        "help(math)"
      ]
    },
    {
      "cell_type": "markdown",
      "metadata": {
        "id": "9wEfsy9ZtV1k"
      },
      "source": [
        "### Instalación de librerías/paquetes\n",
        "\n",
        "Python no se reduce a únicamente usar las librerías predefinidas o las que el usuario implemente, también podemos instalar librerías externas que la comunidad ha implementado. Para ello, se debe utilizar el comando `pip` en la consola\\*:\n",
        "\n",
        "```bash\n",
        "pip install mi-paquete\n",
        "```\n",
        "\n",
        "\\*Los jupyter notebooks también tienen la capacidad de ejecutar comandos, para ello, hay que anteponer un signo de exclamación (`!`).\n"
      ]
    },
    {
      "cell_type": "code",
      "execution_count": 5,
      "metadata": {
        "id": "jr-F__UmtTtd"
      },
      "outputs": [
        {
          "name": "stdout",
          "output_type": "stream",
          "text": [
            "\n",
            "Usage:   \n",
            "  pip <command> [options]\n",
            "\n",
            "Commands:\n",
            "  install                     Install packages.\n",
            "  lock                        Generate a lock file.\n",
            "  download                    Download packages.\n",
            "  uninstall                   Uninstall packages.\n",
            "  freeze                      Output installed packages in requirements format.\n",
            "  inspect                     Inspect the python environment.\n",
            "  list                        List installed packages.\n",
            "  show                        Show information about installed packages.\n",
            "  check                       Verify installed packages have compatible dependencies.\n",
            "  config                      Manage local and global configuration.\n",
            "  search                      Search PyPI for packages.\n",
            "  cache                       Inspect and manage pip's wheel cache.\n",
            "  index                       Inspect information available from package indexes.\n",
            "  wheel                       Build wheels from your requirements.\n",
            "  hash                        Compute hashes of package archives.\n",
            "  completion                  A helper command used for command completion.\n",
            "  debug                       Show information useful for debugging.\n",
            "  help                        Show help for commands.\n",
            "\n",
            "General Options:\n",
            "  -h, --help                  Show help.\n",
            "  --debug                     Let unhandled exceptions propagate outside the\n",
            "                              main subroutine, instead of logging them to\n",
            "                              stderr.\n",
            "  --isolated                  Run pip in an isolated mode, ignoring\n",
            "                              environment variables and user configuration.\n",
            "  --require-virtualenv        Allow pip to only run in a virtual environment;\n",
            "                              exit with an error otherwise.\n",
            "  --python <python>           Run pip with the specified Python interpreter.\n",
            "  -v, --verbose               Give more output. Option is additive, and can be\n",
            "                              used up to 3 times.\n",
            "  -V, --version               Show version and exit.\n",
            "  -q, --quiet                 Give less output. Option is additive, and can be\n",
            "                              used up to 3 times (corresponding to WARNING,\n",
            "                              ERROR, and CRITICAL logging levels).\n",
            "  --log <path>                Path to a verbose appending log.\n",
            "  --no-input                  Disable prompting for input.\n",
            "  --keyring-provider <keyring_provider>\n",
            "                              Enable the credential lookup via the keyring\n",
            "                              library if user input is allowed. Specify which\n",
            "                              mechanism to use [auto, disabled, import,\n",
            "                              subprocess]. (default: auto)\n",
            "  --proxy <proxy>             Specify a proxy in the form\n",
            "                              scheme://[user:passwd@]proxy.server:port.\n",
            "  --retries <retries>         Maximum attempts to establish a new HTTP\n",
            "                              connection. (default: 5)\n",
            "  --timeout <sec>             Set the socket timeout (default 15 seconds).\n",
            "  --exists-action <action>    Default action when a path already exists:\n",
            "                              (s)witch, (i)gnore, (w)ipe, (b)ackup, (a)bort.\n",
            "  --trusted-host <hostname>   Mark this host or host:port pair as trusted,\n",
            "                              even though it does not have valid or any HTTPS.\n",
            "  --cert <path>               Path to PEM-encoded CA certificate bundle. If\n",
            "                              provided, overrides the default. See 'SSL\n",
            "                              Certificate Verification' in pip documentation\n",
            "                              for more information.\n",
            "  --client-cert <path>        Path to SSL client certificate, a single file\n",
            "                              containing the private key and the certificate\n",
            "                              in PEM format.\n",
            "  --cache-dir <dir>           Store the cache data in <dir>.\n",
            "  --no-cache-dir              Disable the cache.\n",
            "  --disable-pip-version-check\n",
            "                              Don't periodically check PyPI to determine\n",
            "                              whether a new version of pip is available for\n",
            "                              download. Implied with --no-index.\n",
            "  --no-color                  Suppress colored output.\n",
            "  --use-feature <feature>     Enable new functionality, that may be backward\n",
            "                              incompatible.\n",
            "  --use-deprecated <feature>  Enable deprecated functionality, that will be\n",
            "                              removed in the future.\n",
            "  --resume-retries <resume_retries>\n",
            "                              Maximum attempts to resume or restart an\n",
            "                              incomplete download. (default: 0)\n"
          ]
        }
      ],
      "source": [
        "!pip"
      ]
    },
    {
      "cell_type": "markdown",
      "metadata": {
        "id": "vmWxve5luTjd"
      },
      "source": [
        "Existe un índice de paquetes donde uno puede buscar implementaciones de su interés, así como también se puede publicar para dejar disponible tu implementación a todo el mundo: [https://pypi.org/](https://pypi.org/)."
      ]
    },
    {
      "cell_type": "markdown",
      "metadata": {
        "id": "qME3qZq_ujhe"
      },
      "source": [
        "## La librería NumPy\n",
        "\n",
        "<div>\n",
        "<img src=\"https://github.com/Vokturz/Curso-Python-BCCh/blob/main/clase3/numpy_dalle3.png?raw=true\" width=\"500\"/>\n",
        "</div>\n",
        "\n",
        "NumPy es una librería especializada en operaciones matemáticas y manipulación de vectores y matrices. Incluye un montón de funciones matemáticas, así como una estructura de datos propia llamada `ndarray` que es mucho más rapida que las listas convencionales de Python y que ademas aporta una mayor versatilidad al permitir describir matrices."
      ]
    },
    {
      "cell_type": "code",
      "execution_count": 6,
      "metadata": {
        "id": "utLEr48utZlF"
      },
      "outputs": [
        {
          "data": {
            "text/plain": [
              "numpy.ndarray"
            ]
          },
          "execution_count": 6,
          "metadata": {},
          "output_type": "execute_result"
        }
      ],
      "source": [
        "import numpy as np # Comunmente se importa con el alias np\n",
        "\n",
        "# Creamos un array a partir de una lista\n",
        "un_array = np.array([1,2,3])\n",
        "type(un_array)"
      ]
    },
    {
      "cell_type": "markdown",
      "metadata": {
        "id": "WgpuGLJBuolh"
      },
      "source": [
        "Existen diferencias importantes a la hora de trabajar con un array versus trabajar con un lista:\n",
        "\n",
        "- Un array **permite operaciones elemento a elemento sin tener que utilizar un bucle** para iterar sobre ellos. Esto le agrega simpleza y eficiencia a la programación.\n",
        "- Un array es de tamaño fijo, es decir, **no se puede cambiar su tamaño** una vez creado. No existen métodos como `array.append`, `array.remove`, ni del `array[i]`, mientras que para una lista si se tienen estas funcionalidades.\n",
        "- Es altamente recomendado que un array sea creado con elementos del mismo tipo."
      ]
    },
    {
      "cell_type": "code",
      "execution_count": 7,
      "metadata": {
        "id": "G9gX0xHeuo4t"
      },
      "outputs": [
        {
          "ename": "ValueError",
          "evalue": "cannot delete array elements",
          "output_type": "error",
          "traceback": [
            "\u001b[31m---------------------------------------------------------------------------\u001b[39m",
            "\u001b[31mValueError\u001b[39m                                Traceback (most recent call last)",
            "\u001b[36mCell\u001b[39m\u001b[36m \u001b[39m\u001b[32mIn[7]\u001b[39m\u001b[32m, line 1\u001b[39m\n\u001b[32m----> \u001b[39m\u001b[32m1\u001b[39m \u001b[38;5;28;01mdel\u001b[39;00m \u001b[43mun_array\u001b[49m\u001b[43m[\u001b[49m\u001b[32;43m0\u001b[39;49m\u001b[43m]\u001b[49m \u001b[38;5;66;03m# Esto lanzará un error\u001b[39;00m\n",
            "\u001b[31mValueError\u001b[39m: cannot delete array elements"
          ]
        }
      ],
      "source": [
        "del un_array[0] # Esto lanzará un error"
      ]
    },
    {
      "cell_type": "markdown",
      "metadata": {
        "id": "yMewRRUturYw"
      },
      "source": [
        "Notar que el nombre técnico del tipo de datos es `ndarray` y no `array` simplemente. Eso viene por el hecho de que NumPy permite trabajar en varias dimensiones, de hecho, el `nd` viene de *N-dimensional*. ¿Por qué denotar esta diferencia? pues porque NumPy nos permite un gran control sobre cada una de las dimensiones del array. Veamos el ejemplo de una matriz de 2 filas y 4 columnas"
      ]
    },
    {
      "cell_type": "code",
      "execution_count": null,
      "metadata": {
        "id": "ydb5tUt5usWq"
      },
      "outputs": [
        {
          "name": "stdout",
          "output_type": "stream",
          "text": [
            "[[1 2 3 4]\n",
            " [5 6 7 8]]\n",
            "\n",
            "Dimension de la matriz: (2, 4)\n",
            "Total filas: 2\n"
          ]
        }
      ],
      "source": [
        "# Creamos un array de 2x4\n",
        "matriz = [[1,2,3,4],\n",
        "          [5,6,7,8]] # matriz pero de lista\n",
        "\n",
        "matriz_np = np.array(matriz) # matriz pero de array\n",
        "\n",
        "print(matriz_np)\n",
        "print(f\"\\nDimension de la matriz: {matriz_np.shape}\") # 2 x 4\n",
        "print(f\"Total filas: {len(matriz_np)}\")"
      ]
    },
    {
      "cell_type": "markdown",
      "metadata": {
        "id": "T4g917FRuvEu"
      },
      "source": [
        "Lo primero a notar es que NumPy tiene el *atributo* `array.shape`, el cual nos dice la dimensionalidad del array, que en este caso es `(2,4)`, indicando que la primera dimensión tiene 2 elementos y la segunda 4.\n",
        "\n",
        "También vemos que la funcionalidad `len` sigue funcionando sobre un NumPy `array`, sin embargo, solo muestra el tamaño de la primera dimensión.\n",
        "\n",
        "### Accediendo a elementos de un array\n",
        "\n",
        "De forma similar que con las listas, un `array` también es una estructura de datos ordenada, por lo tanto podemos acceder usando su índice. Veamos un par de ejemplos:\n"
      ]
    },
    {
      "cell_type": "code",
      "execution_count": null,
      "metadata": {
        "id": "9TB7XvQ_uszJ"
      },
      "outputs": [
        {
          "name": "stdout",
          "output_type": "stream",
          "text": [
            "[1 2 3 4]\n",
            "2\n",
            "2\n"
          ]
        }
      ],
      "source": [
        "# NumPy array\n",
        "print(matriz_np[0]) # La Primera fila\n",
        "print(matriz_np[0][1]) # Primera fila, segundo elemento\n",
        "print(matriz_np[0, 1]) # análogo al anterior, esto no se puede hacer en una lista"
      ]
    },
    {
      "cell_type": "code",
      "execution_count": null,
      "metadata": {
        "id": "qUXkZ7-0uuJR"
      },
      "outputs": [
        {
          "name": "stdout",
          "output_type": "stream",
          "text": [
            "[1, 2, 3, 4]\n",
            "2\n"
          ]
        },
        {
          "ename": "TypeError",
          "evalue": "list indices must be integers or slices, not tuple",
          "output_type": "error",
          "traceback": [
            "\u001b[31m---------------------------------------------------------------------------\u001b[39m",
            "\u001b[31mTypeError\u001b[39m                                 Traceback (most recent call last)",
            "\u001b[36mCell\u001b[39m\u001b[36m \u001b[39m\u001b[32mIn[59]\u001b[39m\u001b[32m, line 4\u001b[39m\n\u001b[32m      2\u001b[39m \u001b[38;5;28mprint\u001b[39m(matriz[\u001b[32m0\u001b[39m]) \u001b[38;5;66;03m# La segunda fila\u001b[39;00m\n\u001b[32m      3\u001b[39m \u001b[38;5;28mprint\u001b[39m(matriz[\u001b[32m0\u001b[39m][\u001b[32m1\u001b[39m]) \u001b[38;5;66;03m# segunda fila, tercer elemento\u001b[39;00m\n\u001b[32m----> \u001b[39m\u001b[32m4\u001b[39m \u001b[38;5;28mprint\u001b[39m(\u001b[43mmatriz\u001b[49m\u001b[43m[\u001b[49m\u001b[32;43m0\u001b[39;49m\u001b[43m,\u001b[49m\u001b[43m \u001b[49m\u001b[32;43m1\u001b[39;49m\u001b[43m]\u001b[49m) \u001b[38;5;66;03m# análogo al anterior, pero tira error en este caso \u001b[39;00m\n",
            "\u001b[31mTypeError\u001b[39m: list indices must be integers or slices, not tuple"
          ]
        }
      ],
      "source": [
        "# Lista\n",
        "print(matriz[0]) # La segunda fila\n",
        "print(matriz[0][1]) # segunda fila, tercer elemento\n",
        "print(matriz[0, 1]) # análogo al anterior, pero tira error en este caso "
      ]
    },
    {
      "cell_type": "markdown",
      "metadata": {
        "id": "nD1nKn0ju4Nk"
      },
      "source": [
        "Esta propiedad de NumPy permite cosas interesantes utilizando *slicing*. Por ejemplo, podemos obtener todas las filas de la segunda columna:"
      ]
    },
    {
      "cell_type": "code",
      "execution_count": null,
      "metadata": {
        "id": "l8lOVvA1uzoG"
      },
      "outputs": [
        {
          "data": {
            "text/plain": [
              "array([2, 6])"
            ]
          },
          "execution_count": 64,
          "metadata": {},
          "output_type": "execute_result"
        }
      ],
      "source": [
        "matriz_np[:, 1] # Segunda columna de la matriz. El ' : ' selecciona todas las filas"
      ]
    },
    {
      "cell_type": "markdown",
      "metadata": {
        "id": "IPsQ17EDu-mt"
      },
      "source": [
        "Si solo hubiesemos usado las lista de Python, ¿Cómo podríamos obtener los elementos de una columna?"
      ]
    },
    {
      "cell_type": "code",
      "execution_count": null,
      "metadata": {
        "id": "vTD0dFeKu43T"
      },
      "outputs": [
        {
          "data": {
            "text/plain": [
              "[2, 6]"
            ]
          },
          "execution_count": 68,
          "metadata": {},
          "output_type": "execute_result"
        }
      ],
      "source": [
        "matriz = [[1,2,3,4],\n",
        "              [5,6,7,8]]\n",
        "# CODIGO\n",
        "# una_matriz[0][1], una_matriz[1][1]\n",
        "[matriz[i][1] for i in range(len(matriz))]"
      ]
    },
    {
      "cell_type": "markdown",
      "metadata": {
        "id": "JcrltoYovBPx"
      },
      "source": [
        "Veamos otro ejemplo. Con listas de Python, ¿cómo puedo sumar dos listas elemento con elemento? por ej: $[1,2,3]+[4,5,6]=[5,7,9]$"
      ]
    },
    {
      "cell_type": "code",
      "execution_count": null,
      "metadata": {
        "id": "yKNyrm8XvAqj"
      },
      "outputs": [
        {
          "name": "stdout",
          "output_type": "stream",
          "text": [
            "[5, 7, 9]\n"
          ]
        }
      ],
      "source": [
        "lista1 = [1,2,3]\n",
        "lista2 = [4,5,6]\n",
        "nueva_lista = [lista1[i] + lista2[i] for i in range(len(lista1))]\n",
        "print(nueva_lista)"
      ]
    },
    {
      "cell_type": "markdown",
      "metadata": {
        "id": "Jc1xb-eHvJvu"
      },
      "source": [
        "Esto en NumPy es mucho más simple: basta con sumar las listas como `arrays` directamente"
      ]
    },
    {
      "cell_type": "code",
      "execution_count": null,
      "metadata": {
        "id": "teq2MC8HvHBK"
      },
      "outputs": [
        {
          "name": "stdout",
          "output_type": "stream",
          "text": [
            "[5 7 9]\n"
          ]
        }
      ],
      "source": [
        "print(np.array(lista1) + np.array(lista2))"
      ]
    },
    {
      "cell_type": "markdown",
      "metadata": {
        "id": "a3nJKm9FvMdS"
      },
      "source": [
        "Existen muchas operaciones que se pueden hacer con NumPy arrays, a continuación se muestran algunas de ellas:"
      ]
    },
    {
      "cell_type": "code",
      "execution_count": null,
      "metadata": {
        "id": "zfaYdte1vK8W"
      },
      "outputs": [
        {
          "name": "stdout",
          "output_type": "stream",
          "text": [
            "[11 12 13]\n",
            "[1 2 3 4 5 6]\n",
            "Array original: [ 0  1  2  3  4  5  6  7  8  9 10]\n",
            "   Elevado a 2: [  0   1   4   9  16  25  36  49  64  81 100]\n",
            "      Promedio: 5.0\n",
            "       Mediana: 5.0\n",
            "        Máximo: 10\n",
            "        Mínimo: 0\n"
          ]
        }
      ],
      "source": [
        "arr1 = np.array(lista1)\n",
        "\n",
        "# Sumar un número a un array:\n",
        "print(arr1 + 10)\n",
        "\n",
        "arr2 = np.array(lista2)\n",
        "\n",
        "# Concatenar arrays\n",
        "arr_concatenado = np.concatenate([arr1, arr2])\n",
        "print(arr_concatenado)\n",
        "\n",
        "un_array = np.arange(11) # similar a list(range(11))\n",
        "print(\"Array original:\",un_array)\n",
        "\n",
        "# Funciones aritmeticas sobre un array\n",
        "print(\"   Elevado a 2:\", un_array**2)\n",
        "print(\"      Promedio:\", np.mean(un_array))\n",
        "print(\"       Mediana:\", np.median(un_array))\n",
        "print(\"        Máximo:\", np.max(un_array))\n",
        "print(\"        Mínimo:\", np.min(un_array))\n",
        "\n"
      ]
    },
    {
      "cell_type": "code",
      "execution_count": null,
      "metadata": {
        "id": "BmsZMMrovPT7"
      },
      "outputs": [
        {
          "name": "stdout",
          "output_type": "stream",
          "text": [
            "[[1 2]\n",
            " [3 4]\n",
            " [5 6]]\n",
            "----------------------\n",
            "Matriz traspuesta\n",
            "[[1 3 5]\n",
            " [2 4 6]]\n"
          ]
        }
      ],
      "source": [
        "matriz = np.array([[1, 2], [3, 4], [5, 6]])\n",
        "print(matriz)\n",
        "print('----------------------')\n",
        "print(\"Matriz traspuesta\")\n",
        "print(matriz.T)"
      ]
    },
    {
      "cell_type": "markdown",
      "metadata": {
        "id": "W_37-BlnvW_C"
      },
      "source": [
        "Veamos un caso de uso interesante de filtrado de datos. Dado un array de numeros enteros, como puedo obtener únicamente los impares?\n",
        "\n",
        "1. Podemos usar operaciónes booleanas sobre el mismo array\n",
        "2. Usamos ese resultado para *enmascarar* el array, obteniendo unicamente los valores que son verdaderos"
      ]
    },
    {
      "cell_type": "code",
      "execution_count": null,
      "metadata": {
        "id": "M9GDBAlGvl39"
      },
      "outputs": [
        {
          "data": {
            "text/plain": [
              "array([ 1,  3,  4,  5,  6,  7,  8,  9, 10])"
            ]
          },
          "execution_count": 86,
          "metadata": {},
          "output_type": "execute_result"
        }
      ],
      "source": [
        "array = np.array(range(1,11))\n",
        "\n",
        "boolean_list = [True] * len(array) # es un enmascaramiento\n",
        "\n",
        "# Sirve para eliminar elementos específicos de un array\n",
        "boolean_list[1] = False #  Elimina el segundo elemento\n",
        "\n",
        "array[boolean_list]"
      ]
    },
    {
      "cell_type": "code",
      "execution_count": null,
      "metadata": {
        "id": "rWb20GObvTAs"
      },
      "outputs": [
        {
          "name": "stdout",
          "output_type": "stream",
          "text": [
            "Array: [ 1  2  3  4  5  6  7  8  9 10]\n",
            "Máscara: [ True False  True False  True False  True False  True False]\n",
            "Impares: [1 3 5 7 9]\n"
          ]
        }
      ],
      "source": [
        "array = np.array(range(1,11))\n",
        "print(\"Array:\", array)\n",
        "mascara = array % 2 != 0\n",
        "print(\"Máscara:\", mascara)\n",
        "impares = array[mascara] # retornará solo los índices que son verdaderos\n",
        "print(\"Impares:\", impares)\n"
      ]
    },
    {
      "cell_type": "markdown",
      "metadata": {
        "id": "LQQ3aXU3v6--"
      },
      "source": [
        "En NumPy existen muchas más funciones, las cuales están muy bien documentadas en su [página web](https://numpy.org/doc/stable/reference/routines.html). Algunas de ellas que no han sido ejemplificadas aquí son:\n",
        "\n",
        "1. Creación de Arrays\n",
        "  - `np.zeros(shape)`: Crea un array de dimension `shape` lleno de ceros\n",
        "  - `np.ones(shape)`: Crea un array de dimension `shape` lleno de unos\n",
        "  - `np.linspace(ini, fin, total)`: Crea un array de `total` números entre `ini` y `fin`\n",
        "2. Más funciones estadísticas\n",
        "  - `np.std(arr)`: Calcula la desviación estándar de un array\n",
        "  - `np.argmin(arr)`: Encuentra el *índice* del valor mínimo en el array\n",
        "  - `np.argmax(arr)`: Encuentra el *índice* del valor máximo en el array\n",
        "  - `np.percentile(arr, q)`: Calcula el q-ésimo percentil del array\n",
        "3. Operaciones de álgebra lineal\n",
        "  - `np.dot(A, B)`: Producto punto de dos arrays\n",
        "  - `np.cross(A, B)`: Producto cruz de dos arrays\n",
        "  - `np.linalg.inv(matriz)`: Calcula la inversa de una matriz\n",
        "4. Funciones Trigonométricas (Array debe estar en radianes)\n",
        "  - `np.sin(arr)`: Calcula el seno de cada elemento del array\n",
        "  - `np.cos(arr)`: Calcula el coseno de cada elemento del array\n",
        "  - `np.tan(arr)`: Calcula la tangente de cada elemento del array"
      ]
    },
    {
      "cell_type": "markdown",
      "metadata": {},
      "source": [
        "\n",
        "Para ejercitar un poco, revisemos la siguiente tabla:\n",
        "\n",
        "| Estudiante | Matemáticas | Ciencias | Historia |\n",
        "| ---------- | ----------- | -------- | -------- |\n",
        "| Juan       | 5.7         | 6.3      | 6.0      |\n",
        "| María      | 6.5         | 5.9      | 6.8      |\n",
        "| Carlos     | 5.0         | 5.5      | 5.2      |\n",
        "| Ana        | 6.2         | 5.3      | 6.5      |\n",
        "\n",
        "\n",
        "Para describir los datos podríamos utilizar una matriz con las filas los nombres de cada estudiante y las columnas representando cada materia."
      ]
    },
    {
      "cell_type": "code",
      "execution_count": null,
      "metadata": {
        "id": "7l3O2EKIvjWH"
      },
      "outputs": [],
      "source": [
        "nombres = [\"Juan\", \"María\", \"Carlos\", \"Ana\"]\n",
        "materias = [\"Matemáticas\", \"Ciencias\", \"Historia\"]\n",
        "\n",
        "calificaciones = np.array([\n",
        "    [5.7, 6.3, 6.0],\n",
        "    [6.5, 5.9, 6.8],\n",
        "    [5.0, 5.5, 5.2],\n",
        "    [6.2, 5.3, 6.5]\n",
        "])"
      ]
    },
    {
      "cell_type": "markdown",
      "metadata": {
        "id": "3teEKXmwwPVm"
      },
      "source": [
        "1. Como podemos sacar el promedio de un estudiante en particular?\n",
        "- Debemos saber a qué fila pertenece, para ello podemos usar `nombres.index(estudiante)`\n",
        "- Finalmente usamos `np.mean` sobre dicho índice"
      ]
    },
    {
      "cell_type": "code",
      "execution_count": null,
      "metadata": {
        "id": "4a6cGAhVwY5r"
      },
      "outputs": [],
      "source": [
        "def promedio_estudiante(calificaciones, estudiante):\n",
        "  indice = nombres.index(estudiante)\n",
        "  return np.mean(calificaciones[indice])\n",
        "\n",
        "assert round(promedio_estudiante(calificaciones, \"Juan\"), 2) == 6.0\n",
        "assert round(promedio_estudiante(calificaciones, \"Carlos\"), 2) == 5.23"
      ]
    },
    {
      "cell_type": "markdown",
      "metadata": {
        "id": "Rj2-QaV7wnQ5"
      },
      "source": [
        "2. Y si queremos saber el promedio esta vez de todo el curso para una materia en particular?\n",
        "\n",
        "- nuevamente usamos index, está vez como materias.index(materia)\n",
        "- Volvemos a usar np.mean, pero con un slicing"
      ]
    },
    {
      "cell_type": "code",
      "execution_count": null,
      "metadata": {
        "id": "aJ95AQHDwmuR"
      },
      "outputs": [],
      "source": [
        "def promedio_materia(calificaciones, materia):\n",
        "  indice =  materias.index(materia)\n",
        "  return np.mean(calificaciones[: , indice])\n",
        "\n",
        "assert round(promedio_materia(calificaciones, \"Matemáticas\"), 2) == 5.85\n",
        "assert round(promedio_materia(calificaciones, \"Ciencias\"), 2) == 5.75"
      ]
    },
    {
      "cell_type": "markdown",
      "metadata": {
        "id": "1qmV1hmMxHNV"
      },
      "source": [
        "Algo interesante de NumPy, es que muchas funcionalidades se pueden aplicar sobre *una dimensión* (eje) en particular. Veamos ejemplos con `np.mean`"
      ]
    },
    {
      "cell_type": "code",
      "execution_count": null,
      "metadata": {
        "id": "B9ERCzu7wmQI"
      },
      "outputs": [
        {
          "name": "stdout",
          "output_type": "stream",
          "text": [
            "Promedio de todas las notas: 5.908333333333334\n",
            "Promedio de cada materia: [5.85  5.75  6.125]\n",
            "Promedio de cada estudiante: [6.         6.4        5.23333333 6.        ]\n"
          ]
        }
      ],
      "source": [
        "print(\"Promedio de todas las notas:\", np.mean(calificaciones))\n",
        "print(\"Promedio de cada materia:\", np.mean(calificaciones, axis=0)) # sobre columnas\n",
        "print(\"Promedio de cada estudiante:\", np.mean(calificaciones, axis=1)) # sobre filas"
      ]
    },
    {
      "cell_type": "markdown",
      "metadata": {
        "id": "oTw6KOtMxNX4"
      },
      "source": [
        "3. Dicho esto, ¿cómo determinarían al estudiante con el mejor promedio?"
      ]
    },
    {
      "cell_type": "code",
      "execution_count": null,
      "metadata": {
        "id": "sIy19G4jxCKH"
      },
      "outputs": [],
      "source": [
        "def mejor_estudiante(calificaciones):\n",
        "  #promedios = np.mean(calificaciones, axis=1)\n",
        "  indice = np.argmax(np.mean(calificaciones, axis=1))\n",
        "  return nombres[indice]\n",
        "assert mejor_estudiante(calificaciones) == 'María'"
      ]
    },
    {
      "cell_type": "markdown",
      "metadata": {
        "id": "o8NN7kLUxYDX"
      },
      "source": [
        "NumPy es la base para otras librerías muy utilizadas en el área de datos:\n",
        "- [**SciPy**](https://scipy.org/) es una librería que extiende las capacidades de NumPy añadiendo algoritmos de álgebra lineal, optimización, procesamiento de señales, distribuciones estadísticas, entre otros.\n",
        "- [**Scikit-learn**](https://scikit-learn.org/) es una de las librerías más populares para Machine Learning en Python.\n",
        "- [**Pandas**](https://pandas.pydata.org/) es una de las herramientas fundamentales para la manipulación y el análisis de datos en Python. Tiene las estructuras de datos `Dataframe` y `Series` optimizadas para análisis de datos tabulares.\n",
        "\n",
        "Existen muchas más librerías basadas en NumPy, por ejemplo, en astronomía la librería AstroPy es muy conocida. En el campo del aprendizaje profundo (deep learning), frameworks como Tensorflow y PyTorch están muy influenciados por NumPy. En el mismo campo, Google liberó hace un par de años un framework llamado JAX, el cual utiliza la misma sintaxis de NumPy."
      ]
    },
    {
      "cell_type": "markdown",
      "metadata": {
        "id": "a0nAF5c_xgEs"
      },
      "source": [
        "## La librería Pandas\n",
        "\n",
        "<div>\n",
        "<img src=\"https://github.com/Vokturz/Curso-Python-BCCh/blob/main/clase4/pandas_dalle3.png?raw=true\" width=\"500\"/>\n",
        "</div>\n",
        "\n",
        "La librería Pandas se utiliza para el análisis y manipulación de datos. Se basa en dos estructuras de datos eficientes y proporciona herramientas esenciales para trabajar con datos tabulares (similares a las tablas de bases de datos o hojas de cálculo): `Series` y `Dataframe`\n",
        "\n",
        "### Series\n",
        "\n",
        "Una Serie es similar a un arreglo unidimensional, pero con etiquetas. Esto último permite acceder a los elementos de una forma muy similar a los diccionarios, sin embargo, a diferencia de estos, una Serie **si** permite elementos duplicados."
      ]
    },
    {
      "cell_type": "code",
      "execution_count": null,
      "metadata": {
        "id": "DM3tA8bUxU6d"
      },
      "outputs": [
        {
          "name": "stdout",
          "output_type": "stream",
          "text": [
            "a    1\n",
            "b    2\n",
            "c    3\n",
            "d    4\n",
            "dtype: int64\n",
            "Index(['a', 'b', 'c', 'd'], dtype='object')\n",
            "[1 2 3 4]\n"
          ]
        }
      ],
      "source": [
        "import pandas as pd\n",
        "# Generamos una serie\n",
        "serie = pd.Series([1, 2, 3, 4], index=[\"a\", \"b\", \"c\", \"d\"])\n",
        "print(serie)\n",
        "\n",
        "# Podemos mirar cuales son los indices\n",
        "print(serie.index)\n",
        "\n",
        "# Asi como tambien sus valores\n",
        "print(serie.values)\n"
      ]
    },
    {
      "cell_type": "code",
      "execution_count": null,
      "metadata": {
        "id": "dVcg8nuixjAQ"
      },
      "outputs": [
        {
          "name": "stdout",
          "output_type": "stream",
          "text": [
            "a    1\n",
            "b    2\n",
            "c    3\n",
            "d    4\n",
            "dtype: int64\n",
            "---\n",
            "El valor de 'a' es 1\n",
            "El valor de 'a' es 0\n",
            "a    0\n",
            "b    2\n",
            "c    3\n",
            "d    4\n",
            "dtype: int64\n"
          ]
        }
      ],
      "source": [
        "# Podemos generar la serie a partir de un diccionario\n",
        "diccionario = {\n",
        "    \"a\": 1, \n",
        "    \"b\": 2, \n",
        "    \"c\": 3, \n",
        "    \"d\": 4\n",
        "}\n",
        "serie = pd.Series(diccionario)\n",
        "print(serie)\n",
        "print(\"---\")\n",
        "\n",
        "# Podemos acceder a un elemento de forma muy similar a un diccionario\n",
        "print(\"El valor de 'a' es\", serie[\"a\"])\n",
        "\n",
        "\n",
        "serie[\"a\"] = 0 # Podemos modificar un valor\n",
        "print(\"El valor de 'a' es\", serie[\"a\"])\n",
        "\n",
        "print(serie)"
      ]
    },
    {
      "cell_type": "code",
      "execution_count": null,
      "metadata": {
        "id": "0cC-p06_xkKv"
      },
      "outputs": [
        {
          "name": "stdout",
          "output_type": "stream",
          "text": [
            "a    1\n",
            "b    2\n",
            "c    3\n",
            "a    4\n",
            "dtype: int64\n",
            "---\n",
            "a    10\n",
            "b     2\n",
            "c     3\n",
            "a    10\n",
            "dtype: int64\n"
          ]
        }
      ],
      "source": [
        "# Una serie tiene indices duplicados (el diccionario no tiene índice duplicados)\n",
        "serie = pd.Series([1, 2, 3, 4], index=[\"a\", \"b\", \"c\", \"a\"])\n",
        "print(serie)\n",
        "print(\"---\")\n",
        "\n",
        "# En este caso, al pedir el valor de \"a\" nos mostrará dos valores\n",
        "serie[\"a\"] = 10\n",
        "print(serie)"
      ]
    },
    {
      "cell_type": "markdown",
      "metadata": {
        "id": "H8BXGywzxmV3"
      },
      "source": [
        "Importante destacar que los valores de una serie (guardados en `serie.values`) son del tipo Numpy array. Esto nos permite hacer las misma cosas que podemos hacer en Numpy!"
      ]
    },
    {
      "cell_type": "code",
      "execution_count": null,
      "metadata": {
        "id": "dY6dToU3xlPo"
      },
      "outputs": [
        {
          "data": {
            "application/vnd.microsoft.datawrangler.viewer.v0+json": {
              "columns": [
                {
                  "name": "index",
                  "rawType": "int64",
                  "type": "integer"
                },
                {
                  "name": "0",
                  "rawType": "int64",
                  "type": "integer"
                }
              ],
              "ref": "9707a5df-af0a-4287-b3d3-35e17d67c7ce",
              "rows": [
                [
                  "0",
                  "3"
                ],
                [
                  "1",
                  "5"
                ],
                [
                  "2",
                  "7"
                ],
                [
                  "3",
                  "9"
                ]
              ],
              "shape": {
                "columns": 1,
                "rows": 4
              }
            },
            "text/plain": [
              "0    3\n",
              "1    5\n",
              "2    7\n",
              "3    9\n",
              "dtype: int64"
            ]
          },
          "execution_count": 104,
          "metadata": {},
          "output_type": "execute_result"
        }
      ],
      "source": [
        "serie1 = pd.Series([1, 2, 3, 4]) # si no se especifican indices, entonces usa numeros de forma incremental\n",
        "serie2 = pd.Series([2, 3, 4, 5])\n",
        "serie1 + serie2"
      ]
    },
    {
      "cell_type": "markdown",
      "metadata": {
        "id": "bxS7V7F_xpEX"
      },
      "source": [
        "Importante notar que las operaciones son sobre los indices que coinciden entre una serie y otra. Si no hay indices coincidentes el resultado será nulo (`np.nan`)"
      ]
    },
    {
      "cell_type": "code",
      "execution_count": null,
      "metadata": {
        "id": "53P7CB4zxnca"
      },
      "outputs": [
        {
          "data": {
            "application/vnd.microsoft.datawrangler.viewer.v0+json": {
              "columns": [
                {
                  "name": "index",
                  "rawType": "object",
                  "type": "string"
                },
                {
                  "name": "0",
                  "rawType": "float64",
                  "type": "float"
                }
              ],
              "ref": "3dd06fe0-070e-499c-a585-bfcaa05af923",
              "rows": [
                [
                  "a",
                  "3.0"
                ],
                [
                  "b",
                  "5.0"
                ],
                [
                  "c",
                  null
                ],
                [
                  "d",
                  null
                ],
                [
                  "e",
                  null
                ],
                [
                  "f",
                  null
                ]
              ],
              "shape": {
                "columns": 1,
                "rows": 6
              }
            },
            "text/plain": [
              "a    3.0\n",
              "b    5.0\n",
              "c    NaN\n",
              "d    NaN\n",
              "e    NaN\n",
              "f    NaN\n",
              "dtype: float64"
            ]
          },
          "execution_count": 109,
          "metadata": {},
          "output_type": "execute_result"
        }
      ],
      "source": [
        "serie1 = pd.Series([1, 2, 3, 4], index=['a', 'b', 'c', 'd'])\n",
        "serie2 = pd.Series([2, 3, 4, 5], index=['a', 'b', 'e', 'f'])\n",
        "serie1 + serie2"
      ]
    },
    {
      "cell_type": "markdown",
      "metadata": {
        "id": "Hz1kkBKzxstq"
      },
      "source": [
        "### DataFrame\n",
        "Un DataFrame es similar a un diccionario de Series. Podemos entenderlo como una tabla de datos donde las columnas son Series que comparten un índice común.\n"
      ]
    },
    {
      "cell_type": "code",
      "execution_count": null,
      "metadata": {
        "id": "cLFhejg7xrTr"
      },
      "outputs": [
        {
          "name": "stdout",
          "output_type": "stream",
          "text": [
            "   columna1 columna2\n",
            "0         1        a\n",
            "1         2        b\n",
            "2         3        c\n",
            "3         4        d\n",
            "---\n",
            "     columna1 columna2\n",
            "id1         1        a\n",
            "id2         2        b\n",
            "id3         3        c\n",
            "id4         4        d\n"
          ]
        }
      ],
      "source": [
        "data = {\n",
        "    'columna1': [1, 2, 3, 4],\n",
        "    'columna2': ['a', 'b', 'c', 'd']\n",
        "}\n",
        "\n",
        "df = pd.DataFrame(data)\n",
        "print(df)\n",
        "print('---')\n",
        "\n",
        "# Podemos asignar indices\n",
        "df = pd.DataFrame(data, index=[\"id1\", \"id2\", \"id3\", \"id4\"])\n",
        "print(df)"
      ]
    },
    {
      "cell_type": "code",
      "execution_count": null,
      "metadata": {
        "id": "sArBNaZOxz8C"
      },
      "outputs": [
        {
          "data": {
            "application/vnd.microsoft.datawrangler.viewer.v0+json": {
              "columns": [
                {
                  "name": "index",
                  "rawType": "object",
                  "type": "string"
                },
                {
                  "name": "columna1",
                  "rawType": "int64",
                  "type": "integer"
                },
                {
                  "name": "columna2",
                  "rawType": "object",
                  "type": "string"
                }
              ],
              "ref": "0651cf83-d808-41db-8510-106ed849141d",
              "rows": [
                [
                  "id1",
                  "1",
                  "a"
                ],
                [
                  "id2",
                  "2",
                  "b"
                ],
                [
                  "id3",
                  "3",
                  "c"
                ],
                [
                  "id4",
                  "4",
                  "d"
                ]
              ],
              "shape": {
                "columns": 2,
                "rows": 4
              }
            },
            "text/html": [
              "<div>\n",
              "<style scoped>\n",
              "    .dataframe tbody tr th:only-of-type {\n",
              "        vertical-align: middle;\n",
              "    }\n",
              "\n",
              "    .dataframe tbody tr th {\n",
              "        vertical-align: top;\n",
              "    }\n",
              "\n",
              "    .dataframe thead th {\n",
              "        text-align: right;\n",
              "    }\n",
              "</style>\n",
              "<table border=\"1\" class=\"dataframe\">\n",
              "  <thead>\n",
              "    <tr style=\"text-align: right;\">\n",
              "      <th></th>\n",
              "      <th>columna1</th>\n",
              "      <th>columna2</th>\n",
              "    </tr>\n",
              "  </thead>\n",
              "  <tbody>\n",
              "    <tr>\n",
              "      <th>id1</th>\n",
              "      <td>1</td>\n",
              "      <td>a</td>\n",
              "    </tr>\n",
              "    <tr>\n",
              "      <th>id2</th>\n",
              "      <td>2</td>\n",
              "      <td>b</td>\n",
              "    </tr>\n",
              "    <tr>\n",
              "      <th>id3</th>\n",
              "      <td>3</td>\n",
              "      <td>c</td>\n",
              "    </tr>\n",
              "    <tr>\n",
              "      <th>id4</th>\n",
              "      <td>4</td>\n",
              "      <td>d</td>\n",
              "    </tr>\n",
              "  </tbody>\n",
              "</table>\n",
              "</div>"
            ],
            "text/plain": [
              "     columna1 columna2\n",
              "id1         1        a\n",
              "id2         2        b\n",
              "id3         3        c\n",
              "id4         4        d"
            ]
          },
          "execution_count": 111,
          "metadata": {},
          "output_type": "execute_result"
        }
      ],
      "source": [
        "# Si omitimos el print, en algunas plataformas los DataFrames se muestran como una tabla\n",
        "df"
      ]
    },
    {
      "cell_type": "code",
      "execution_count": null,
      "metadata": {
        "id": "o9PA6Q0gx1xA"
      },
      "outputs": [
        {
          "name": "stdout",
          "output_type": "stream",
          "text": [
            "id1    a\n",
            "id2    b\n",
            "id3    c\n",
            "id4    d\n",
            "Name: columna2, dtype: object\n",
            "<class 'pandas.core.series.Series'>\n"
          ]
        }
      ],
      "source": [
        "# Podemos acceder a una columna\n",
        "columna2 = df[\"columna2\"]\n",
        "# columna2 = df.loc[:, \"columna2\"] # análogo\n",
        "print(columna2)\n",
        "print(type(columna2)) # Vemos que es una Serie"
      ]
    },
    {
      "cell_type": "code",
      "execution_count": null,
      "metadata": {
        "id": "LcJM9gurx22z"
      },
      "outputs": [
        {
          "name": "stdout",
          "output_type": "stream",
          "text": [
            "columna1    1\n",
            "columna2    a\n",
            "Name: id1, dtype: object\n",
            "<class 'pandas.core.series.Series'>\n"
          ]
        }
      ],
      "source": [
        "# Podemos acceder a un indice\n",
        "id1 = df.loc[\"id1\"]\n",
        "print(id1)\n",
        "print(type(id1)) # Vemos que es una Serie"
      ]
    },
    {
      "cell_type": "code",
      "execution_count": null,
      "metadata": {},
      "outputs": [
        {
          "data": {
            "text/plain": [
              "np.int64(1)"
            ]
          },
          "execution_count": 114,
          "metadata": {},
          "output_type": "execute_result"
        }
      ],
      "source": [
        "df.loc[\"id1\" , \"columna1\"]"
      ]
    },
    {
      "cell_type": "markdown",
      "metadata": {},
      "source": [
        "#### **Accediendo a los valores del dataframe**"
      ]
    },
    {
      "cell_type": "code",
      "execution_count": null,
      "metadata": {},
      "outputs": [
        {
          "data": {
            "text/plain": [
              "array([[1, 'a'],\n",
              "       [2, 'b'],\n",
              "       [3, 'c'],\n",
              "       [4, 'd']], dtype=object)"
            ]
          },
          "execution_count": 115,
          "metadata": {},
          "output_type": "execute_result"
        }
      ],
      "source": [
        "df.values"
      ]
    },
    {
      "cell_type": "code",
      "execution_count": null,
      "metadata": {
        "id": "BGz5rT3Vx441"
      },
      "outputs": [
        {
          "data": {
            "application/vnd.microsoft.datawrangler.viewer.v0+json": {
              "columns": [
                {
                  "name": "index",
                  "rawType": "object",
                  "type": "string"
                },
                {
                  "name": "columna1",
                  "rawType": "int64",
                  "type": "integer"
                },
                {
                  "name": "columna2",
                  "rawType": "object",
                  "type": "string"
                },
                {
                  "name": "columna3",
                  "rawType": "bool",
                  "type": "boolean"
                }
              ],
              "ref": "2bb26537-c06b-41af-8655-5b9aa0b3932e",
              "rows": [
                [
                  "id1",
                  "1",
                  "a",
                  "True"
                ],
                [
                  "id2",
                  "2",
                  "b",
                  "True"
                ],
                [
                  "id3",
                  "3",
                  "c",
                  "False"
                ],
                [
                  "id4",
                  "4",
                  "d",
                  "False"
                ]
              ],
              "shape": {
                "columns": 3,
                "rows": 4
              }
            },
            "text/html": [
              "<div>\n",
              "<style scoped>\n",
              "    .dataframe tbody tr th:only-of-type {\n",
              "        vertical-align: middle;\n",
              "    }\n",
              "\n",
              "    .dataframe tbody tr th {\n",
              "        vertical-align: top;\n",
              "    }\n",
              "\n",
              "    .dataframe thead th {\n",
              "        text-align: right;\n",
              "    }\n",
              "</style>\n",
              "<table border=\"1\" class=\"dataframe\">\n",
              "  <thead>\n",
              "    <tr style=\"text-align: right;\">\n",
              "      <th></th>\n",
              "      <th>columna1</th>\n",
              "      <th>columna2</th>\n",
              "      <th>columna3</th>\n",
              "    </tr>\n",
              "  </thead>\n",
              "  <tbody>\n",
              "    <tr>\n",
              "      <th>id1</th>\n",
              "      <td>1</td>\n",
              "      <td>a</td>\n",
              "      <td>True</td>\n",
              "    </tr>\n",
              "    <tr>\n",
              "      <th>id2</th>\n",
              "      <td>2</td>\n",
              "      <td>b</td>\n",
              "      <td>True</td>\n",
              "    </tr>\n",
              "    <tr>\n",
              "      <th>id3</th>\n",
              "      <td>3</td>\n",
              "      <td>c</td>\n",
              "      <td>False</td>\n",
              "    </tr>\n",
              "    <tr>\n",
              "      <th>id4</th>\n",
              "      <td>4</td>\n",
              "      <td>d</td>\n",
              "      <td>False</td>\n",
              "    </tr>\n",
              "  </tbody>\n",
              "</table>\n",
              "</div>"
            ],
            "text/plain": [
              "     columna1 columna2  columna3\n",
              "id1         1        a      True\n",
              "id2         2        b      True\n",
              "id3         3        c     False\n",
              "id4         4        d     False"
            ]
          },
          "execution_count": 116,
          "metadata": {},
          "output_type": "execute_result"
        }
      ],
      "source": [
        "# Podemos agregar una nueva columna\n",
        "df[\"columna3\"] = [True, True, False ,False]\n",
        "df"
      ]
    },
    {
      "cell_type": "code",
      "execution_count": null,
      "metadata": {
        "id": "FjQByBYOx6tZ"
      },
      "outputs": [
        {
          "data": {
            "text/html": [
              "<div>\n",
              "<style scoped>\n",
              "    .dataframe tbody tr th:only-of-type {\n",
              "        vertical-align: middle;\n",
              "    }\n",
              "\n",
              "    .dataframe tbody tr th {\n",
              "        vertical-align: top;\n",
              "    }\n",
              "\n",
              "    .dataframe thead th {\n",
              "        text-align: right;\n",
              "    }\n",
              "</style>\n",
              "<table border=\"1\" class=\"dataframe\">\n",
              "  <thead>\n",
              "    <tr style=\"text-align: right;\">\n",
              "      <th></th>\n",
              "      <th>columna2</th>\n",
              "      <th>columna3</th>\n",
              "    </tr>\n",
              "    <tr>\n",
              "      <th>columna1</th>\n",
              "      <th></th>\n",
              "      <th></th>\n",
              "    </tr>\n",
              "  </thead>\n",
              "  <tbody>\n",
              "    <tr>\n",
              "      <th>1</th>\n",
              "      <td>a</td>\n",
              "      <td>True</td>\n",
              "    </tr>\n",
              "    <tr>\n",
              "      <th>2</th>\n",
              "      <td>b</td>\n",
              "      <td>True</td>\n",
              "    </tr>\n",
              "    <tr>\n",
              "      <th>3</th>\n",
              "      <td>c</td>\n",
              "      <td>False</td>\n",
              "    </tr>\n",
              "    <tr>\n",
              "      <th>4</th>\n",
              "      <td>d</td>\n",
              "      <td>False</td>\n",
              "    </tr>\n",
              "  </tbody>\n",
              "</table>\n",
              "</div>"
            ],
            "text/plain": [
              "         columna2  columna3\n",
              "columna1                   \n",
              "1               a      True\n",
              "2               b      True\n",
              "3               c     False\n",
              "4               d     False"
            ]
          },
          "execution_count": 72,
          "metadata": {},
          "output_type": "execute_result"
        }
      ],
      "source": [
        "# Podemos asignar una columna como el nuevo indice\n",
        "df.set_index(\"columna1\")  # Esto retorna el DataFrame modificado\n",
        "\n",
        "# Si hubieramos querido guardarlo, deberíamos haber usado:\n",
        "# df = df.set_index(\"columna1\")\n",
        "# df.set_index(\"columna1\", inplace=True) # si inplace=True no retorna nada"
      ]
    },
    {
      "cell_type": "markdown",
      "metadata": {},
      "source": [
        "#### **Renombrando Columnas**"
      ]
    },
    {
      "cell_type": "code",
      "execution_count": null,
      "metadata": {
        "id": "7t52BHbux7kP"
      },
      "outputs": [
        {
          "name": "stdout",
          "output_type": "stream",
          "text": [
            "Index(['columna1', 'columna2', 'columna3'], dtype='object')\n"
          ]
        },
        {
          "data": {
            "application/vnd.microsoft.datawrangler.viewer.v0+json": {
              "columns": [
                {
                  "name": "index",
                  "rawType": "object",
                  "type": "string"
                },
                {
                  "name": "col1",
                  "rawType": "int64",
                  "type": "integer"
                },
                {
                  "name": "col2",
                  "rawType": "object",
                  "type": "string"
                },
                {
                  "name": "col3",
                  "rawType": "bool",
                  "type": "boolean"
                }
              ],
              "ref": "2f1314b2-6c12-49b3-bfa6-f9481c0dcba6",
              "rows": [
                [
                  "id1",
                  "1",
                  "a",
                  "True"
                ],
                [
                  "id2",
                  "2",
                  "b",
                  "True"
                ],
                [
                  "id3",
                  "3",
                  "c",
                  "False"
                ],
                [
                  "id4",
                  "4",
                  "d",
                  "False"
                ]
              ],
              "shape": {
                "columns": 3,
                "rows": 4
              }
            },
            "text/html": [
              "<div>\n",
              "<style scoped>\n",
              "    .dataframe tbody tr th:only-of-type {\n",
              "        vertical-align: middle;\n",
              "    }\n",
              "\n",
              "    .dataframe tbody tr th {\n",
              "        vertical-align: top;\n",
              "    }\n",
              "\n",
              "    .dataframe thead th {\n",
              "        text-align: right;\n",
              "    }\n",
              "</style>\n",
              "<table border=\"1\" class=\"dataframe\">\n",
              "  <thead>\n",
              "    <tr style=\"text-align: right;\">\n",
              "      <th></th>\n",
              "      <th>col1</th>\n",
              "      <th>col2</th>\n",
              "      <th>col3</th>\n",
              "    </tr>\n",
              "  </thead>\n",
              "  <tbody>\n",
              "    <tr>\n",
              "      <th>id1</th>\n",
              "      <td>1</td>\n",
              "      <td>a</td>\n",
              "      <td>True</td>\n",
              "    </tr>\n",
              "    <tr>\n",
              "      <th>id2</th>\n",
              "      <td>2</td>\n",
              "      <td>b</td>\n",
              "      <td>True</td>\n",
              "    </tr>\n",
              "    <tr>\n",
              "      <th>id3</th>\n",
              "      <td>3</td>\n",
              "      <td>c</td>\n",
              "      <td>False</td>\n",
              "    </tr>\n",
              "    <tr>\n",
              "      <th>id4</th>\n",
              "      <td>4</td>\n",
              "      <td>d</td>\n",
              "      <td>False</td>\n",
              "    </tr>\n",
              "  </tbody>\n",
              "</table>\n",
              "</div>"
            ],
            "text/plain": [
              "     col1 col2   col3\n",
              "id1     1    a   True\n",
              "id2     2    b   True\n",
              "id3     3    c  False\n",
              "id4     4    d  False"
            ]
          },
          "execution_count": 117,
          "metadata": {},
          "output_type": "execute_result"
        }
      ],
      "source": [
        "# Podemos acceder a los nombre de las columnas\n",
        "print(df.columns)\n",
        "\n",
        "# Y tambien podemos modificar sus nombres\n",
        "df.columns = [\"col1\", \"col2\", \"col3\"]\n",
        "df"
      ]
    },
    {
      "cell_type": "code",
      "execution_count": null,
      "metadata": {
        "id": "qcy1pzUqx8TW"
      },
      "outputs": [
        {
          "data": {
            "application/vnd.microsoft.datawrangler.viewer.v0+json": {
              "columns": [
                {
                  "name": "index",
                  "rawType": "object",
                  "type": "string"
                },
                {
                  "name": "col1",
                  "rawType": "int64",
                  "type": "integer"
                },
                {
                  "name": "col2",
                  "rawType": "object",
                  "type": "string"
                },
                {
                  "name": "col3",
                  "rawType": "bool",
                  "type": "boolean"
                }
              ],
              "ref": "8ab1583e-ee3f-4543-8ecb-50b9bde470de",
              "rows": [
                [
                  "indice1",
                  "1",
                  "a",
                  "True"
                ],
                [
                  "id2",
                  "2",
                  "b",
                  "True"
                ],
                [
                  "id3",
                  "3",
                  "c",
                  "False"
                ],
                [
                  "id4",
                  "4",
                  "d",
                  "False"
                ]
              ],
              "shape": {
                "columns": 3,
                "rows": 4
              }
            },
            "text/html": [
              "<div>\n",
              "<style scoped>\n",
              "    .dataframe tbody tr th:only-of-type {\n",
              "        vertical-align: middle;\n",
              "    }\n",
              "\n",
              "    .dataframe tbody tr th {\n",
              "        vertical-align: top;\n",
              "    }\n",
              "\n",
              "    .dataframe thead th {\n",
              "        text-align: right;\n",
              "    }\n",
              "</style>\n",
              "<table border=\"1\" class=\"dataframe\">\n",
              "  <thead>\n",
              "    <tr style=\"text-align: right;\">\n",
              "      <th></th>\n",
              "      <th>col1</th>\n",
              "      <th>col2</th>\n",
              "      <th>col3</th>\n",
              "    </tr>\n",
              "  </thead>\n",
              "  <tbody>\n",
              "    <tr>\n",
              "      <th>indice1</th>\n",
              "      <td>1</td>\n",
              "      <td>a</td>\n",
              "      <td>True</td>\n",
              "    </tr>\n",
              "    <tr>\n",
              "      <th>id2</th>\n",
              "      <td>2</td>\n",
              "      <td>b</td>\n",
              "      <td>True</td>\n",
              "    </tr>\n",
              "    <tr>\n",
              "      <th>id3</th>\n",
              "      <td>3</td>\n",
              "      <td>c</td>\n",
              "      <td>False</td>\n",
              "    </tr>\n",
              "    <tr>\n",
              "      <th>id4</th>\n",
              "      <td>4</td>\n",
              "      <td>d</td>\n",
              "      <td>False</td>\n",
              "    </tr>\n",
              "  </tbody>\n",
              "</table>\n",
              "</div>"
            ],
            "text/plain": [
              "         col1 col2   col3\n",
              "indice1     1    a   True\n",
              "id2         2    b   True\n",
              "id3         3    c  False\n",
              "id4         4    d  False"
            ]
          },
          "execution_count": 118,
          "metadata": {},
          "output_type": "execute_result"
        }
      ],
      "source": [
        "# renombrar un indice (no inplace)\n",
        "df.rename({'id1' : 'indice1'})"
      ]
    },
    {
      "cell_type": "markdown",
      "metadata": {},
      "source": [
        "#### **Renombrando Columnas (Segunda Forma)**"
      ]
    },
    {
      "cell_type": "code",
      "execution_count": null,
      "metadata": {
        "id": "IeiQzcAqx9PH"
      },
      "outputs": [
        {
          "data": {
            "application/vnd.microsoft.datawrangler.viewer.v0+json": {
              "columns": [
                {
                  "name": "index",
                  "rawType": "object",
                  "type": "string"
                },
                {
                  "name": "columna1",
                  "rawType": "int64",
                  "type": "integer"
                },
                {
                  "name": "col2",
                  "rawType": "object",
                  "type": "string"
                },
                {
                  "name": "col3",
                  "rawType": "bool",
                  "type": "boolean"
                }
              ],
              "ref": "ec1dab20-504f-4d8e-95c8-751962657a49",
              "rows": [
                [
                  "id1",
                  "1",
                  "a",
                  "True"
                ],
                [
                  "id2",
                  "2",
                  "b",
                  "True"
                ],
                [
                  "id3",
                  "3",
                  "c",
                  "False"
                ],
                [
                  "id4",
                  "4",
                  "d",
                  "False"
                ]
              ],
              "shape": {
                "columns": 3,
                "rows": 4
              }
            },
            "text/html": [
              "<div>\n",
              "<style scoped>\n",
              "    .dataframe tbody tr th:only-of-type {\n",
              "        vertical-align: middle;\n",
              "    }\n",
              "\n",
              "    .dataframe tbody tr th {\n",
              "        vertical-align: top;\n",
              "    }\n",
              "\n",
              "    .dataframe thead th {\n",
              "        text-align: right;\n",
              "    }\n",
              "</style>\n",
              "<table border=\"1\" class=\"dataframe\">\n",
              "  <thead>\n",
              "    <tr style=\"text-align: right;\">\n",
              "      <th></th>\n",
              "      <th>columna1</th>\n",
              "      <th>col2</th>\n",
              "      <th>col3</th>\n",
              "    </tr>\n",
              "  </thead>\n",
              "  <tbody>\n",
              "    <tr>\n",
              "      <th>id1</th>\n",
              "      <td>1</td>\n",
              "      <td>a</td>\n",
              "      <td>True</td>\n",
              "    </tr>\n",
              "    <tr>\n",
              "      <th>id2</th>\n",
              "      <td>2</td>\n",
              "      <td>b</td>\n",
              "      <td>True</td>\n",
              "    </tr>\n",
              "    <tr>\n",
              "      <th>id3</th>\n",
              "      <td>3</td>\n",
              "      <td>c</td>\n",
              "      <td>False</td>\n",
              "    </tr>\n",
              "    <tr>\n",
              "      <th>id4</th>\n",
              "      <td>4</td>\n",
              "      <td>d</td>\n",
              "      <td>False</td>\n",
              "    </tr>\n",
              "  </tbody>\n",
              "</table>\n",
              "</div>"
            ],
            "text/plain": [
              "     columna1 col2   col3\n",
              "id1         1    a   True\n",
              "id2         2    b   True\n",
              "id3         3    c  False\n",
              "id4         4    d  False"
            ]
          },
          "execution_count": 119,
          "metadata": {},
          "output_type": "execute_result"
        }
      ],
      "source": [
        "# renombrar una columna (no inplace)\n",
        "df.rename(columns={'col1' : 'columna1'})"
      ]
    },
    {
      "cell_type": "code",
      "execution_count": null,
      "metadata": {
        "id": "klYXtpANx-qs"
      },
      "outputs": [
        {
          "data": {
            "text/plain": [
              "array([[1, 'a', True],\n",
              "       [2, 'b', True],\n",
              "       [3, 'c', False],\n",
              "       [4, 'd', False]], dtype=object)"
            ]
          },
          "execution_count": 120,
          "metadata": {},
          "output_type": "execute_result"
        }
      ],
      "source": [
        "# Podemos ver que los valores están representados por un array\n",
        "df.values"
      ]
    },
    {
      "cell_type": "markdown",
      "metadata": {
        "id": "8dRv8na_yDzs"
      },
      "source": [
        "Recordando el ejercicio donde *enmascaramos* un array para filtrar un array, esto mismo se puede hacer con los dataframes!"
      ]
    },
    {
      "cell_type": "code",
      "execution_count": null,
      "metadata": {
        "id": "xm_9S7l_x_pU"
      },
      "outputs": [
        {
          "data": {
            "application/vnd.microsoft.datawrangler.viewer.v0+json": {
              "columns": [
                {
                  "name": "index",
                  "rawType": "object",
                  "type": "string"
                },
                {
                  "name": "col1",
                  "rawType": "int64",
                  "type": "integer"
                },
                {
                  "name": "col2",
                  "rawType": "object",
                  "type": "string"
                },
                {
                  "name": "col3",
                  "rawType": "bool",
                  "type": "boolean"
                }
              ],
              "ref": "7cf433fe-a984-45b0-a774-274c97cac278",
              "rows": [
                [
                  "id3",
                  "3",
                  "c",
                  "False"
                ],
                [
                  "id4",
                  "4",
                  "d",
                  "False"
                ]
              ],
              "shape": {
                "columns": 3,
                "rows": 2
              }
            },
            "text/html": [
              "<div>\n",
              "<style scoped>\n",
              "    .dataframe tbody tr th:only-of-type {\n",
              "        vertical-align: middle;\n",
              "    }\n",
              "\n",
              "    .dataframe tbody tr th {\n",
              "        vertical-align: top;\n",
              "    }\n",
              "\n",
              "    .dataframe thead th {\n",
              "        text-align: right;\n",
              "    }\n",
              "</style>\n",
              "<table border=\"1\" class=\"dataframe\">\n",
              "  <thead>\n",
              "    <tr style=\"text-align: right;\">\n",
              "      <th></th>\n",
              "      <th>col1</th>\n",
              "      <th>col2</th>\n",
              "      <th>col3</th>\n",
              "    </tr>\n",
              "  </thead>\n",
              "  <tbody>\n",
              "    <tr>\n",
              "      <th>id3</th>\n",
              "      <td>3</td>\n",
              "      <td>c</td>\n",
              "      <td>False</td>\n",
              "    </tr>\n",
              "    <tr>\n",
              "      <th>id4</th>\n",
              "      <td>4</td>\n",
              "      <td>d</td>\n",
              "      <td>False</td>\n",
              "    </tr>\n",
              "  </tbody>\n",
              "</table>\n",
              "</div>"
            ],
            "text/plain": [
              "     col1 col2   col3\n",
              "id3     3    c  False\n",
              "id4     4    d  False"
            ]
          },
          "execution_count": 121,
          "metadata": {},
          "output_type": "execute_result"
        }
      ],
      "source": [
        "# Ejemplo con Pandas, las siguientes cuatro expresiones hacen lo mismo\n",
        "\n",
        "# Para las últimas dos, es importante que la columna no tenga espacios\n",
        "df[df[\"col1\"] > 2]\n",
        "# df[df.col1 > 2] # esta es otra opción\n",
        "# df.query(\"col1 > 2\") # esta es otra opción\n",
        "# df.pipe(lambda x : x[x[\"col1\"] > 2]) # esta es otra opción"
      ]
    },
    {
      "cell_type": "markdown",
      "metadata": {
        "id": "LqfWw8huyV1M"
      },
      "source": [
        "Los DataFrames contienen las mismas operaciones que los NumPy arrays de forma interna, así por ejemplo, si quiero sacar el promedio de un DataFrame uno utiliza `df.mean()` en vez de `np.mean(df)`."
      ]
    },
    {
      "cell_type": "markdown",
      "metadata": {
        "id": "WgqQtbYoyafG"
      },
      "source": [
        "Volvamos otra vez al problema de las calificaciones:\n",
        "\n",
        "| Estudiante | Matemáticas | Ciencias | Historia |\n",
        "| ---------- | ----------- | -------- | -------- |\n",
        "| Juan       | 5.7         | 6.3      | 6.0      |\n",
        "| María      | 6.5         | 5.9      | 6.8      |\n",
        "| Carlos     | 5.0         | 5.5      | 5.2      |\n",
        "| Ana        | 6.2         | 5.3      | 6.5      |\n",
        "\n",
        "Podemos describir todo esto usando un DataFrame"
      ]
    },
    {
      "cell_type": "code",
      "execution_count": null,
      "metadata": {
        "id": "EpQs6L1fyZ08"
      },
      "outputs": [
        {
          "data": {
            "application/vnd.microsoft.datawrangler.viewer.v0+json": {
              "columns": [
                {
                  "name": "index",
                  "rawType": "object",
                  "type": "string"
                },
                {
                  "name": "Matemáticas",
                  "rawType": "float64",
                  "type": "float"
                },
                {
                  "name": "Ciencias",
                  "rawType": "float64",
                  "type": "float"
                },
                {
                  "name": "Historia",
                  "rawType": "float64",
                  "type": "float"
                }
              ],
              "ref": "953d6358-913c-4ddd-9d25-dfb7e20259d1",
              "rows": [
                [
                  "Juan",
                  "5.7",
                  "6.3",
                  "6.0"
                ],
                [
                  "María",
                  "6.5",
                  "5.9",
                  "6.8"
                ],
                [
                  "Carlos",
                  "5.0",
                  "5.5",
                  "5.2"
                ],
                [
                  "Ana",
                  "6.2",
                  "5.3",
                  "6.5"
                ]
              ],
              "shape": {
                "columns": 3,
                "rows": 4
              }
            },
            "text/html": [
              "<div>\n",
              "<style scoped>\n",
              "    .dataframe tbody tr th:only-of-type {\n",
              "        vertical-align: middle;\n",
              "    }\n",
              "\n",
              "    .dataframe tbody tr th {\n",
              "        vertical-align: top;\n",
              "    }\n",
              "\n",
              "    .dataframe thead th {\n",
              "        text-align: right;\n",
              "    }\n",
              "</style>\n",
              "<table border=\"1\" class=\"dataframe\">\n",
              "  <thead>\n",
              "    <tr style=\"text-align: right;\">\n",
              "      <th></th>\n",
              "      <th>Matemáticas</th>\n",
              "      <th>Ciencias</th>\n",
              "      <th>Historia</th>\n",
              "    </tr>\n",
              "  </thead>\n",
              "  <tbody>\n",
              "    <tr>\n",
              "      <th>Juan</th>\n",
              "      <td>5.7</td>\n",
              "      <td>6.3</td>\n",
              "      <td>6.0</td>\n",
              "    </tr>\n",
              "    <tr>\n",
              "      <th>María</th>\n",
              "      <td>6.5</td>\n",
              "      <td>5.9</td>\n",
              "      <td>6.8</td>\n",
              "    </tr>\n",
              "    <tr>\n",
              "      <th>Carlos</th>\n",
              "      <td>5.0</td>\n",
              "      <td>5.5</td>\n",
              "      <td>5.2</td>\n",
              "    </tr>\n",
              "    <tr>\n",
              "      <th>Ana</th>\n",
              "      <td>6.2</td>\n",
              "      <td>5.3</td>\n",
              "      <td>6.5</td>\n",
              "    </tr>\n",
              "  </tbody>\n",
              "</table>\n",
              "</div>"
            ],
            "text/plain": [
              "        Matemáticas  Ciencias  Historia\n",
              "Juan            5.7       6.3       6.0\n",
              "María           6.5       5.9       6.8\n",
              "Carlos          5.0       5.5       5.2\n",
              "Ana             6.2       5.3       6.5"
            ]
          },
          "execution_count": 122,
          "metadata": {},
          "output_type": "execute_result"
        }
      ],
      "source": [
        "nombres = [\"Juan\", \"María\", \"Carlos\", \"Ana\"]\n",
        "materias = [\"Matemáticas\", \"Ciencias\", \"Historia\"]\n",
        "\n",
        "calificaciones = np.array([\n",
        "    [5.7, 6.3, 6.0],\n",
        "    [6.5, 5.9, 6.8],\n",
        "    [5.0, 5.5, 5.2],\n",
        "    [6.2, 5.3, 6.5]\n",
        "])\n",
        "\n",
        "calificaciones_df = pd.DataFrame(calificaciones, index=nombres, columns=materias)\n",
        "calificaciones_df"
      ]
    },
    {
      "cell_type": "code",
      "execution_count": null,
      "metadata": {
        "id": "4_obfW3ayQ5E"
      },
      "outputs": [
        {
          "data": {
            "text/plain": [
              "np.float64(6.0)"
            ]
          },
          "execution_count": 123,
          "metadata": {},
          "output_type": "execute_result"
        }
      ],
      "source": [
        "# Promedio de un estudiante\n",
        "def promedio_estudiante(df, estudiante):\n",
        "  return df.loc[estudiante].mean()\n",
        "\n",
        "promedio_estudiante(calificaciones_df, \"Juan\")"
      ]
    },
    {
      "cell_type": "code",
      "execution_count": null,
      "metadata": {
        "id": "7hKSz6C2yfeY"
      },
      "outputs": [
        {
          "data": {
            "text/plain": [
              "np.float64(5.85)"
            ]
          },
          "execution_count": 124,
          "metadata": {},
          "output_type": "execute_result"
        }
      ],
      "source": [
        "# Promedio materia\n",
        "def promedio_materia(df, materia):\n",
        "  return df[materia].mean()\n",
        "\n",
        "promedio_materia(calificaciones_df, \"Matemáticas\")"
      ]
    },
    {
      "cell_type": "code",
      "execution_count": null,
      "metadata": {},
      "outputs": [
        {
          "ename": "AttributeError",
          "evalue": "'Series' object has no attribute 'idmax'",
          "output_type": "error",
          "traceback": [
            "\u001b[31m---------------------------------------------------------------------------\u001b[39m",
            "\u001b[31mAttributeError\u001b[39m                            Traceback (most recent call last)",
            "\u001b[32m~\\AppData\\Local\\Temp\\ipykernel_16452\\1247252192.py\u001b[39m in \u001b[36m?\u001b[39m\u001b[34m()\u001b[39m\n\u001b[32m----> \u001b[39m\u001b[32m1\u001b[39m calificaciones_df.mean(axis=\u001b[32m1\u001b[39m).idmax()\n",
            "\u001b[32mc:\\Users\\Victo\\anaconda3\\envs\\python-datascience\\Lib\\site-packages\\pandas\\core\\generic.py\u001b[39m in \u001b[36m?\u001b[39m\u001b[34m(self, name)\u001b[39m\n\u001b[32m   6295\u001b[39m             \u001b[38;5;28;01mand\u001b[39;00m name \u001b[38;5;28;01mnot\u001b[39;00m \u001b[38;5;28;01min\u001b[39;00m self._accessors\n\u001b[32m   6296\u001b[39m             \u001b[38;5;28;01mand\u001b[39;00m self._info_axis._can_hold_identifiers_and_holds_name(name)\n\u001b[32m   6297\u001b[39m         ):\n\u001b[32m   6298\u001b[39m             \u001b[38;5;28;01mreturn\u001b[39;00m self[name]\n\u001b[32m-> \u001b[39m\u001b[32m6299\u001b[39m         \u001b[38;5;28;01mreturn\u001b[39;00m object.__getattribute__(self, name)\n",
            "\u001b[31mAttributeError\u001b[39m: 'Series' object has no attribute 'idmax'"
          ]
        }
      ],
      "source": [
        "calificaciones_df.mean(axis=1).idmax()"
      ]
    },
    {
      "cell_type": "code",
      "execution_count": null,
      "metadata": {
        "id": "n3kYhNYLyga1"
      },
      "outputs": [
        {
          "ename": "AttributeError",
          "evalue": "'Series' object has no attribute 'idmax'",
          "output_type": "error",
          "traceback": [
            "\u001b[31m---------------------------------------------------------------------------\u001b[39m",
            "\u001b[31mAttributeError\u001b[39m                            Traceback (most recent call last)",
            "\u001b[32m~\\AppData\\Local\\Temp\\ipykernel_16452\\2979435388.py\u001b[39m in \u001b[36m?\u001b[39m\u001b[34m()\u001b[39m\n\u001b[32m      1\u001b[39m \u001b[38;5;66;03m# Mejor estudiante\u001b[39;00m\n\u001b[32m      2\u001b[39m \u001b[38;5;28;01mdef\u001b[39;00m mejor_estudiante(df):\n\u001b[32m      3\u001b[39m   \u001b[38;5;28;01mreturn\u001b[39;00m df.mean(axis=\u001b[32m1\u001b[39m).idmax()\n\u001b[32m      4\u001b[39m \n\u001b[32m----> \u001b[39m\u001b[32m5\u001b[39m mejor_estudiante(calificaciones_df)\n",
            "\u001b[32m~\\AppData\\Local\\Temp\\ipykernel_16452\\2979435388.py\u001b[39m in \u001b[36m?\u001b[39m\u001b[34m(df)\u001b[39m\n\u001b[32m      2\u001b[39m \u001b[38;5;28;01mdef\u001b[39;00m mejor_estudiante(df):\n\u001b[32m----> \u001b[39m\u001b[32m3\u001b[39m   \u001b[38;5;28;01mreturn\u001b[39;00m df.mean(axis=\u001b[32m1\u001b[39m).idmax()\n",
            "\u001b[32mc:\\Users\\Victo\\anaconda3\\envs\\python-datascience\\Lib\\site-packages\\pandas\\core\\generic.py\u001b[39m in \u001b[36m?\u001b[39m\u001b[34m(self, name)\u001b[39m\n\u001b[32m   6295\u001b[39m             \u001b[38;5;28;01mand\u001b[39;00m name \u001b[38;5;28;01mnot\u001b[39;00m \u001b[38;5;28;01min\u001b[39;00m self._accessors\n\u001b[32m   6296\u001b[39m             \u001b[38;5;28;01mand\u001b[39;00m self._info_axis._can_hold_identifiers_and_holds_name(name)\n\u001b[32m   6297\u001b[39m         ):\n\u001b[32m   6298\u001b[39m             \u001b[38;5;28;01mreturn\u001b[39;00m self[name]\n\u001b[32m-> \u001b[39m\u001b[32m6299\u001b[39m         \u001b[38;5;28;01mreturn\u001b[39;00m object.__getattribute__(self, name)\n",
            "\u001b[31mAttributeError\u001b[39m: 'Series' object has no attribute 'idmax'"
          ]
        }
      ],
      "source": [
        "# Mejor estudiante\n",
        "def mejor_estudiante(df):\n",
        "  return df.mean(axis=1).idmax()\n",
        "\n",
        "mejor_estudiante(calificaciones_df)"
      ]
    },
    {
      "cell_type": "markdown",
      "metadata": {
        "id": "wcSYUXPSymZT"
      },
      "source": [
        "### **Cargando Archivos**\n",
        "\n",
        "Pandas permite cargar archivos de distintas fuentes, basta con usar la función de Pandas correcta según el tipo de archivo:\n",
        "\n",
        "```python\n",
        "# Cargar desde un archivo CSV\n",
        "df = pd.read_csv('ruta/del/archivo.csv')\n",
        "\n",
        "# Cargar desde un archivo Excel\n",
        "# NOTA: Es importante que el Excel tenga un buen formato\n",
        "df = pd.read_excel('ruta/del/archivo.xlsx')\n",
        "\n",
        "# Cargar desde un archivo Stata\n",
        "df = pd.read_stata('ruta/del/archivo.dta')\n",
        "\n",
        "# Cargar desde un archivo SQL\n",
        "df = pd.read_sql('ruta/del/archivo.sql')\n",
        "```\n",
        "\n",
        "En este caso `ruta/del/archivo` corresponde a la ubicación del archivo dentro de nuestro computador. No obstante, podemos también cargar un archivo desde un link:\n",
        "\n",
        "```python\n",
        "# Cargar desde un archivo CSV en internet\n",
        "df = pd.read_csv('https://url_al_archivo_csv')\n",
        "```\n",
        "\n",
        "\n",
        "#### Ejemplo práctico\n",
        "\n",
        "A continuación se muestra un ejemplo de cómo leer un archivo y sacar ciertas estadísticas sobre él. Para ello, normalmente se realizan ciertos pasos:\n",
        "\n",
        "1. **Carga del archivo**: Como se mencionó anteriormente, ya sea desde una ubicación local o desde un enlace en línea.\n",
        "2. **Exploración inicial**: Antes de cualquier análisis, es crucial familiarizarse con la naturaleza y estructura de los datos.\n",
        "3. **Limpieza de datos**: Este paso implica tratar los valores faltantes, remover duplicados, corregir errores, entre otras acciones necesarias para garantizar la calidad de los datos.\n",
        "4. **Análisis y obtención de estadísticas**: Una vez que los datos están limpios, podemos proceder a realizar diferentes análisis y obtener estadísticas relevantes."
      ]
    },
    {
      "cell_type": "code",
      "execution_count": null,
      "metadata": {
        "id": "_yLgt-R9yg4q"
      },
      "outputs": [
        {
          "name": "stdout",
          "output_type": "stream",
          "text": [
            "(393, 5)\n"
          ]
        },
        {
          "data": {
            "application/vnd.microsoft.datawrangler.viewer.v0+json": {
              "columns": [
                {
                  "name": "index",
                  "rawType": "int64",
                  "type": "integer"
                },
                {
                  "name": "Region",
                  "rawType": "object",
                  "type": "string"
                },
                {
                  "name": "Codigo region",
                  "rawType": "float64",
                  "type": "float"
                },
                {
                  "name": "Comuna",
                  "rawType": "object",
                  "type": "string"
                },
                {
                  "name": "Codigo comuna",
                  "rawType": "float64",
                  "type": "float"
                },
                {
                  "name": "Poblacion",
                  "rawType": "float64",
                  "type": "float"
                }
              ],
              "ref": "db1cfdc7-e9c7-4e8c-a28a-d9ccfdbc7622",
              "rows": [
                [
                  "0",
                  "Arica y Parinacota",
                  "15.0",
                  "Arica",
                  "15101.0",
                  "247552.0"
                ],
                [
                  "1",
                  "Arica y Parinacota",
                  "15.0",
                  "Camarones",
                  "15102.0",
                  "1233.0"
                ],
                [
                  "2",
                  "Arica y Parinacota",
                  "15.0",
                  "General Lagos",
                  "15202.0",
                  "810.0"
                ],
                [
                  "3",
                  "Arica y Parinacota",
                  "15.0",
                  "Putre",
                  "15201.0",
                  "2515.0"
                ],
                [
                  "4",
                  "Arica y Parinacota",
                  "15.0",
                  "Desconocido Arica y Parinacota",
                  null,
                  null
                ]
              ],
              "shape": {
                "columns": 5,
                "rows": 5
              }
            },
            "text/html": [
              "<div>\n",
              "<style scoped>\n",
              "    .dataframe tbody tr th:only-of-type {\n",
              "        vertical-align: middle;\n",
              "    }\n",
              "\n",
              "    .dataframe tbody tr th {\n",
              "        vertical-align: top;\n",
              "    }\n",
              "\n",
              "    .dataframe thead th {\n",
              "        text-align: right;\n",
              "    }\n",
              "</style>\n",
              "<table border=\"1\" class=\"dataframe\">\n",
              "  <thead>\n",
              "    <tr style=\"text-align: right;\">\n",
              "      <th></th>\n",
              "      <th>Region</th>\n",
              "      <th>Codigo region</th>\n",
              "      <th>Comuna</th>\n",
              "      <th>Codigo comuna</th>\n",
              "      <th>Poblacion</th>\n",
              "    </tr>\n",
              "  </thead>\n",
              "  <tbody>\n",
              "    <tr>\n",
              "      <th>0</th>\n",
              "      <td>Arica y Parinacota</td>\n",
              "      <td>15.0</td>\n",
              "      <td>Arica</td>\n",
              "      <td>15101.0</td>\n",
              "      <td>247552.0</td>\n",
              "    </tr>\n",
              "    <tr>\n",
              "      <th>1</th>\n",
              "      <td>Arica y Parinacota</td>\n",
              "      <td>15.0</td>\n",
              "      <td>Camarones</td>\n",
              "      <td>15102.0</td>\n",
              "      <td>1233.0</td>\n",
              "    </tr>\n",
              "    <tr>\n",
              "      <th>2</th>\n",
              "      <td>Arica y Parinacota</td>\n",
              "      <td>15.0</td>\n",
              "      <td>General Lagos</td>\n",
              "      <td>15202.0</td>\n",
              "      <td>810.0</td>\n",
              "    </tr>\n",
              "    <tr>\n",
              "      <th>3</th>\n",
              "      <td>Arica y Parinacota</td>\n",
              "      <td>15.0</td>\n",
              "      <td>Putre</td>\n",
              "      <td>15201.0</td>\n",
              "      <td>2515.0</td>\n",
              "    </tr>\n",
              "    <tr>\n",
              "      <th>4</th>\n",
              "      <td>Arica y Parinacota</td>\n",
              "      <td>15.0</td>\n",
              "      <td>Desconocido Arica y Parinacota</td>\n",
              "      <td>NaN</td>\n",
              "      <td>NaN</td>\n",
              "    </tr>\n",
              "  </tbody>\n",
              "</table>\n",
              "</div>"
            ],
            "text/plain": [
              "               Region  Codigo region                          Comuna  \\\n",
              "0  Arica y Parinacota           15.0                           Arica   \n",
              "1  Arica y Parinacota           15.0                       Camarones   \n",
              "2  Arica y Parinacota           15.0                   General Lagos   \n",
              "3  Arica y Parinacota           15.0                           Putre   \n",
              "4  Arica y Parinacota           15.0  Desconocido Arica y Parinacota   \n",
              "\n",
              "   Codigo comuna  Poblacion  \n",
              "0        15101.0   247552.0  \n",
              "1        15102.0     1233.0  \n",
              "2        15202.0      810.0  \n",
              "3        15201.0     2515.0  \n",
              "4            NaN        NaN  "
            ]
          },
          "execution_count": 127,
          "metadata": {},
          "output_type": "execute_result"
        }
      ],
      "source": [
        "import pandas as pd\n",
        "\n",
        "# 1. Datos de población en Chile por Región y Comuna\n",
        "df = pd.read_csv('https://dagshub.com/itare/MinCienciaCovid19/raw/50d5e0435cf89a5222bf5e19eda102510774f899/input/DistribucionDEIS/baseFiles/DEIS_template.csv')\n",
        "print(df.shape) # Mostrar las dimensiones\n",
        "# 2. Mostrar las primeras (5) filas\n",
        "df.head()"
      ]
    },
    {
      "cell_type": "code",
      "execution_count": null,
      "metadata": {
        "id": "FXokZ1Eyyquu"
      },
      "outputs": [
        {
          "name": "stdout",
          "output_type": "stream",
          "text": [
            "<class 'pandas.core.frame.DataFrame'>\n",
            "RangeIndex: 393 entries, 0 to 392\n",
            "Data columns (total 5 columns):\n",
            " #   Column         Non-Null Count  Dtype  \n",
            "---  ------         --------------  -----  \n",
            " 0   Region         378 non-null    object \n",
            " 1   Codigo region  378 non-null    float64\n",
            " 2   Comuna         378 non-null    object \n",
            " 3   Codigo comuna  346 non-null    float64\n",
            " 4   Poblacion      362 non-null    float64\n",
            "dtypes: float64(3), object(2)\n",
            "memory usage: 15.5+ KB\n"
          ]
        }
      ],
      "source": [
        "# 2. Info general de la tabla\n",
        "# object es cualquier tipo no numerico (lista, tupla, strings, etc)\n",
        "# en este caso corresponden a strings\n",
        "df.info()"
      ]
    },
    {
      "cell_type": "code",
      "execution_count": null,
      "metadata": {
        "id": "XiUSb1ypyt8j"
      },
      "outputs": [
        {
          "data": {
            "application/vnd.microsoft.datawrangler.viewer.v0+json": {
              "columns": [
                {
                  "name": "index",
                  "rawType": "object",
                  "type": "string"
                },
                {
                  "name": "0",
                  "rawType": "int64",
                  "type": "integer"
                }
              ],
              "ref": "c262468c-ebca-4f65-8ff0-1a94534ba30e",
              "rows": [
                [
                  "Region",
                  "15"
                ],
                [
                  "Codigo region",
                  "15"
                ],
                [
                  "Comuna",
                  "15"
                ],
                [
                  "Codigo comuna",
                  "47"
                ],
                [
                  "Poblacion",
                  "31"
                ]
              ],
              "shape": {
                "columns": 1,
                "rows": 5
              }
            },
            "text/plain": [
              "Region           15\n",
              "Codigo region    15\n",
              "Comuna           15\n",
              "Codigo comuna    47\n",
              "Poblacion        31\n",
              "dtype: int64"
            ]
          },
          "execution_count": 129,
          "metadata": {},
          "output_type": "execute_result"
        }
      ],
      "source": [
        "# 3. Veamos la cantidad de valores NaN\n",
        "df.isna().sum()"
      ]
    },
    {
      "cell_type": "code",
      "execution_count": null,
      "metadata": {
        "id": "sA2P6acVyvCY"
      },
      "outputs": [
        {
          "data": {
            "application/vnd.microsoft.datawrangler.viewer.v0+json": {
              "columns": [
                {
                  "name": "index",
                  "rawType": "int64",
                  "type": "integer"
                },
                {
                  "name": "Region",
                  "rawType": "object",
                  "type": "unknown"
                },
                {
                  "name": "Codigo region",
                  "rawType": "float64",
                  "type": "float"
                },
                {
                  "name": "Comuna",
                  "rawType": "object",
                  "type": "unknown"
                },
                {
                  "name": "Codigo comuna",
                  "rawType": "float64",
                  "type": "float"
                },
                {
                  "name": "Poblacion",
                  "rawType": "float64",
                  "type": "float"
                }
              ],
              "ref": "2a7102a0-2165-4d54-928e-b0bdfc188a40",
              "rows": [
                [
                  "4",
                  "Arica y Parinacota",
                  "15.0",
                  "Desconocido Arica y Parinacota",
                  null,
                  null
                ],
                [
                  "6",
                  null,
                  null,
                  null,
                  null,
                  null
                ],
                [
                  "14",
                  "Tarapaca",
                  "1.0",
                  "Desconocido Tarapaca",
                  null,
                  null
                ],
                [
                  "16",
                  null,
                  null,
                  null,
                  null,
                  null
                ],
                [
                  "26",
                  "Antofagasta",
                  "2.0",
                  "Desconocido Antofagasta",
                  null,
                  null
                ],
                [
                  "28",
                  null,
                  null,
                  null,
                  null,
                  null
                ],
                [
                  "38",
                  "Atacama",
                  "3.0",
                  "Desconocido Atacama",
                  null,
                  null
                ],
                [
                  "40",
                  null,
                  null,
                  null,
                  null,
                  null
                ],
                [
                  "56",
                  "Coquimbo",
                  "4.0",
                  "Desconocido Coquimbo",
                  null,
                  null
                ],
                [
                  "58",
                  null,
                  null,
                  null,
                  null,
                  null
                ],
                [
                  "97",
                  "Valparaiso",
                  "5.0",
                  "Desconocido Valparaiso",
                  null,
                  null
                ],
                [
                  "99",
                  null,
                  null,
                  null,
                  null,
                  null
                ],
                [
                  "152",
                  "Metropolitana",
                  "13.0",
                  "Desconocido Metropolitana",
                  null,
                  null
                ],
                [
                  "154",
                  null,
                  null,
                  null,
                  null,
                  null
                ],
                [
                  "188",
                  "Del Libertador General Bernardo O’Higgins",
                  "6.0",
                  "Desconocido O’Higgins",
                  null,
                  null
                ],
                [
                  "190",
                  null,
                  null,
                  null,
                  null,
                  null
                ],
                [
                  "221",
                  "Maule",
                  "7.0",
                  "Desconocido Maule",
                  null,
                  null
                ],
                [
                  "223",
                  null,
                  null,
                  null,
                  null,
                  null
                ],
                [
                  "245",
                  "Nuble",
                  "16.0",
                  "Desconocido Nuble",
                  null,
                  null
                ],
                [
                  "247",
                  null,
                  null,
                  null,
                  null,
                  null
                ],
                [
                  "281",
                  "Biobio",
                  "8.0",
                  "Desconocido Biobio",
                  null,
                  null
                ],
                [
                  "283",
                  null,
                  null,
                  null,
                  null,
                  null
                ],
                [
                  "316",
                  "La Araucania",
                  "9.0",
                  "Desconocido Araucania",
                  null,
                  null
                ],
                [
                  "318",
                  null,
                  null,
                  null,
                  null,
                  null
                ],
                [
                  "331",
                  "Los Rios",
                  "14.0",
                  "Desconocido Los Rios",
                  null,
                  null
                ],
                [
                  "333",
                  null,
                  null,
                  null,
                  null,
                  null
                ],
                [
                  "364",
                  "Los Lagos",
                  "10.0",
                  "Desconocido Los Lagos",
                  null,
                  null
                ],
                [
                  "366",
                  null,
                  null,
                  null,
                  null,
                  null
                ],
                [
                  "377",
                  "Aysen",
                  "11.0",
                  "Desconocido Aysen",
                  null,
                  null
                ],
                [
                  "379",
                  null,
                  null,
                  null,
                  null,
                  null
                ],
                [
                  "391",
                  "Magallanes y la Antartica",
                  "12.0",
                  "Desconocido Magallanes",
                  null,
                  null
                ]
              ],
              "shape": {
                "columns": 5,
                "rows": 31
              }
            },
            "text/html": [
              "<div>\n",
              "<style scoped>\n",
              "    .dataframe tbody tr th:only-of-type {\n",
              "        vertical-align: middle;\n",
              "    }\n",
              "\n",
              "    .dataframe tbody tr th {\n",
              "        vertical-align: top;\n",
              "    }\n",
              "\n",
              "    .dataframe thead th {\n",
              "        text-align: right;\n",
              "    }\n",
              "</style>\n",
              "<table border=\"1\" class=\"dataframe\">\n",
              "  <thead>\n",
              "    <tr style=\"text-align: right;\">\n",
              "      <th></th>\n",
              "      <th>Region</th>\n",
              "      <th>Codigo region</th>\n",
              "      <th>Comuna</th>\n",
              "      <th>Codigo comuna</th>\n",
              "      <th>Poblacion</th>\n",
              "    </tr>\n",
              "  </thead>\n",
              "  <tbody>\n",
              "    <tr>\n",
              "      <th>4</th>\n",
              "      <td>Arica y Parinacota</td>\n",
              "      <td>15.0</td>\n",
              "      <td>Desconocido Arica y Parinacota</td>\n",
              "      <td>NaN</td>\n",
              "      <td>NaN</td>\n",
              "    </tr>\n",
              "    <tr>\n",
              "      <th>6</th>\n",
              "      <td>NaN</td>\n",
              "      <td>NaN</td>\n",
              "      <td>NaN</td>\n",
              "      <td>NaN</td>\n",
              "      <td>NaN</td>\n",
              "    </tr>\n",
              "    <tr>\n",
              "      <th>14</th>\n",
              "      <td>Tarapaca</td>\n",
              "      <td>1.0</td>\n",
              "      <td>Desconocido Tarapaca</td>\n",
              "      <td>NaN</td>\n",
              "      <td>NaN</td>\n",
              "    </tr>\n",
              "    <tr>\n",
              "      <th>16</th>\n",
              "      <td>NaN</td>\n",
              "      <td>NaN</td>\n",
              "      <td>NaN</td>\n",
              "      <td>NaN</td>\n",
              "      <td>NaN</td>\n",
              "    </tr>\n",
              "    <tr>\n",
              "      <th>26</th>\n",
              "      <td>Antofagasta</td>\n",
              "      <td>2.0</td>\n",
              "      <td>Desconocido Antofagasta</td>\n",
              "      <td>NaN</td>\n",
              "      <td>NaN</td>\n",
              "    </tr>\n",
              "    <tr>\n",
              "      <th>28</th>\n",
              "      <td>NaN</td>\n",
              "      <td>NaN</td>\n",
              "      <td>NaN</td>\n",
              "      <td>NaN</td>\n",
              "      <td>NaN</td>\n",
              "    </tr>\n",
              "    <tr>\n",
              "      <th>38</th>\n",
              "      <td>Atacama</td>\n",
              "      <td>3.0</td>\n",
              "      <td>Desconocido Atacama</td>\n",
              "      <td>NaN</td>\n",
              "      <td>NaN</td>\n",
              "    </tr>\n",
              "    <tr>\n",
              "      <th>40</th>\n",
              "      <td>NaN</td>\n",
              "      <td>NaN</td>\n",
              "      <td>NaN</td>\n",
              "      <td>NaN</td>\n",
              "      <td>NaN</td>\n",
              "    </tr>\n",
              "    <tr>\n",
              "      <th>56</th>\n",
              "      <td>Coquimbo</td>\n",
              "      <td>4.0</td>\n",
              "      <td>Desconocido Coquimbo</td>\n",
              "      <td>NaN</td>\n",
              "      <td>NaN</td>\n",
              "    </tr>\n",
              "    <tr>\n",
              "      <th>58</th>\n",
              "      <td>NaN</td>\n",
              "      <td>NaN</td>\n",
              "      <td>NaN</td>\n",
              "      <td>NaN</td>\n",
              "      <td>NaN</td>\n",
              "    </tr>\n",
              "    <tr>\n",
              "      <th>97</th>\n",
              "      <td>Valparaiso</td>\n",
              "      <td>5.0</td>\n",
              "      <td>Desconocido Valparaiso</td>\n",
              "      <td>NaN</td>\n",
              "      <td>NaN</td>\n",
              "    </tr>\n",
              "    <tr>\n",
              "      <th>99</th>\n",
              "      <td>NaN</td>\n",
              "      <td>NaN</td>\n",
              "      <td>NaN</td>\n",
              "      <td>NaN</td>\n",
              "      <td>NaN</td>\n",
              "    </tr>\n",
              "    <tr>\n",
              "      <th>152</th>\n",
              "      <td>Metropolitana</td>\n",
              "      <td>13.0</td>\n",
              "      <td>Desconocido Metropolitana</td>\n",
              "      <td>NaN</td>\n",
              "      <td>NaN</td>\n",
              "    </tr>\n",
              "    <tr>\n",
              "      <th>154</th>\n",
              "      <td>NaN</td>\n",
              "      <td>NaN</td>\n",
              "      <td>NaN</td>\n",
              "      <td>NaN</td>\n",
              "      <td>NaN</td>\n",
              "    </tr>\n",
              "    <tr>\n",
              "      <th>188</th>\n",
              "      <td>Del Libertador General Bernardo O’Higgins</td>\n",
              "      <td>6.0</td>\n",
              "      <td>Desconocido O’Higgins</td>\n",
              "      <td>NaN</td>\n",
              "      <td>NaN</td>\n",
              "    </tr>\n",
              "    <tr>\n",
              "      <th>190</th>\n",
              "      <td>NaN</td>\n",
              "      <td>NaN</td>\n",
              "      <td>NaN</td>\n",
              "      <td>NaN</td>\n",
              "      <td>NaN</td>\n",
              "    </tr>\n",
              "    <tr>\n",
              "      <th>221</th>\n",
              "      <td>Maule</td>\n",
              "      <td>7.0</td>\n",
              "      <td>Desconocido Maule</td>\n",
              "      <td>NaN</td>\n",
              "      <td>NaN</td>\n",
              "    </tr>\n",
              "    <tr>\n",
              "      <th>223</th>\n",
              "      <td>NaN</td>\n",
              "      <td>NaN</td>\n",
              "      <td>NaN</td>\n",
              "      <td>NaN</td>\n",
              "      <td>NaN</td>\n",
              "    </tr>\n",
              "    <tr>\n",
              "      <th>245</th>\n",
              "      <td>Nuble</td>\n",
              "      <td>16.0</td>\n",
              "      <td>Desconocido Nuble</td>\n",
              "      <td>NaN</td>\n",
              "      <td>NaN</td>\n",
              "    </tr>\n",
              "    <tr>\n",
              "      <th>247</th>\n",
              "      <td>NaN</td>\n",
              "      <td>NaN</td>\n",
              "      <td>NaN</td>\n",
              "      <td>NaN</td>\n",
              "      <td>NaN</td>\n",
              "    </tr>\n",
              "    <tr>\n",
              "      <th>281</th>\n",
              "      <td>Biobio</td>\n",
              "      <td>8.0</td>\n",
              "      <td>Desconocido Biobio</td>\n",
              "      <td>NaN</td>\n",
              "      <td>NaN</td>\n",
              "    </tr>\n",
              "    <tr>\n",
              "      <th>283</th>\n",
              "      <td>NaN</td>\n",
              "      <td>NaN</td>\n",
              "      <td>NaN</td>\n",
              "      <td>NaN</td>\n",
              "      <td>NaN</td>\n",
              "    </tr>\n",
              "    <tr>\n",
              "      <th>316</th>\n",
              "      <td>La Araucania</td>\n",
              "      <td>9.0</td>\n",
              "      <td>Desconocido Araucania</td>\n",
              "      <td>NaN</td>\n",
              "      <td>NaN</td>\n",
              "    </tr>\n",
              "    <tr>\n",
              "      <th>318</th>\n",
              "      <td>NaN</td>\n",
              "      <td>NaN</td>\n",
              "      <td>NaN</td>\n",
              "      <td>NaN</td>\n",
              "      <td>NaN</td>\n",
              "    </tr>\n",
              "    <tr>\n",
              "      <th>331</th>\n",
              "      <td>Los Rios</td>\n",
              "      <td>14.0</td>\n",
              "      <td>Desconocido Los Rios</td>\n",
              "      <td>NaN</td>\n",
              "      <td>NaN</td>\n",
              "    </tr>\n",
              "    <tr>\n",
              "      <th>333</th>\n",
              "      <td>NaN</td>\n",
              "      <td>NaN</td>\n",
              "      <td>NaN</td>\n",
              "      <td>NaN</td>\n",
              "      <td>NaN</td>\n",
              "    </tr>\n",
              "    <tr>\n",
              "      <th>364</th>\n",
              "      <td>Los Lagos</td>\n",
              "      <td>10.0</td>\n",
              "      <td>Desconocido Los Lagos</td>\n",
              "      <td>NaN</td>\n",
              "      <td>NaN</td>\n",
              "    </tr>\n",
              "    <tr>\n",
              "      <th>366</th>\n",
              "      <td>NaN</td>\n",
              "      <td>NaN</td>\n",
              "      <td>NaN</td>\n",
              "      <td>NaN</td>\n",
              "      <td>NaN</td>\n",
              "    </tr>\n",
              "    <tr>\n",
              "      <th>377</th>\n",
              "      <td>Aysen</td>\n",
              "      <td>11.0</td>\n",
              "      <td>Desconocido Aysen</td>\n",
              "      <td>NaN</td>\n",
              "      <td>NaN</td>\n",
              "    </tr>\n",
              "    <tr>\n",
              "      <th>379</th>\n",
              "      <td>NaN</td>\n",
              "      <td>NaN</td>\n",
              "      <td>NaN</td>\n",
              "      <td>NaN</td>\n",
              "      <td>NaN</td>\n",
              "    </tr>\n",
              "    <tr>\n",
              "      <th>391</th>\n",
              "      <td>Magallanes y la Antartica</td>\n",
              "      <td>12.0</td>\n",
              "      <td>Desconocido Magallanes</td>\n",
              "      <td>NaN</td>\n",
              "      <td>NaN</td>\n",
              "    </tr>\n",
              "  </tbody>\n",
              "</table>\n",
              "</div>"
            ],
            "text/plain": [
              "                                        Region  Codigo region  \\\n",
              "4                           Arica y Parinacota           15.0   \n",
              "6                                          NaN            NaN   \n",
              "14                                    Tarapaca            1.0   \n",
              "16                                         NaN            NaN   \n",
              "26                                 Antofagasta            2.0   \n",
              "28                                         NaN            NaN   \n",
              "38                                     Atacama            3.0   \n",
              "40                                         NaN            NaN   \n",
              "56                                    Coquimbo            4.0   \n",
              "58                                         NaN            NaN   \n",
              "97                                  Valparaiso            5.0   \n",
              "99                                         NaN            NaN   \n",
              "152                              Metropolitana           13.0   \n",
              "154                                        NaN            NaN   \n",
              "188  Del Libertador General Bernardo O’Higgins            6.0   \n",
              "190                                        NaN            NaN   \n",
              "221                                      Maule            7.0   \n",
              "223                                        NaN            NaN   \n",
              "245                                      Nuble           16.0   \n",
              "247                                        NaN            NaN   \n",
              "281                                     Biobio            8.0   \n",
              "283                                        NaN            NaN   \n",
              "316                               La Araucania            9.0   \n",
              "318                                        NaN            NaN   \n",
              "331                                   Los Rios           14.0   \n",
              "333                                        NaN            NaN   \n",
              "364                                  Los Lagos           10.0   \n",
              "366                                        NaN            NaN   \n",
              "377                                      Aysen           11.0   \n",
              "379                                        NaN            NaN   \n",
              "391                  Magallanes y la Antartica           12.0   \n",
              "\n",
              "                             Comuna  Codigo comuna  Poblacion  \n",
              "4    Desconocido Arica y Parinacota            NaN        NaN  \n",
              "6                               NaN            NaN        NaN  \n",
              "14             Desconocido Tarapaca            NaN        NaN  \n",
              "16                              NaN            NaN        NaN  \n",
              "26          Desconocido Antofagasta            NaN        NaN  \n",
              "28                              NaN            NaN        NaN  \n",
              "38              Desconocido Atacama            NaN        NaN  \n",
              "40                              NaN            NaN        NaN  \n",
              "56             Desconocido Coquimbo            NaN        NaN  \n",
              "58                              NaN            NaN        NaN  \n",
              "97           Desconocido Valparaiso            NaN        NaN  \n",
              "99                              NaN            NaN        NaN  \n",
              "152       Desconocido Metropolitana            NaN        NaN  \n",
              "154                             NaN            NaN        NaN  \n",
              "188           Desconocido O’Higgins            NaN        NaN  \n",
              "190                             NaN            NaN        NaN  \n",
              "221               Desconocido Maule            NaN        NaN  \n",
              "223                             NaN            NaN        NaN  \n",
              "245               Desconocido Nuble            NaN        NaN  \n",
              "247                             NaN            NaN        NaN  \n",
              "281              Desconocido Biobio            NaN        NaN  \n",
              "283                             NaN            NaN        NaN  \n",
              "316           Desconocido Araucania            NaN        NaN  \n",
              "318                             NaN            NaN        NaN  \n",
              "331            Desconocido Los Rios            NaN        NaN  \n",
              "333                             NaN            NaN        NaN  \n",
              "364           Desconocido Los Lagos            NaN        NaN  \n",
              "366                             NaN            NaN        NaN  \n",
              "377               Desconocido Aysen            NaN        NaN  \n",
              "379                             NaN            NaN        NaN  \n",
              "391          Desconocido Magallanes            NaN        NaN  "
            ]
          },
          "execution_count": 130,
          "metadata": {},
          "output_type": "execute_result"
        }
      ],
      "source": [
        "# 3. En particular, nos interesan los NaN en la columna poblacion\n",
        "df[df['Poblacion'].isna()]"
      ]
    },
    {
      "cell_type": "markdown",
      "metadata": {},
      "source": [
        "#### **Para saber que hace una librería**"
      ]
    },
    {
      "cell_type": "code",
      "execution_count": null,
      "metadata": {},
      "outputs": [
        {
          "name": "stdout",
          "output_type": "stream",
          "text": [
            "Help on method dropna in module pandas.core.frame:\n",
            "\n",
            "dropna(*, axis: 'Axis' = 0, how: 'AnyAll | lib.NoDefault' = <no_default>, thresh: 'int | lib.NoDefault' = <no_default>, subset: 'IndexLabel | None' = None, inplace: 'bool' = False, ignore_index: 'bool' = False) -> 'DataFrame | None' method of pandas.core.frame.DataFrame instance\n",
            "    Remove missing values.\n",
            "\n",
            "    See the :ref:`User Guide <missing_data>` for more on which values are\n",
            "    considered missing, and how to work with missing data.\n",
            "\n",
            "    Parameters\n",
            "    ----------\n",
            "    axis : {0 or 'index', 1 or 'columns'}, default 0\n",
            "        Determine if rows or columns which contain missing values are\n",
            "        removed.\n",
            "\n",
            "        * 0, or 'index' : Drop rows which contain missing values.\n",
            "        * 1, or 'columns' : Drop columns which contain missing value.\n",
            "\n",
            "        Only a single axis is allowed.\n",
            "\n",
            "    how : {'any', 'all'}, default 'any'\n",
            "        Determine if row or column is removed from DataFrame, when we have\n",
            "        at least one NA or all NA.\n",
            "\n",
            "        * 'any' : If any NA values are present, drop that row or column.\n",
            "        * 'all' : If all values are NA, drop that row or column.\n",
            "\n",
            "    thresh : int, optional\n",
            "        Require that many non-NA values. Cannot be combined with how.\n",
            "    subset : column label or sequence of labels, optional\n",
            "        Labels along other axis to consider, e.g. if you are dropping rows\n",
            "        these would be a list of columns to include.\n",
            "    inplace : bool, default False\n",
            "        Whether to modify the DataFrame rather than creating a new one.\n",
            "    ignore_index : bool, default ``False``\n",
            "        If ``True``, the resulting axis will be labeled 0, 1, …, n - 1.\n",
            "\n",
            "        .. versionadded:: 2.0.0\n",
            "\n",
            "    Returns\n",
            "    -------\n",
            "    DataFrame or None\n",
            "        DataFrame with NA entries dropped from it or None if ``inplace=True``.\n",
            "\n",
            "    See Also\n",
            "    --------\n",
            "    DataFrame.isna: Indicate missing values.\n",
            "    DataFrame.notna : Indicate existing (non-missing) values.\n",
            "    DataFrame.fillna : Replace missing values.\n",
            "    Series.dropna : Drop missing values.\n",
            "    Index.dropna : Drop missing indices.\n",
            "\n",
            "    Examples\n",
            "    --------\n",
            "    >>> df = pd.DataFrame({\"name\": ['Alfred', 'Batman', 'Catwoman'],\n",
            "    ...                    \"toy\": [np.nan, 'Batmobile', 'Bullwhip'],\n",
            "    ...                    \"born\": [pd.NaT, pd.Timestamp(\"1940-04-25\"),\n",
            "    ...                             pd.NaT]})\n",
            "    >>> df\n",
            "           name        toy       born\n",
            "    0    Alfred        NaN        NaT\n",
            "    1    Batman  Batmobile 1940-04-25\n",
            "    2  Catwoman   Bullwhip        NaT\n",
            "\n",
            "    Drop the rows where at least one element is missing.\n",
            "\n",
            "    >>> df.dropna()\n",
            "         name        toy       born\n",
            "    1  Batman  Batmobile 1940-04-25\n",
            "\n",
            "    Drop the columns where at least one element is missing.\n",
            "\n",
            "    >>> df.dropna(axis='columns')\n",
            "           name\n",
            "    0    Alfred\n",
            "    1    Batman\n",
            "    2  Catwoman\n",
            "\n",
            "    Drop the rows where all elements are missing.\n",
            "\n",
            "    >>> df.dropna(how='all')\n",
            "           name        toy       born\n",
            "    0    Alfred        NaN        NaT\n",
            "    1    Batman  Batmobile 1940-04-25\n",
            "    2  Catwoman   Bullwhip        NaT\n",
            "\n",
            "    Keep only the rows with at least 2 non-NA values.\n",
            "\n",
            "    >>> df.dropna(thresh=2)\n",
            "           name        toy       born\n",
            "    1    Batman  Batmobile 1940-04-25\n",
            "    2  Catwoman   Bullwhip        NaT\n",
            "\n",
            "    Define in which columns to look for missing values.\n",
            "\n",
            "    >>> df.dropna(subset=['name', 'toy'])\n",
            "           name        toy       born\n",
            "    1    Batman  Batmobile 1940-04-25\n",
            "    2  Catwoman   Bullwhip        NaT\n",
            "\n"
          ]
        }
      ],
      "source": [
        "help(df.dropna)"
      ]
    },
    {
      "cell_type": "code",
      "execution_count": null,
      "metadata": {
        "id": "zuzEQPPNyvy0"
      },
      "outputs": [
        {
          "name": "stdout",
          "output_type": "stream",
          "text": [
            "(362, 5)\n"
          ]
        },
        {
          "data": {
            "text/plain": [
              "np.float64(38916620.0)"
            ]
          },
          "execution_count": 132,
          "metadata": {},
          "output_type": "execute_result"
        }
      ],
      "source": [
        "# 3. Eliminamos los NaN de Población\n",
        "df = df.dropna(subset=[\"Poblacion\"])\n",
        "print(df.shape) # Deberían haber 346 comunas\n",
        "df[\"Poblacion\"].sum() # ?? No parece ser correcto"
      ]
    },
    {
      "cell_type": "code",
      "execution_count": null,
      "metadata": {
        "id": "rKvZKcMgyxvF"
      },
      "outputs": [
        {
          "data": {
            "application/vnd.microsoft.datawrangler.viewer.v0+json": {
              "columns": [
                {
                  "name": "index",
                  "rawType": "int64",
                  "type": "integer"
                },
                {
                  "name": "Region",
                  "rawType": "object",
                  "type": "string"
                },
                {
                  "name": "Codigo region",
                  "rawType": "float64",
                  "type": "float"
                },
                {
                  "name": "Comuna",
                  "rawType": "object",
                  "type": "string"
                },
                {
                  "name": "Codigo comuna",
                  "rawType": "float64",
                  "type": "float"
                },
                {
                  "name": "Poblacion",
                  "rawType": "float64",
                  "type": "float"
                }
              ],
              "ref": "07e21824-1a3a-42d4-89df-e0c95a615f32",
              "rows": [
                [
                  "0",
                  "Arica y Parinacota",
                  "15.0",
                  "Arica",
                  "15101.0",
                  "247552.0"
                ],
                [
                  "1",
                  "Arica y Parinacota",
                  "15.0",
                  "Camarones",
                  "15102.0",
                  "1233.0"
                ],
                [
                  "2",
                  "Arica y Parinacota",
                  "15.0",
                  "General Lagos",
                  "15202.0",
                  "810.0"
                ],
                [
                  "3",
                  "Arica y Parinacota",
                  "15.0",
                  "Putre",
                  "15201.0",
                  "2515.0"
                ],
                [
                  "5",
                  "Arica y Parinacota",
                  "15.0",
                  "Total",
                  null,
                  "252110.0"
                ],
                [
                  "7",
                  "Tarapaca",
                  "1.0",
                  "Alto Hospicio",
                  "1107.0",
                  "129999.0"
                ],
                [
                  "8",
                  "Tarapaca",
                  "1.0",
                  "Camina",
                  "1402.0",
                  "1375.0"
                ],
                [
                  "9",
                  "Tarapaca",
                  "1.0",
                  "Colchane",
                  "1403.0",
                  "1583.0"
                ],
                [
                  "10",
                  "Tarapaca",
                  "1.0",
                  "Huara",
                  "1404.0",
                  "3000.0"
                ],
                [
                  "11",
                  "Tarapaca",
                  "1.0",
                  "Iquique",
                  "1101.0",
                  "223463.0"
                ]
              ],
              "shape": {
                "columns": 5,
                "rows": 10
              }
            },
            "text/html": [
              "<div>\n",
              "<style scoped>\n",
              "    .dataframe tbody tr th:only-of-type {\n",
              "        vertical-align: middle;\n",
              "    }\n",
              "\n",
              "    .dataframe tbody tr th {\n",
              "        vertical-align: top;\n",
              "    }\n",
              "\n",
              "    .dataframe thead th {\n",
              "        text-align: right;\n",
              "    }\n",
              "</style>\n",
              "<table border=\"1\" class=\"dataframe\">\n",
              "  <thead>\n",
              "    <tr style=\"text-align: right;\">\n",
              "      <th></th>\n",
              "      <th>Region</th>\n",
              "      <th>Codigo region</th>\n",
              "      <th>Comuna</th>\n",
              "      <th>Codigo comuna</th>\n",
              "      <th>Poblacion</th>\n",
              "    </tr>\n",
              "  </thead>\n",
              "  <tbody>\n",
              "    <tr>\n",
              "      <th>0</th>\n",
              "      <td>Arica y Parinacota</td>\n",
              "      <td>15.0</td>\n",
              "      <td>Arica</td>\n",
              "      <td>15101.0</td>\n",
              "      <td>247552.0</td>\n",
              "    </tr>\n",
              "    <tr>\n",
              "      <th>1</th>\n",
              "      <td>Arica y Parinacota</td>\n",
              "      <td>15.0</td>\n",
              "      <td>Camarones</td>\n",
              "      <td>15102.0</td>\n",
              "      <td>1233.0</td>\n",
              "    </tr>\n",
              "    <tr>\n",
              "      <th>2</th>\n",
              "      <td>Arica y Parinacota</td>\n",
              "      <td>15.0</td>\n",
              "      <td>General Lagos</td>\n",
              "      <td>15202.0</td>\n",
              "      <td>810.0</td>\n",
              "    </tr>\n",
              "    <tr>\n",
              "      <th>3</th>\n",
              "      <td>Arica y Parinacota</td>\n",
              "      <td>15.0</td>\n",
              "      <td>Putre</td>\n",
              "      <td>15201.0</td>\n",
              "      <td>2515.0</td>\n",
              "    </tr>\n",
              "    <tr>\n",
              "      <th>5</th>\n",
              "      <td>Arica y Parinacota</td>\n",
              "      <td>15.0</td>\n",
              "      <td>Total</td>\n",
              "      <td>NaN</td>\n",
              "      <td>252110.0</td>\n",
              "    </tr>\n",
              "    <tr>\n",
              "      <th>7</th>\n",
              "      <td>Tarapaca</td>\n",
              "      <td>1.0</td>\n",
              "      <td>Alto Hospicio</td>\n",
              "      <td>1107.0</td>\n",
              "      <td>129999.0</td>\n",
              "    </tr>\n",
              "    <tr>\n",
              "      <th>8</th>\n",
              "      <td>Tarapaca</td>\n",
              "      <td>1.0</td>\n",
              "      <td>Camina</td>\n",
              "      <td>1402.0</td>\n",
              "      <td>1375.0</td>\n",
              "    </tr>\n",
              "    <tr>\n",
              "      <th>9</th>\n",
              "      <td>Tarapaca</td>\n",
              "      <td>1.0</td>\n",
              "      <td>Colchane</td>\n",
              "      <td>1403.0</td>\n",
              "      <td>1583.0</td>\n",
              "    </tr>\n",
              "    <tr>\n",
              "      <th>10</th>\n",
              "      <td>Tarapaca</td>\n",
              "      <td>1.0</td>\n",
              "      <td>Huara</td>\n",
              "      <td>1404.0</td>\n",
              "      <td>3000.0</td>\n",
              "    </tr>\n",
              "    <tr>\n",
              "      <th>11</th>\n",
              "      <td>Tarapaca</td>\n",
              "      <td>1.0</td>\n",
              "      <td>Iquique</td>\n",
              "      <td>1101.0</td>\n",
              "      <td>223463.0</td>\n",
              "    </tr>\n",
              "  </tbody>\n",
              "</table>\n",
              "</div>"
            ],
            "text/plain": [
              "                Region  Codigo region         Comuna  Codigo comuna  Poblacion\n",
              "0   Arica y Parinacota           15.0          Arica        15101.0   247552.0\n",
              "1   Arica y Parinacota           15.0      Camarones        15102.0     1233.0\n",
              "2   Arica y Parinacota           15.0  General Lagos        15202.0      810.0\n",
              "3   Arica y Parinacota           15.0          Putre        15201.0     2515.0\n",
              "5   Arica y Parinacota           15.0          Total            NaN   252110.0\n",
              "7             Tarapaca            1.0  Alto Hospicio         1107.0   129999.0\n",
              "8             Tarapaca            1.0         Camina         1402.0     1375.0\n",
              "9             Tarapaca            1.0       Colchane         1403.0     1583.0\n",
              "10            Tarapaca            1.0          Huara         1404.0     3000.0\n",
              "11            Tarapaca            1.0        Iquique         1101.0   223463.0"
            ]
          },
          "execution_count": 133,
          "metadata": {},
          "output_type": "execute_result"
        }
      ],
      "source": [
        "# Revisamos las primeras 10 filas\n",
        "df.head(10)"
      ]
    },
    {
      "cell_type": "code",
      "execution_count": null,
      "metadata": {
        "id": "lyXmtfFryzr_"
      },
      "outputs": [
        {
          "name": "stdout",
          "output_type": "stream",
          "text": [
            "(346, 5)\n"
          ]
        },
        {
          "data": {
            "text/plain": [
              "np.float64(19458310.0)"
            ]
          },
          "execution_count": 134,
          "metadata": {},
          "output_type": "execute_result"
        }
      ],
      "source": [
        "# 3. Descartamos los valores donde Comuna == Total\n",
        "df = df[df[\"Comuna\"] != \"Total\"]\n",
        "print(df.shape) # Ahora si hay 346 comunas!\n",
        "df[\"Poblacion\"].sum() # Parece andar bien"
      ]
    },
    {
      "cell_type": "code",
      "execution_count": null,
      "metadata": {
        "id": "2DK8lDlDy2tr"
      },
      "outputs": [
        {
          "data": {
            "application/vnd.microsoft.datawrangler.viewer.v0+json": {
              "columns": [
                {
                  "name": "index",
                  "rawType": "object",
                  "type": "string"
                },
                {
                  "name": "Poblacion",
                  "rawType": "float64",
                  "type": "float"
                }
              ],
              "ref": "3211b8f8-bf70-4211-bf18-9ad559933f4d",
              "rows": [
                [
                  "count",
                  "346.0"
                ],
                [
                  "mean",
                  "56237.89017341041"
                ],
                [
                  "std",
                  "88945.96708928839"
                ],
                [
                  "min",
                  "137.0"
                ],
                [
                  "25%",
                  "9649.25"
                ],
                [
                  "50%",
                  "19770.0"
                ],
                [
                  "75%",
                  "55441.25"
                ],
                [
                  "max",
                  "645909.0"
                ]
              ],
              "shape": {
                "columns": 1,
                "rows": 8
              }
            },
            "text/plain": [
              "count       346.000000\n",
              "mean      56237.890173\n",
              "std       88945.967089\n",
              "min         137.000000\n",
              "25%        9649.250000\n",
              "50%       19770.000000\n",
              "75%       55441.250000\n",
              "max      645909.000000\n",
              "Name: Poblacion, dtype: float64"
            ]
          },
          "execution_count": 135,
          "metadata": {},
          "output_type": "execute_result"
        }
      ],
      "source": [
        "# 4. Vemos estadísticas en Población\n",
        "df[\"Poblacion\"].describe()"
      ]
    },
    {
      "cell_type": "markdown",
      "metadata": {},
      "source": [
        "#### **Resetear los index despues de eliminar Nulos**"
      ]
    },
    {
      "cell_type": "code",
      "execution_count": null,
      "metadata": {},
      "outputs": [
        {
          "data": {
            "application/vnd.microsoft.datawrangler.viewer.v0+json": {
              "columns": [
                {
                  "name": "index",
                  "rawType": "int64",
                  "type": "integer"
                },
                {
                  "name": "Region",
                  "rawType": "object",
                  "type": "string"
                },
                {
                  "name": "Codigo region",
                  "rawType": "float64",
                  "type": "float"
                },
                {
                  "name": "Comuna",
                  "rawType": "object",
                  "type": "string"
                },
                {
                  "name": "Codigo comuna",
                  "rawType": "float64",
                  "type": "float"
                },
                {
                  "name": "Poblacion",
                  "rawType": "float64",
                  "type": "float"
                }
              ],
              "ref": "c2ffefdf-0c5a-4e64-800f-b23141e2e92a",
              "rows": [
                [
                  "0",
                  "Arica y Parinacota",
                  "15.0",
                  "Arica",
                  "15101.0",
                  "247552.0"
                ],
                [
                  "1",
                  "Arica y Parinacota",
                  "15.0",
                  "Camarones",
                  "15102.0",
                  "1233.0"
                ],
                [
                  "2",
                  "Arica y Parinacota",
                  "15.0",
                  "General Lagos",
                  "15202.0",
                  "810.0"
                ],
                [
                  "3",
                  "Arica y Parinacota",
                  "15.0",
                  "Putre",
                  "15201.0",
                  "2515.0"
                ],
                [
                  "4",
                  "Tarapaca",
                  "1.0",
                  "Alto Hospicio",
                  "1107.0",
                  "129999.0"
                ],
                [
                  "5",
                  "Tarapaca",
                  "1.0",
                  "Camina",
                  "1402.0",
                  "1375.0"
                ],
                [
                  "6",
                  "Tarapaca",
                  "1.0",
                  "Colchane",
                  "1403.0",
                  "1583.0"
                ],
                [
                  "7",
                  "Tarapaca",
                  "1.0",
                  "Huara",
                  "1404.0",
                  "3000.0"
                ],
                [
                  "8",
                  "Tarapaca",
                  "1.0",
                  "Iquique",
                  "1101.0",
                  "223463.0"
                ],
                [
                  "9",
                  "Tarapaca",
                  "1.0",
                  "Pica",
                  "1405.0",
                  "5958.0"
                ],
                [
                  "10",
                  "Tarapaca",
                  "1.0",
                  "Pozo Almonte",
                  "1401.0",
                  "17395.0"
                ],
                [
                  "11",
                  "Antofagasta",
                  "2.0",
                  "Antofagasta",
                  "2101.0",
                  "425725.0"
                ],
                [
                  "12",
                  "Antofagasta",
                  "2.0",
                  "Calama",
                  "2201.0",
                  "190336.0"
                ],
                [
                  "13",
                  "Antofagasta",
                  "2.0",
                  "Maria Elena",
                  "2302.0",
                  "6814.0"
                ],
                [
                  "14",
                  "Antofagasta",
                  "2.0",
                  "Mejillones",
                  "2102.0",
                  "14776.0"
                ],
                [
                  "15",
                  "Antofagasta",
                  "2.0",
                  "Ollague",
                  "2202.0",
                  "287.0"
                ],
                [
                  "16",
                  "Antofagasta",
                  "2.0",
                  "San Pedro de Atacama",
                  "2203.0",
                  "10434.0"
                ],
                [
                  "17",
                  "Antofagasta",
                  "2.0",
                  "Sierra Gorda",
                  "2103.0",
                  "1746.0"
                ],
                [
                  "18",
                  "Antofagasta",
                  "2.0",
                  "Taltal",
                  "2104.0",
                  "13657.0"
                ],
                [
                  "19",
                  "Antofagasta",
                  "2.0",
                  "Tocopilla",
                  "2301.0",
                  "28079.0"
                ],
                [
                  "20",
                  "Atacama",
                  "3.0",
                  "Alto del Carmen",
                  "3302.0",
                  "5729.0"
                ],
                [
                  "21",
                  "Atacama",
                  "3.0",
                  "Caldera",
                  "3102.0",
                  "19426.0"
                ],
                [
                  "22",
                  "Atacama",
                  "3.0",
                  "Chanaral",
                  "3201.0",
                  "13164.0"
                ],
                [
                  "23",
                  "Atacama",
                  "3.0",
                  "Copiapo",
                  "3101.0",
                  "171766.0"
                ],
                [
                  "24",
                  "Atacama",
                  "3.0",
                  "Diego de Almagro",
                  "3202.0",
                  "14358.0"
                ],
                [
                  "25",
                  "Atacama",
                  "3.0",
                  "Freirina",
                  "3303.0",
                  "7681.0"
                ],
                [
                  "26",
                  "Atacama",
                  "3.0",
                  "Huasco",
                  "3304.0",
                  "11264.0"
                ],
                [
                  "27",
                  "Atacama",
                  "3.0",
                  "Tierra Amarilla",
                  "3103.0",
                  "14312.0"
                ],
                [
                  "28",
                  "Atacama",
                  "3.0",
                  "Vallenar",
                  "3301.0",
                  "57009.0"
                ],
                [
                  "29",
                  "Coquimbo",
                  "4.0",
                  "Andacollo",
                  "4103.0",
                  "11791.0"
                ],
                [
                  "30",
                  "Coquimbo",
                  "4.0",
                  "Canela",
                  "4202.0",
                  "9546.0"
                ],
                [
                  "31",
                  "Coquimbo",
                  "4.0",
                  "Combarbala",
                  "4302.0",
                  "13884.0"
                ],
                [
                  "32",
                  "Coquimbo",
                  "4.0",
                  "Coquimbo",
                  "4102.0",
                  "256735.0"
                ],
                [
                  "33",
                  "Coquimbo",
                  "4.0",
                  "Illapel",
                  "4201.0",
                  "32801.0"
                ],
                [
                  "34",
                  "Coquimbo",
                  "4.0",
                  "La Higuera",
                  "4104.0",
                  "4450.0"
                ],
                [
                  "35",
                  "Coquimbo",
                  "4.0",
                  "La Serena",
                  "4101.0",
                  "249656.0"
                ],
                [
                  "36",
                  "Coquimbo",
                  "4.0",
                  "Los Vilos",
                  "4203.0",
                  "23374.0"
                ],
                [
                  "37",
                  "Coquimbo",
                  "4.0",
                  "Monte Patria",
                  "4303.0",
                  "32527.0"
                ],
                [
                  "38",
                  "Coquimbo",
                  "4.0",
                  "Ovalle",
                  "4301.0",
                  "121269.0"
                ],
                [
                  "39",
                  "Coquimbo",
                  "4.0",
                  "Paiguano",
                  "4105.0",
                  "4675.0"
                ],
                [
                  "40",
                  "Coquimbo",
                  "4.0",
                  "Punitaqui",
                  "4304.0",
                  "12165.0"
                ],
                [
                  "41",
                  "Coquimbo",
                  "4.0",
                  "Rio Hurtado",
                  "4305.0",
                  "4372.0"
                ],
                [
                  "42",
                  "Coquimbo",
                  "4.0",
                  "Salamanca",
                  "4204.0",
                  "29110.0"
                ],
                [
                  "43",
                  "Coquimbo",
                  "4.0",
                  "Vicuna",
                  "4106.0",
                  "29741.0"
                ],
                [
                  "44",
                  "Valparaiso",
                  "5.0",
                  "Algarrobo",
                  "5602.0",
                  "15174.0"
                ],
                [
                  "45",
                  "Valparaiso",
                  "5.0",
                  "Cabildo",
                  "5402.0",
                  "20663.0"
                ],
                [
                  "46",
                  "Valparaiso",
                  "5.0",
                  "Calera",
                  "5502.0",
                  "53591.0"
                ],
                [
                  "47",
                  "Valparaiso",
                  "5.0",
                  "Calle Larga",
                  "5302.0",
                  "16482.0"
                ],
                [
                  "48",
                  "Valparaiso",
                  "5.0",
                  "Cartagena",
                  "5603.0",
                  "25357.0"
                ],
                [
                  "49",
                  "Valparaiso",
                  "5.0",
                  "Casablanca",
                  "5102.0",
                  "29170.0"
                ]
              ],
              "shape": {
                "columns": 5,
                "rows": 346
              }
            },
            "text/html": [
              "<div>\n",
              "<style scoped>\n",
              "    .dataframe tbody tr th:only-of-type {\n",
              "        vertical-align: middle;\n",
              "    }\n",
              "\n",
              "    .dataframe tbody tr th {\n",
              "        vertical-align: top;\n",
              "    }\n",
              "\n",
              "    .dataframe thead th {\n",
              "        text-align: right;\n",
              "    }\n",
              "</style>\n",
              "<table border=\"1\" class=\"dataframe\">\n",
              "  <thead>\n",
              "    <tr style=\"text-align: right;\">\n",
              "      <th></th>\n",
              "      <th>Region</th>\n",
              "      <th>Codigo region</th>\n",
              "      <th>Comuna</th>\n",
              "      <th>Codigo comuna</th>\n",
              "      <th>Poblacion</th>\n",
              "    </tr>\n",
              "  </thead>\n",
              "  <tbody>\n",
              "    <tr>\n",
              "      <th>0</th>\n",
              "      <td>Arica y Parinacota</td>\n",
              "      <td>15.0</td>\n",
              "      <td>Arica</td>\n",
              "      <td>15101.0</td>\n",
              "      <td>247552.0</td>\n",
              "    </tr>\n",
              "    <tr>\n",
              "      <th>1</th>\n",
              "      <td>Arica y Parinacota</td>\n",
              "      <td>15.0</td>\n",
              "      <td>Camarones</td>\n",
              "      <td>15102.0</td>\n",
              "      <td>1233.0</td>\n",
              "    </tr>\n",
              "    <tr>\n",
              "      <th>2</th>\n",
              "      <td>Arica y Parinacota</td>\n",
              "      <td>15.0</td>\n",
              "      <td>General Lagos</td>\n",
              "      <td>15202.0</td>\n",
              "      <td>810.0</td>\n",
              "    </tr>\n",
              "    <tr>\n",
              "      <th>3</th>\n",
              "      <td>Arica y Parinacota</td>\n",
              "      <td>15.0</td>\n",
              "      <td>Putre</td>\n",
              "      <td>15201.0</td>\n",
              "      <td>2515.0</td>\n",
              "    </tr>\n",
              "    <tr>\n",
              "      <th>4</th>\n",
              "      <td>Tarapaca</td>\n",
              "      <td>1.0</td>\n",
              "      <td>Alto Hospicio</td>\n",
              "      <td>1107.0</td>\n",
              "      <td>129999.0</td>\n",
              "    </tr>\n",
              "    <tr>\n",
              "      <th>...</th>\n",
              "      <td>...</td>\n",
              "      <td>...</td>\n",
              "      <td>...</td>\n",
              "      <td>...</td>\n",
              "      <td>...</td>\n",
              "    </tr>\n",
              "    <tr>\n",
              "      <th>341</th>\n",
              "      <td>Magallanes y la Antartica</td>\n",
              "      <td>12.0</td>\n",
              "      <td>Punta Arenas</td>\n",
              "      <td>12101.0</td>\n",
              "      <td>141984.0</td>\n",
              "    </tr>\n",
              "    <tr>\n",
              "      <th>342</th>\n",
              "      <td>Magallanes y la Antartica</td>\n",
              "      <td>12.0</td>\n",
              "      <td>Rio Verde</td>\n",
              "      <td>12103.0</td>\n",
              "      <td>211.0</td>\n",
              "    </tr>\n",
              "    <tr>\n",
              "      <th>343</th>\n",
              "      <td>Magallanes y la Antartica</td>\n",
              "      <td>12.0</td>\n",
              "      <td>San Gregorio</td>\n",
              "      <td>12104.0</td>\n",
              "      <td>681.0</td>\n",
              "    </tr>\n",
              "    <tr>\n",
              "      <th>344</th>\n",
              "      <td>Magallanes y la Antartica</td>\n",
              "      <td>12.0</td>\n",
              "      <td>Timaukel</td>\n",
              "      <td>12303.0</td>\n",
              "      <td>282.0</td>\n",
              "    </tr>\n",
              "    <tr>\n",
              "      <th>345</th>\n",
              "      <td>Magallanes y la Antartica</td>\n",
              "      <td>12.0</td>\n",
              "      <td>Torres del Paine</td>\n",
              "      <td>12402.0</td>\n",
              "      <td>1021.0</td>\n",
              "    </tr>\n",
              "  </tbody>\n",
              "</table>\n",
              "<p>346 rows × 5 columns</p>\n",
              "</div>"
            ],
            "text/plain": [
              "                        Region  Codigo region            Comuna  \\\n",
              "0           Arica y Parinacota           15.0             Arica   \n",
              "1           Arica y Parinacota           15.0         Camarones   \n",
              "2           Arica y Parinacota           15.0     General Lagos   \n",
              "3           Arica y Parinacota           15.0             Putre   \n",
              "4                     Tarapaca            1.0     Alto Hospicio   \n",
              "..                         ...            ...               ...   \n",
              "341  Magallanes y la Antartica           12.0      Punta Arenas   \n",
              "342  Magallanes y la Antartica           12.0         Rio Verde   \n",
              "343  Magallanes y la Antartica           12.0      San Gregorio   \n",
              "344  Magallanes y la Antartica           12.0          Timaukel   \n",
              "345  Magallanes y la Antartica           12.0  Torres del Paine   \n",
              "\n",
              "     Codigo comuna  Poblacion  \n",
              "0          15101.0   247552.0  \n",
              "1          15102.0     1233.0  \n",
              "2          15202.0      810.0  \n",
              "3          15201.0     2515.0  \n",
              "4           1107.0   129999.0  \n",
              "..             ...        ...  \n",
              "341        12101.0   141984.0  \n",
              "342        12103.0      211.0  \n",
              "343        12104.0      681.0  \n",
              "344        12303.0      282.0  \n",
              "345        12402.0     1021.0  \n",
              "\n",
              "[346 rows x 5 columns]"
            ]
          },
          "execution_count": 136,
          "metadata": {},
          "output_type": "execute_result"
        }
      ],
      "source": [
        "df.reset_index(drop=True)"
      ]
    },
    {
      "cell_type": "code",
      "execution_count": null,
      "metadata": {
        "id": "zrrN6fzry3s9"
      },
      "outputs": [],
      "source": [
        "# Podemos guardar el resultado\n",
        "df.to_csv(\"poblacion_chile2020.csv\", index=False) # no nos interesan los indices"
      ]
    },
    {
      "cell_type": "markdown",
      "metadata": {
        "id": "hF6ePn3dy6Ry"
      },
      "source": [
        "#### GroupBy\n",
        "\n",
        "La operación `groupby` en Pandas permite agrupar el DataFrame usando una columna específica (o más) y luego aplicar una función de agregación (como suma, media, conteo, etc.) a cada grupo.\n",
        "\n",
        "Por ejemplo, para los datos de población a nivel de comuna, podemos agrupar por la región para obtener estadísticas como el total de población, la cantidad total de comunas, entre otros."
      ]
    },
    {
      "cell_type": "code",
      "execution_count": null,
      "metadata": {
        "id": "4hX-kgiAy5J0"
      },
      "outputs": [
        {
          "data": {
            "application/vnd.microsoft.datawrangler.viewer.v0+json": {
              "columns": [
                {
                  "name": "Region",
                  "rawType": "object",
                  "type": "string"
                },
                {
                  "name": "Comuna",
                  "rawType": "int64",
                  "type": "integer"
                }
              ],
              "ref": "37c95cbc-eb48-4dfd-a265-fca9b90e5fdc",
              "rows": [
                [
                  "Antofagasta",
                  "9"
                ],
                [
                  "Arica y Parinacota",
                  "4"
                ],
                [
                  "Atacama",
                  "9"
                ],
                [
                  "Aysen",
                  "10"
                ],
                [
                  "Biobio",
                  "33"
                ],
                [
                  "Coquimbo",
                  "15"
                ],
                [
                  "Del Libertador General Bernardo O’Higgins",
                  "33"
                ],
                [
                  "La Araucania",
                  "32"
                ],
                [
                  "Los Lagos",
                  "30"
                ],
                [
                  "Los Rios",
                  "12"
                ],
                [
                  "Magallanes y la Antartica",
                  "11"
                ],
                [
                  "Maule",
                  "30"
                ],
                [
                  "Metropolitana",
                  "52"
                ],
                [
                  "Nuble",
                  "21"
                ],
                [
                  "Tarapaca",
                  "7"
                ],
                [
                  "Valparaiso",
                  "38"
                ]
              ],
              "shape": {
                "columns": 1,
                "rows": 16
              }
            },
            "text/plain": [
              "Region\n",
              "Antofagasta                                   9\n",
              "Arica y Parinacota                            4\n",
              "Atacama                                       9\n",
              "Aysen                                        10\n",
              "Biobio                                       33\n",
              "Coquimbo                                     15\n",
              "Del Libertador General Bernardo O’Higgins    33\n",
              "La Araucania                                 32\n",
              "Los Lagos                                    30\n",
              "Los Rios                                     12\n",
              "Magallanes y la Antartica                    11\n",
              "Maule                                        30\n",
              "Metropolitana                                52\n",
              "Nuble                                        21\n",
              "Tarapaca                                      7\n",
              "Valparaiso                                   38\n",
              "Name: Comuna, dtype: int64"
            ]
          },
          "execution_count": 138,
          "metadata": {},
          "output_type": "execute_result"
        }
      ],
      "source": [
        "# Para cada región, contar cuantas comunas hay\n",
        "df.groupby(\"Region\")[\"Comuna\"].count()"
      ]
    },
    {
      "cell_type": "code",
      "execution_count": null,
      "metadata": {
        "id": "kPj0gcxDy8VJ"
      },
      "outputs": [
        {
          "data": {
            "application/vnd.microsoft.datawrangler.viewer.v0+json": {
              "columns": [
                {
                  "name": "Region",
                  "rawType": "object",
                  "type": "string"
                },
                {
                  "name": "Poblacion",
                  "rawType": "float64",
                  "type": "float"
                }
              ],
              "ref": "8c175afb-b9e0-4685-b27a-c25fd06d5799",
              "rows": [
                [
                  "Aysen",
                  "107297.0"
                ],
                [
                  "Magallanes y la Antartica",
                  "178362.0"
                ],
                [
                  "Arica y Parinacota",
                  "252110.0"
                ],
                [
                  "Atacama",
                  "314709.0"
                ],
                [
                  "Tarapaca",
                  "382773.0"
                ],
                [
                  "Los Rios",
                  "405835.0"
                ],
                [
                  "Nuble",
                  "511551.0"
                ],
                [
                  "Antofagasta",
                  "691854.0"
                ],
                [
                  "Coquimbo",
                  "836096.0"
                ],
                [
                  "Los Lagos",
                  "891440.0"
                ],
                [
                  "Del Libertador General Bernardo O’Higgins",
                  "991063.0"
                ],
                [
                  "La Araucania",
                  "1014343.0"
                ],
                [
                  "Maule",
                  "1131939.0"
                ],
                [
                  "Biobio",
                  "1663696.0"
                ],
                [
                  "Valparaiso",
                  "1960170.0"
                ],
                [
                  "Metropolitana",
                  "8125072.0"
                ]
              ],
              "shape": {
                "columns": 1,
                "rows": 16
              }
            },
            "text/plain": [
              "Region\n",
              "Aysen                                         107297.0\n",
              "Magallanes y la Antartica                     178362.0\n",
              "Arica y Parinacota                            252110.0\n",
              "Atacama                                       314709.0\n",
              "Tarapaca                                      382773.0\n",
              "Los Rios                                      405835.0\n",
              "Nuble                                         511551.0\n",
              "Antofagasta                                   691854.0\n",
              "Coquimbo                                      836096.0\n",
              "Los Lagos                                     891440.0\n",
              "Del Libertador General Bernardo O’Higgins     991063.0\n",
              "La Araucania                                 1014343.0\n",
              "Maule                                        1131939.0\n",
              "Biobio                                       1663696.0\n",
              "Valparaiso                                   1960170.0\n",
              "Metropolitana                                8125072.0\n",
              "Name: Poblacion, dtype: float64"
            ]
          },
          "execution_count": 139,
          "metadata": {},
          "output_type": "execute_result"
        }
      ],
      "source": [
        "# Para cada región, obtener la población total y ordenarlo\n",
        "df.groupby(\"Region\")[\"Poblacion\"].sum().sort_values()"
      ]
    },
    {
      "cell_type": "code",
      "execution_count": null,
      "metadata": {
        "id": "YB-8TM_gy9JH"
      },
      "outputs": [
        {
          "data": {
            "application/vnd.microsoft.datawrangler.viewer.v0+json": {
              "columns": [
                {
                  "name": "Region",
                  "rawType": "object",
                  "type": "string"
                },
                {
                  "name": "count",
                  "rawType": "float64",
                  "type": "float"
                },
                {
                  "name": "mean",
                  "rawType": "float64",
                  "type": "float"
                },
                {
                  "name": "std",
                  "rawType": "float64",
                  "type": "float"
                },
                {
                  "name": "min",
                  "rawType": "float64",
                  "type": "float"
                },
                {
                  "name": "25%",
                  "rawType": "float64",
                  "type": "float"
                },
                {
                  "name": "50%",
                  "rawType": "float64",
                  "type": "float"
                },
                {
                  "name": "75%",
                  "rawType": "float64",
                  "type": "float"
                },
                {
                  "name": "max",
                  "rawType": "float64",
                  "type": "float"
                }
              ],
              "ref": "18cf4b0e-a430-4966-a42b-500345125b3b",
              "rows": [
                [
                  "Antofagasta",
                  "9.0",
                  "76872.66666666667",
                  "143890.84860580953",
                  "287.0",
                  "6814.0",
                  "13657.0",
                  "28079.0",
                  "425725.0"
                ],
                [
                  "Arica y Parinacota",
                  "4.0",
                  "63027.5",
                  "123018.46920008936",
                  "810.0",
                  "1127.25",
                  "1874.0",
                  "63774.25",
                  "247552.0"
                ],
                [
                  "Atacama",
                  "9.0",
                  "34967.666666666664",
                  "53536.5391648545",
                  "5729.0",
                  "11264.0",
                  "14312.0",
                  "19426.0",
                  "171766.0"
                ],
                [
                  "Aysen",
                  "10.0",
                  "10729.7",
                  "19165.132808479746",
                  "572.0",
                  "1089.75",
                  "3192.0",
                  "5651.25",
                  "61210.0"
                ],
                [
                  "Biobio",
                  "33.0",
                  "50415.030303030304",
                  "61114.497532543806",
                  "3611.0",
                  "11841.0",
                  "27100.0",
                  "49865.0",
                  "238092.0"
                ],
                [
                  "Coquimbo",
                  "15.0",
                  "55739.73333333333",
                  "85099.61986440753",
                  "4372.0",
                  "10668.5",
                  "23374.0",
                  "32664.0",
                  "256735.0"
                ],
                [
                  "Del Libertador General Bernardo O’Higgins",
                  "33.0",
                  "30032.21212121212",
                  "46063.55998899617",
                  "3114.0",
                  "9164.0",
                  "15925.0",
                  "30371.0",
                  "265211.0"
                ],
                [
                  "La Araucania",
                  "32.0",
                  "31698.21875",
                  "52367.32781391428",
                  "6265.0",
                  "10995.0",
                  "18116.5",
                  "30028.0",
                  "302931.0"
                ],
                [
                  "Los Lagos",
                  "30.0",
                  "29714.666666666668",
                  "55127.95478191424",
                  "1827.0",
                  "7803.75",
                  "13465.5",
                  "20865.75",
                  "269398.0"
                ],
                [
                  "Los Rios",
                  "12.0",
                  "33819.583333333336",
                  "46314.46747352344",
                  "5447.0",
                  "14018.75",
                  "20658.0",
                  "33691.5",
                  "176774.0"
                ],
                [
                  "Magallanes y la Antartica",
                  "11.0",
                  "16214.727272727272",
                  "42299.77252915413",
                  "137.0",
                  "273.0",
                  "694.0",
                  "4653.0",
                  "141984.0"
                ],
                [
                  "Maule",
                  "30.0",
                  "37731.3",
                  "50097.379724409984",
                  "4206.0",
                  "9559.25",
                  "19334.5",
                  "45855.0",
                  "236724.0"
                ],
                [
                  "Metropolitana",
                  "52.0",
                  "156251.38461538462",
                  "135806.8063396047",
                  "7405.0",
                  "85574.0",
                  "123316.5",
                  "182598.5",
                  "645909.0"
                ],
                [
                  "Nuble",
                  "21.0",
                  "24359.571428571428",
                  "41741.427978174666",
                  "4654.0",
                  "6261.0",
                  "12192.0",
                  "18777.0",
                  "198624.0"
                ],
                [
                  "Tarapaca",
                  "7.0",
                  "54681.857142857145",
                  "87802.99365516828",
                  "1375.0",
                  "2291.5",
                  "5958.0",
                  "73697.0",
                  "223463.0"
                ],
                [
                  "Valparaiso",
                  "38.0",
                  "51583.42105263158",
                  "77982.39745301902",
                  "1033.0",
                  "15183.75",
                  "20653.0",
                  "48920.5",
                  "361371.0"
                ]
              ],
              "shape": {
                "columns": 8,
                "rows": 16
              }
            },
            "text/html": [
              "<div>\n",
              "<style scoped>\n",
              "    .dataframe tbody tr th:only-of-type {\n",
              "        vertical-align: middle;\n",
              "    }\n",
              "\n",
              "    .dataframe tbody tr th {\n",
              "        vertical-align: top;\n",
              "    }\n",
              "\n",
              "    .dataframe thead th {\n",
              "        text-align: right;\n",
              "    }\n",
              "</style>\n",
              "<table border=\"1\" class=\"dataframe\">\n",
              "  <thead>\n",
              "    <tr style=\"text-align: right;\">\n",
              "      <th></th>\n",
              "      <th>count</th>\n",
              "      <th>mean</th>\n",
              "      <th>std</th>\n",
              "      <th>min</th>\n",
              "      <th>25%</th>\n",
              "      <th>50%</th>\n",
              "      <th>75%</th>\n",
              "      <th>max</th>\n",
              "    </tr>\n",
              "    <tr>\n",
              "      <th>Region</th>\n",
              "      <th></th>\n",
              "      <th></th>\n",
              "      <th></th>\n",
              "      <th></th>\n",
              "      <th></th>\n",
              "      <th></th>\n",
              "      <th></th>\n",
              "      <th></th>\n",
              "    </tr>\n",
              "  </thead>\n",
              "  <tbody>\n",
              "    <tr>\n",
              "      <th>Antofagasta</th>\n",
              "      <td>9.0</td>\n",
              "      <td>76872.666667</td>\n",
              "      <td>143890.848606</td>\n",
              "      <td>287.0</td>\n",
              "      <td>6814.00</td>\n",
              "      <td>13657.0</td>\n",
              "      <td>28079.00</td>\n",
              "      <td>425725.0</td>\n",
              "    </tr>\n",
              "    <tr>\n",
              "      <th>Arica y Parinacota</th>\n",
              "      <td>4.0</td>\n",
              "      <td>63027.500000</td>\n",
              "      <td>123018.469200</td>\n",
              "      <td>810.0</td>\n",
              "      <td>1127.25</td>\n",
              "      <td>1874.0</td>\n",
              "      <td>63774.25</td>\n",
              "      <td>247552.0</td>\n",
              "    </tr>\n",
              "    <tr>\n",
              "      <th>Atacama</th>\n",
              "      <td>9.0</td>\n",
              "      <td>34967.666667</td>\n",
              "      <td>53536.539165</td>\n",
              "      <td>5729.0</td>\n",
              "      <td>11264.00</td>\n",
              "      <td>14312.0</td>\n",
              "      <td>19426.00</td>\n",
              "      <td>171766.0</td>\n",
              "    </tr>\n",
              "    <tr>\n",
              "      <th>Aysen</th>\n",
              "      <td>10.0</td>\n",
              "      <td>10729.700000</td>\n",
              "      <td>19165.132808</td>\n",
              "      <td>572.0</td>\n",
              "      <td>1089.75</td>\n",
              "      <td>3192.0</td>\n",
              "      <td>5651.25</td>\n",
              "      <td>61210.0</td>\n",
              "    </tr>\n",
              "    <tr>\n",
              "      <th>Biobio</th>\n",
              "      <td>33.0</td>\n",
              "      <td>50415.030303</td>\n",
              "      <td>61114.497533</td>\n",
              "      <td>3611.0</td>\n",
              "      <td>11841.00</td>\n",
              "      <td>27100.0</td>\n",
              "      <td>49865.00</td>\n",
              "      <td>238092.0</td>\n",
              "    </tr>\n",
              "    <tr>\n",
              "      <th>Coquimbo</th>\n",
              "      <td>15.0</td>\n",
              "      <td>55739.733333</td>\n",
              "      <td>85099.619864</td>\n",
              "      <td>4372.0</td>\n",
              "      <td>10668.50</td>\n",
              "      <td>23374.0</td>\n",
              "      <td>32664.00</td>\n",
              "      <td>256735.0</td>\n",
              "    </tr>\n",
              "    <tr>\n",
              "      <th>Del Libertador General Bernardo O’Higgins</th>\n",
              "      <td>33.0</td>\n",
              "      <td>30032.212121</td>\n",
              "      <td>46063.559989</td>\n",
              "      <td>3114.0</td>\n",
              "      <td>9164.00</td>\n",
              "      <td>15925.0</td>\n",
              "      <td>30371.00</td>\n",
              "      <td>265211.0</td>\n",
              "    </tr>\n",
              "    <tr>\n",
              "      <th>La Araucania</th>\n",
              "      <td>32.0</td>\n",
              "      <td>31698.218750</td>\n",
              "      <td>52367.327814</td>\n",
              "      <td>6265.0</td>\n",
              "      <td>10995.00</td>\n",
              "      <td>18116.5</td>\n",
              "      <td>30028.00</td>\n",
              "      <td>302931.0</td>\n",
              "    </tr>\n",
              "    <tr>\n",
              "      <th>Los Lagos</th>\n",
              "      <td>30.0</td>\n",
              "      <td>29714.666667</td>\n",
              "      <td>55127.954782</td>\n",
              "      <td>1827.0</td>\n",
              "      <td>7803.75</td>\n",
              "      <td>13465.5</td>\n",
              "      <td>20865.75</td>\n",
              "      <td>269398.0</td>\n",
              "    </tr>\n",
              "    <tr>\n",
              "      <th>Los Rios</th>\n",
              "      <td>12.0</td>\n",
              "      <td>33819.583333</td>\n",
              "      <td>46314.467474</td>\n",
              "      <td>5447.0</td>\n",
              "      <td>14018.75</td>\n",
              "      <td>20658.0</td>\n",
              "      <td>33691.50</td>\n",
              "      <td>176774.0</td>\n",
              "    </tr>\n",
              "    <tr>\n",
              "      <th>Magallanes y la Antartica</th>\n",
              "      <td>11.0</td>\n",
              "      <td>16214.727273</td>\n",
              "      <td>42299.772529</td>\n",
              "      <td>137.0</td>\n",
              "      <td>273.00</td>\n",
              "      <td>694.0</td>\n",
              "      <td>4653.00</td>\n",
              "      <td>141984.0</td>\n",
              "    </tr>\n",
              "    <tr>\n",
              "      <th>Maule</th>\n",
              "      <td>30.0</td>\n",
              "      <td>37731.300000</td>\n",
              "      <td>50097.379724</td>\n",
              "      <td>4206.0</td>\n",
              "      <td>9559.25</td>\n",
              "      <td>19334.5</td>\n",
              "      <td>45855.00</td>\n",
              "      <td>236724.0</td>\n",
              "    </tr>\n",
              "    <tr>\n",
              "      <th>Metropolitana</th>\n",
              "      <td>52.0</td>\n",
              "      <td>156251.384615</td>\n",
              "      <td>135806.806340</td>\n",
              "      <td>7405.0</td>\n",
              "      <td>85574.00</td>\n",
              "      <td>123316.5</td>\n",
              "      <td>182598.50</td>\n",
              "      <td>645909.0</td>\n",
              "    </tr>\n",
              "    <tr>\n",
              "      <th>Nuble</th>\n",
              "      <td>21.0</td>\n",
              "      <td>24359.571429</td>\n",
              "      <td>41741.427978</td>\n",
              "      <td>4654.0</td>\n",
              "      <td>6261.00</td>\n",
              "      <td>12192.0</td>\n",
              "      <td>18777.00</td>\n",
              "      <td>198624.0</td>\n",
              "    </tr>\n",
              "    <tr>\n",
              "      <th>Tarapaca</th>\n",
              "      <td>7.0</td>\n",
              "      <td>54681.857143</td>\n",
              "      <td>87802.993655</td>\n",
              "      <td>1375.0</td>\n",
              "      <td>2291.50</td>\n",
              "      <td>5958.0</td>\n",
              "      <td>73697.00</td>\n",
              "      <td>223463.0</td>\n",
              "    </tr>\n",
              "    <tr>\n",
              "      <th>Valparaiso</th>\n",
              "      <td>38.0</td>\n",
              "      <td>51583.421053</td>\n",
              "      <td>77982.397453</td>\n",
              "      <td>1033.0</td>\n",
              "      <td>15183.75</td>\n",
              "      <td>20653.0</td>\n",
              "      <td>48920.50</td>\n",
              "      <td>361371.0</td>\n",
              "    </tr>\n",
              "  </tbody>\n",
              "</table>\n",
              "</div>"
            ],
            "text/plain": [
              "                                           count           mean  \\\n",
              "Region                                                            \n",
              "Antofagasta                                  9.0   76872.666667   \n",
              "Arica y Parinacota                           4.0   63027.500000   \n",
              "Atacama                                      9.0   34967.666667   \n",
              "Aysen                                       10.0   10729.700000   \n",
              "Biobio                                      33.0   50415.030303   \n",
              "Coquimbo                                    15.0   55739.733333   \n",
              "Del Libertador General Bernardo O’Higgins   33.0   30032.212121   \n",
              "La Araucania                                32.0   31698.218750   \n",
              "Los Lagos                                   30.0   29714.666667   \n",
              "Los Rios                                    12.0   33819.583333   \n",
              "Magallanes y la Antartica                   11.0   16214.727273   \n",
              "Maule                                       30.0   37731.300000   \n",
              "Metropolitana                               52.0  156251.384615   \n",
              "Nuble                                       21.0   24359.571429   \n",
              "Tarapaca                                     7.0   54681.857143   \n",
              "Valparaiso                                  38.0   51583.421053   \n",
              "\n",
              "                                                     std     min       25%  \\\n",
              "Region                                                                       \n",
              "Antofagasta                                143890.848606   287.0   6814.00   \n",
              "Arica y Parinacota                         123018.469200   810.0   1127.25   \n",
              "Atacama                                     53536.539165  5729.0  11264.00   \n",
              "Aysen                                       19165.132808   572.0   1089.75   \n",
              "Biobio                                      61114.497533  3611.0  11841.00   \n",
              "Coquimbo                                    85099.619864  4372.0  10668.50   \n",
              "Del Libertador General Bernardo O’Higgins   46063.559989  3114.0   9164.00   \n",
              "La Araucania                                52367.327814  6265.0  10995.00   \n",
              "Los Lagos                                   55127.954782  1827.0   7803.75   \n",
              "Los Rios                                    46314.467474  5447.0  14018.75   \n",
              "Magallanes y la Antartica                   42299.772529   137.0    273.00   \n",
              "Maule                                       50097.379724  4206.0   9559.25   \n",
              "Metropolitana                              135806.806340  7405.0  85574.00   \n",
              "Nuble                                       41741.427978  4654.0   6261.00   \n",
              "Tarapaca                                    87802.993655  1375.0   2291.50   \n",
              "Valparaiso                                  77982.397453  1033.0  15183.75   \n",
              "\n",
              "                                                50%        75%       max  \n",
              "Region                                                                    \n",
              "Antofagasta                                 13657.0   28079.00  425725.0  \n",
              "Arica y Parinacota                           1874.0   63774.25  247552.0  \n",
              "Atacama                                     14312.0   19426.00  171766.0  \n",
              "Aysen                                        3192.0    5651.25   61210.0  \n",
              "Biobio                                      27100.0   49865.00  238092.0  \n",
              "Coquimbo                                    23374.0   32664.00  256735.0  \n",
              "Del Libertador General Bernardo O’Higgins   15925.0   30371.00  265211.0  \n",
              "La Araucania                                18116.5   30028.00  302931.0  \n",
              "Los Lagos                                   13465.5   20865.75  269398.0  \n",
              "Los Rios                                    20658.0   33691.50  176774.0  \n",
              "Magallanes y la Antartica                     694.0    4653.00  141984.0  \n",
              "Maule                                       19334.5   45855.00  236724.0  \n",
              "Metropolitana                              123316.5  182598.50  645909.0  \n",
              "Nuble                                       12192.0   18777.00  198624.0  \n",
              "Tarapaca                                     5958.0   73697.00  223463.0  \n",
              "Valparaiso                                  20653.0   48920.50  361371.0  "
            ]
          },
          "execution_count": 140,
          "metadata": {},
          "output_type": "execute_result"
        }
      ],
      "source": [
        "# Podemos obtener la estadística descriptiva de la población a nivel de Región\n",
        "df.groupby(\"Region\")['Poblacion'].describe()"
      ]
    },
    {
      "cell_type": "markdown",
      "metadata": {
        "id": "MaOoETZQy_Z_"
      },
      "source": [
        "Una forma eficiente de agregar valores, es usar el operador `.agg`:\n",
        "\n",
        "```python\n",
        "df.groupby([\"col1\", \"col2\"]).agg(promedio_col3=(\"col3\", \"mean\"),\n",
        "                                 total=(\"col4\", \"count\"))\n",
        "```\n",
        "\n",
        "Al usar este operador, debemos crear elementos separados por coma, donde cada columna está descrita por una tupla. Así por ejemplo, en este caso definimos una columna `promedio_col3` como el promedio (`mean`) de la columna `col3`."
      ]
    },
    {
      "cell_type": "code",
      "execution_count": null,
      "metadata": {
        "id": "Mk98tTQJy-CH"
      },
      "outputs": [
        {
          "data": {
            "application/vnd.microsoft.datawrangler.viewer.v0+json": {
              "columns": [
                {
                  "name": "Region",
                  "rawType": "object",
                  "type": "string"
                },
                {
                  "name": "total_poblacion",
                  "rawType": "float64",
                  "type": "float"
                },
                {
                  "name": "total_comunas",
                  "rawType": "int64",
                  "type": "integer"
                }
              ],
              "ref": "52fbf58c-fadd-472a-8672-278e38571663",
              "rows": [
                [
                  "Antofagasta",
                  "691854.0",
                  "9"
                ],
                [
                  "Arica y Parinacota",
                  "252110.0",
                  "4"
                ],
                [
                  "Atacama",
                  "314709.0",
                  "9"
                ],
                [
                  "Aysen",
                  "107297.0",
                  "10"
                ],
                [
                  "Biobio",
                  "1663696.0",
                  "33"
                ],
                [
                  "Coquimbo",
                  "836096.0",
                  "15"
                ],
                [
                  "Del Libertador General Bernardo O’Higgins",
                  "991063.0",
                  "33"
                ],
                [
                  "La Araucania",
                  "1014343.0",
                  "32"
                ],
                [
                  "Los Lagos",
                  "891440.0",
                  "30"
                ],
                [
                  "Los Rios",
                  "405835.0",
                  "12"
                ],
                [
                  "Magallanes y la Antartica",
                  "178362.0",
                  "11"
                ],
                [
                  "Maule",
                  "1131939.0",
                  "30"
                ],
                [
                  "Metropolitana",
                  "8125072.0",
                  "52"
                ],
                [
                  "Nuble",
                  "511551.0",
                  "21"
                ],
                [
                  "Tarapaca",
                  "382773.0",
                  "7"
                ],
                [
                  "Valparaiso",
                  "1960170.0",
                  "38"
                ]
              ],
              "shape": {
                "columns": 2,
                "rows": 16
              }
            },
            "text/html": [
              "<div>\n",
              "<style scoped>\n",
              "    .dataframe tbody tr th:only-of-type {\n",
              "        vertical-align: middle;\n",
              "    }\n",
              "\n",
              "    .dataframe tbody tr th {\n",
              "        vertical-align: top;\n",
              "    }\n",
              "\n",
              "    .dataframe thead th {\n",
              "        text-align: right;\n",
              "    }\n",
              "</style>\n",
              "<table border=\"1\" class=\"dataframe\">\n",
              "  <thead>\n",
              "    <tr style=\"text-align: right;\">\n",
              "      <th></th>\n",
              "      <th>total_poblacion</th>\n",
              "      <th>total_comunas</th>\n",
              "    </tr>\n",
              "    <tr>\n",
              "      <th>Region</th>\n",
              "      <th></th>\n",
              "      <th></th>\n",
              "    </tr>\n",
              "  </thead>\n",
              "  <tbody>\n",
              "    <tr>\n",
              "      <th>Antofagasta</th>\n",
              "      <td>691854.0</td>\n",
              "      <td>9</td>\n",
              "    </tr>\n",
              "    <tr>\n",
              "      <th>Arica y Parinacota</th>\n",
              "      <td>252110.0</td>\n",
              "      <td>4</td>\n",
              "    </tr>\n",
              "    <tr>\n",
              "      <th>Atacama</th>\n",
              "      <td>314709.0</td>\n",
              "      <td>9</td>\n",
              "    </tr>\n",
              "    <tr>\n",
              "      <th>Aysen</th>\n",
              "      <td>107297.0</td>\n",
              "      <td>10</td>\n",
              "    </tr>\n",
              "    <tr>\n",
              "      <th>Biobio</th>\n",
              "      <td>1663696.0</td>\n",
              "      <td>33</td>\n",
              "    </tr>\n",
              "    <tr>\n",
              "      <th>Coquimbo</th>\n",
              "      <td>836096.0</td>\n",
              "      <td>15</td>\n",
              "    </tr>\n",
              "    <tr>\n",
              "      <th>Del Libertador General Bernardo O’Higgins</th>\n",
              "      <td>991063.0</td>\n",
              "      <td>33</td>\n",
              "    </tr>\n",
              "    <tr>\n",
              "      <th>La Araucania</th>\n",
              "      <td>1014343.0</td>\n",
              "      <td>32</td>\n",
              "    </tr>\n",
              "    <tr>\n",
              "      <th>Los Lagos</th>\n",
              "      <td>891440.0</td>\n",
              "      <td>30</td>\n",
              "    </tr>\n",
              "    <tr>\n",
              "      <th>Los Rios</th>\n",
              "      <td>405835.0</td>\n",
              "      <td>12</td>\n",
              "    </tr>\n",
              "    <tr>\n",
              "      <th>Magallanes y la Antartica</th>\n",
              "      <td>178362.0</td>\n",
              "      <td>11</td>\n",
              "    </tr>\n",
              "    <tr>\n",
              "      <th>Maule</th>\n",
              "      <td>1131939.0</td>\n",
              "      <td>30</td>\n",
              "    </tr>\n",
              "    <tr>\n",
              "      <th>Metropolitana</th>\n",
              "      <td>8125072.0</td>\n",
              "      <td>52</td>\n",
              "    </tr>\n",
              "    <tr>\n",
              "      <th>Nuble</th>\n",
              "      <td>511551.0</td>\n",
              "      <td>21</td>\n",
              "    </tr>\n",
              "    <tr>\n",
              "      <th>Tarapaca</th>\n",
              "      <td>382773.0</td>\n",
              "      <td>7</td>\n",
              "    </tr>\n",
              "    <tr>\n",
              "      <th>Valparaiso</th>\n",
              "      <td>1960170.0</td>\n",
              "      <td>38</td>\n",
              "    </tr>\n",
              "  </tbody>\n",
              "</table>\n",
              "</div>"
            ],
            "text/plain": [
              "                                           total_poblacion  total_comunas\n",
              "Region                                                                   \n",
              "Antofagasta                                       691854.0              9\n",
              "Arica y Parinacota                                252110.0              4\n",
              "Atacama                                           314709.0              9\n",
              "Aysen                                             107297.0             10\n",
              "Biobio                                           1663696.0             33\n",
              "Coquimbo                                          836096.0             15\n",
              "Del Libertador General Bernardo O’Higgins         991063.0             33\n",
              "La Araucania                                     1014343.0             32\n",
              "Los Lagos                                         891440.0             30\n",
              "Los Rios                                          405835.0             12\n",
              "Magallanes y la Antartica                         178362.0             11\n",
              "Maule                                            1131939.0             30\n",
              "Metropolitana                                    8125072.0             52\n",
              "Nuble                                             511551.0             21\n",
              "Tarapaca                                          382773.0              7\n",
              "Valparaiso                                       1960170.0             38"
            ]
          },
          "execution_count": 141,
          "metadata": {},
          "output_type": "execute_result"
        }
      ],
      "source": [
        "# Agregamos a nivel de región, y obtenemos la población total junto\n",
        "# a la cantidad total de comunas\n",
        "df.groupby(\"Region\").agg(total_poblacion=(\"Poblacion\", \"sum\"), total_comunas=(\"Comuna\", \"count\"))"
      ]
    },
    {
      "cell_type": "markdown",
      "metadata": {
        "id": "c8JeMFuYzHG0"
      },
      "source": [
        "### Algunas operaciones útiles"
      ]
    },
    {
      "cell_type": "code",
      "execution_count": null,
      "metadata": {
        "id": "WCDTODYZzAlo"
      },
      "outputs": [
        {
          "data": {
            "application/vnd.microsoft.datawrangler.viewer.v0+json": {
              "columns": [
                {
                  "name": "index",
                  "rawType": "int64",
                  "type": "integer"
                },
                {
                  "name": "Region",
                  "rawType": "object",
                  "type": "string"
                }
              ],
              "ref": "3607ef99-e3d9-4d90-9993-ef4e77aefe33",
              "rows": [
                [
                  "0",
                  "Arica y Parinacota"
                ],
                [
                  "1",
                  "Arica y Parinacota"
                ],
                [
                  "2",
                  "Arica y Parinacota"
                ],
                [
                  "3",
                  "Arica y Parinacota"
                ],
                [
                  "7",
                  "Tarapaca"
                ],
                [
                  "8",
                  "Tarapaca"
                ],
                [
                  "9",
                  "Tarapaca"
                ],
                [
                  "10",
                  "Tarapaca"
                ],
                [
                  "11",
                  "Tarapaca"
                ],
                [
                  "12",
                  "Tarapaca"
                ],
                [
                  "13",
                  "Tarapaca"
                ],
                [
                  "17",
                  "Antofagasta"
                ],
                [
                  "18",
                  "Antofagasta"
                ],
                [
                  "19",
                  "Antofagasta"
                ],
                [
                  "20",
                  "Antofagasta"
                ],
                [
                  "21",
                  "Antofagasta"
                ],
                [
                  "22",
                  "Antofagasta"
                ],
                [
                  "23",
                  "Antofagasta"
                ],
                [
                  "24",
                  "Antofagasta"
                ],
                [
                  "25",
                  "Antofagasta"
                ],
                [
                  "29",
                  "Atacama"
                ],
                [
                  "30",
                  "Atacama"
                ],
                [
                  "31",
                  "Atacama"
                ],
                [
                  "32",
                  "Atacama"
                ],
                [
                  "33",
                  "Atacama"
                ],
                [
                  "34",
                  "Atacama"
                ],
                [
                  "35",
                  "Atacama"
                ],
                [
                  "36",
                  "Atacama"
                ],
                [
                  "37",
                  "Atacama"
                ],
                [
                  "41",
                  "Coquimbo"
                ],
                [
                  "42",
                  "Coquimbo"
                ],
                [
                  "43",
                  "Coquimbo"
                ],
                [
                  "44",
                  "Coquimbo"
                ],
                [
                  "45",
                  "Coquimbo"
                ],
                [
                  "46",
                  "Coquimbo"
                ],
                [
                  "47",
                  "Coquimbo"
                ],
                [
                  "48",
                  "Coquimbo"
                ],
                [
                  "49",
                  "Coquimbo"
                ],
                [
                  "50",
                  "Coquimbo"
                ],
                [
                  "51",
                  "Coquimbo"
                ],
                [
                  "52",
                  "Coquimbo"
                ],
                [
                  "53",
                  "Coquimbo"
                ],
                [
                  "54",
                  "Coquimbo"
                ],
                [
                  "55",
                  "Coquimbo"
                ],
                [
                  "59",
                  "Valparaiso"
                ],
                [
                  "60",
                  "Valparaiso"
                ],
                [
                  "61",
                  "Valparaiso"
                ],
                [
                  "62",
                  "Valparaiso"
                ],
                [
                  "63",
                  "Valparaiso"
                ],
                [
                  "64",
                  "Valparaiso"
                ]
              ],
              "shape": {
                "columns": 1,
                "rows": 346
              }
            },
            "text/plain": [
              "0             Arica y Parinacota\n",
              "1             Arica y Parinacota\n",
              "2             Arica y Parinacota\n",
              "3             Arica y Parinacota\n",
              "7                       Tarapaca\n",
              "                 ...            \n",
              "386    Magallanes y la Antartica\n",
              "387    Magallanes y la Antartica\n",
              "388    Magallanes y la Antartica\n",
              "389    Magallanes y la Antartica\n",
              "390    Magallanes y la Antartica\n",
              "Name: Region, Length: 346, dtype: object"
            ]
          },
          "execution_count": 142,
          "metadata": {},
          "output_type": "execute_result"
        }
      ],
      "source": [
        "# Si revisamos la columna Region, vemos que los elementos se repiten bastante\n",
        "df['Region']"
      ]
    },
    {
      "cell_type": "code",
      "execution_count": null,
      "metadata": {
        "id": "a2Ytkxi0zC9X"
      },
      "outputs": [
        {
          "name": "stdout",
          "output_type": "stream",
          "text": [
            "['Arica y Parinacota' 'Tarapaca' 'Antofagasta' 'Atacama' 'Coquimbo'\n",
            " 'Valparaiso' 'Metropolitana' 'Del Libertador General Bernardo O’Higgins'\n",
            " 'Maule' 'Nuble' 'Biobio' 'La Araucania' 'Los Rios' 'Los Lagos' 'Aysen'\n",
            " 'Magallanes y la Antartica']\n",
            "Total regiones: 16\n"
          ]
        }
      ],
      "source": [
        "# Podemos obtener los elementos únicos de una columna\n",
        "print(df[\"Region\"].unique())\n",
        "# Tambien podemos contar cuantas elementos únicos hay\n",
        "print(\"Total regiones:\", df[\"Region\"].nunique())"
      ]
    },
    {
      "cell_type": "code",
      "execution_count": null,
      "metadata": {
        "id": "jvSrKkadzDN3"
      },
      "outputs": [
        {
          "data": {
            "application/vnd.microsoft.datawrangler.viewer.v0+json": {
              "columns": [
                {
                  "name": "Region",
                  "rawType": "object",
                  "type": "string"
                },
                {
                  "name": "count",
                  "rawType": "int64",
                  "type": "integer"
                }
              ],
              "ref": "134c15cb-6ef3-4cd9-9a18-40a0b10b6f05",
              "rows": [
                [
                  "Metropolitana",
                  "52"
                ],
                [
                  "Valparaiso",
                  "38"
                ],
                [
                  "Del Libertador General Bernardo O’Higgins",
                  "33"
                ],
                [
                  "Biobio",
                  "33"
                ],
                [
                  "La Araucania",
                  "32"
                ],
                [
                  "Maule",
                  "30"
                ],
                [
                  "Los Lagos",
                  "30"
                ],
                [
                  "Nuble",
                  "21"
                ],
                [
                  "Coquimbo",
                  "15"
                ],
                [
                  "Los Rios",
                  "12"
                ],
                [
                  "Magallanes y la Antartica",
                  "11"
                ],
                [
                  "Aysen",
                  "10"
                ],
                [
                  "Antofagasta",
                  "9"
                ],
                [
                  "Atacama",
                  "9"
                ],
                [
                  "Tarapaca",
                  "7"
                ],
                [
                  "Arica y Parinacota",
                  "4"
                ]
              ],
              "shape": {
                "columns": 1,
                "rows": 16
              }
            },
            "text/plain": [
              "Region\n",
              "Metropolitana                                52\n",
              "Valparaiso                                   38\n",
              "Del Libertador General Bernardo O’Higgins    33\n",
              "Biobio                                       33\n",
              "La Araucania                                 32\n",
              "Maule                                        30\n",
              "Los Lagos                                    30\n",
              "Nuble                                        21\n",
              "Coquimbo                                     15\n",
              "Los Rios                                     12\n",
              "Magallanes y la Antartica                    11\n",
              "Aysen                                        10\n",
              "Antofagasta                                   9\n",
              "Atacama                                       9\n",
              "Tarapaca                                      7\n",
              "Arica y Parinacota                            4\n",
              "Name: count, dtype: int64"
            ]
          },
          "execution_count": 144,
          "metadata": {},
          "output_type": "execute_result"
        }
      ],
      "source": [
        "# Una operación interesante es la de value_counts()\n",
        "df[\"Region\"].value_counts()"
      ]
    },
    {
      "cell_type": "markdown",
      "metadata": {},
      "source": [
        "#### **Correlación entre dos columnas**"
      ]
    },
    {
      "cell_type": "code",
      "execution_count": null,
      "metadata": {
        "id": "yaY0fmGnzLcE"
      },
      "outputs": [
        {
          "data": {
            "application/vnd.microsoft.datawrangler.viewer.v0+json": {
              "columns": [
                {
                  "name": "index",
                  "rawType": "object",
                  "type": "string"
                },
                {
                  "name": "total_poblacion",
                  "rawType": "float64",
                  "type": "float"
                },
                {
                  "name": "total_comunas",
                  "rawType": "float64",
                  "type": "float"
                }
              ],
              "ref": "3696dae2-4658-4a84-8f87-2a98b156dd70",
              "rows": [
                [
                  "total_poblacion",
                  "1.0",
                  "0.8754627141924796"
                ],
                [
                  "total_comunas",
                  "0.8754627141924796",
                  "1.0"
                ]
              ],
              "shape": {
                "columns": 2,
                "rows": 2
              }
            },
            "text/html": [
              "<div>\n",
              "<style scoped>\n",
              "    .dataframe tbody tr th:only-of-type {\n",
              "        vertical-align: middle;\n",
              "    }\n",
              "\n",
              "    .dataframe tbody tr th {\n",
              "        vertical-align: top;\n",
              "    }\n",
              "\n",
              "    .dataframe thead th {\n",
              "        text-align: right;\n",
              "    }\n",
              "</style>\n",
              "<table border=\"1\" class=\"dataframe\">\n",
              "  <thead>\n",
              "    <tr style=\"text-align: right;\">\n",
              "      <th></th>\n",
              "      <th>total_poblacion</th>\n",
              "      <th>total_comunas</th>\n",
              "    </tr>\n",
              "  </thead>\n",
              "  <tbody>\n",
              "    <tr>\n",
              "      <th>total_poblacion</th>\n",
              "      <td>1.000000</td>\n",
              "      <td>0.875463</td>\n",
              "    </tr>\n",
              "    <tr>\n",
              "      <th>total_comunas</th>\n",
              "      <td>0.875463</td>\n",
              "      <td>1.000000</td>\n",
              "    </tr>\n",
              "  </tbody>\n",
              "</table>\n",
              "</div>"
            ],
            "text/plain": [
              "                 total_poblacion  total_comunas\n",
              "total_poblacion         1.000000       0.875463\n",
              "total_comunas           0.875463       1.000000"
            ]
          },
          "execution_count": 145,
          "metadata": {},
          "output_type": "execute_result"
        }
      ],
      "source": [
        "# Podemos obtener una correlación entre la poblacion y la cantidad de columnas\n",
        "resultado = df.groupby(\"Region\").agg(total_poblacion=(\"Poblacion\", \"sum\"),\n",
        "                                     total_comunas=(\"Comuna\", \"count\"))\n",
        "resultado.corr(method=\"spearman\") # también puede ser pearson o kendall"
      ]
    },
    {
      "cell_type": "code",
      "execution_count": null,
      "metadata": {
        "id": "BaoKzt-QzMm8"
      },
      "outputs": [
        {
          "data": {
            "text/plain": [
              "<Axes: xlabel='total_poblacion', ylabel='total_comunas'>"
            ]
          },
          "execution_count": 146,
          "metadata": {},
          "output_type": "execute_result"
        },
        {
          "data": {
            "image/png": "[encoded data removed]",
            "text/plain": [
              "<Figure size 640x480 with 1 Axes>"
            ]
          },
          "metadata": {},
          "output_type": "display_data"
        }
      ],
      "source": [
        "# Un ejemplo de lo que veremos más adelante\n",
        "resultado.plot.scatter(\"total_poblacion\", \"total_comunas\")"
      ]
    },
    {
      "cell_type": "markdown",
      "metadata": {
        "id": "RsBe7GiTzRGp"
      },
      "source": [
        "<div>\n",
        "<img src=\"https://substackcdn.com/image/fetch/f_auto,q_auto:good,fl_progressive:steep/https%3A%2F%2Fsubstack-post-media.s3.amazonaws.com%2Fpublic%2Fimages%2Fe5cd9d17-9d18-4032-92d0-227a25958789_2985x2823.jpeg\" width=\"500\"/>\n",
        "</div>\n",
        "\n",
        "> Fuente: *https://www.blog.dailydoseofds.com/p/the-biggest-limitation-of-pearson*\n"
      ]
    },
    {
      "cell_type": "markdown",
      "metadata": {
        "id": "F1SKkOGpzW51"
      },
      "source": [
        "#### Merge\n",
        "La operación [`merge`](https://pandas.pydata.org/docs/reference/api/pandas.DataFrame.merge.html) permite unir dos conjuntos de datos a partir de columnas (o el indice) en común. La expresión es la siguiente:\n",
        "\n",
        "```python\n",
        "pd.merge(df1, df2, on=[\"col1\"], how=\"left\")\n",
        "```\n",
        "donde `how` corresponde al tipo de unión que se quiere realizar:\n",
        "- `left`: Mantiene las filas del DataFrame izquierdo y agrega columnas del DataFrame derecho. Es análogo al `left join` en SQL.\n",
        "- `right`: Similar al anterior, pero sobre las filas del DataFrame derecho.\n",
        "- `inner`: Mantiene las filas con claves coincidentes en ambos DataFrames, es decir, las filas que sin coincidencia quedan excluidas. Es análogo al `ìnner join` en SQL.\n",
        "- `outer`: Incluye las files de ambos DataFrames. Si hay claves no coincidentes, estas quedan con valores nulos (NaN). Análogo al `full join` de SQL\n",
        "\n",
        "<div>\n",
        "<img src=\"https://www.csestack.org/wp-content/uploads/2020/10/sql-table-joins.png\" width=\"500\"/>\n",
        "</div>\n",
        "\n",
        "> Fuente: *https://www.csestack.org/sql-join/*"
      ]
    },
    {
      "cell_type": "code",
      "execution_count": null,
      "metadata": {
        "id": "rMIQKfyizP7-"
      },
      "outputs": [
        {
          "data": {
            "text/html": [
              "<div>\n",
              "<style scoped>\n",
              "    .dataframe tbody tr th:only-of-type {\n",
              "        vertical-align: middle;\n",
              "    }\n",
              "\n",
              "    .dataframe tbody tr th {\n",
              "        vertical-align: top;\n",
              "    }\n",
              "\n",
              "    .dataframe thead th {\n",
              "        text-align: right;\n",
              "    }\n",
              "</style>\n",
              "<table border=\"1\" class=\"dataframe\">\n",
              "  <thead>\n",
              "    <tr style=\"text-align: right;\">\n",
              "      <th></th>\n",
              "      <th>Año</th>\n",
              "      <th>Tasa de Interés (%)</th>\n",
              "      <th>Inflación (%)</th>\n",
              "    </tr>\n",
              "  </thead>\n",
              "  <tbody>\n",
              "    <tr>\n",
              "      <th>0</th>\n",
              "      <td>2020</td>\n",
              "      <td>2.50</td>\n",
              "      <td>NaN</td>\n",
              "    </tr>\n",
              "    <tr>\n",
              "      <th>1</th>\n",
              "      <td>2021</td>\n",
              "      <td>2.00</td>\n",
              "      <td>3.1</td>\n",
              "    </tr>\n",
              "    <tr>\n",
              "      <th>2</th>\n",
              "      <td>2022</td>\n",
              "      <td>2.25</td>\n",
              "      <td>3.5</td>\n",
              "    </tr>\n",
              "  </tbody>\n",
              "</table>\n",
              "</div>"
            ],
            "text/plain": [
              "    Año  Tasa de Interés (%)  Inflación (%)\n",
              "0  2020                 2.50            NaN\n",
              "1  2021                 2.00            3.1\n",
              "2  2022                 2.25            3.5"
            ]
          },
          "execution_count": 167,
          "metadata": {},
          "output_type": "execute_result"
        }
      ],
      "source": [
        "# Datos de tasas de interés\n",
        "tasas = pd.DataFrame({\n",
        "    'Año': [2020, 2021, 2022],\n",
        "    'Tasa de Interés (%)': [2.5, 2.0, 2.25]\n",
        "})\n",
        "\n",
        "# Datos de inflación\n",
        "inflacion = pd.DataFrame({\n",
        "    'Año': [2021, 2022, 2023],\n",
        "    'Inflación (%)': [3.1, 3.5, 2.8]\n",
        "})\n",
        "\n",
        "# Merge de los dos dataframes usando 'Año' como clave\n",
        "df_merged = pd.merge(tasas, inflacion, on='Año', how='left')\n",
        "df_merged"
      ]
    },
    {
      "cell_type": "markdown",
      "metadata": {
        "id": "CFiP3nDVzZ0C"
      },
      "source": [
        "#### Pivoteo\n",
        "La operación [`pivot`](https://pandas.pydata.org/docs/reference/api/pandas.DataFrame.pivot.html) en Pandas nos permite reestructurar un DataFrame, de forma que los elementos de tres columnas pasan a ser los indices, columnas y valores de un nuevo DataFrame. La sintaxis es la siguiente:\n",
        "\n",
        "```python\n",
        "df.pivot(index=\"col1\", columns=\"col2\", values=\"col3\")\n",
        "```\n",
        "\n",
        "Donde:\n",
        "- `index`: La columna que se utilizará como índice del nuevo DataFrame.\n",
        "- `columns`: La columna que se utilizará para crear las nuevas columnas.\n",
        "- `values`: La columna que contiene los valores que se quieren distribuir en las nuevas columnas."
      ]
    },
    {
      "cell_type": "code",
      "execution_count": null,
      "metadata": {
        "id": "4sRpgjNezYnm"
      },
      "outputs": [
        {
          "data": {
            "text/html": [
              "<div>\n",
              "<style scoped>\n",
              "    .dataframe tbody tr th:only-of-type {\n",
              "        vertical-align: middle;\n",
              "    }\n",
              "\n",
              "    .dataframe tbody tr th {\n",
              "        vertical-align: top;\n",
              "    }\n",
              "\n",
              "    .dataframe thead th {\n",
              "        text-align: right;\n",
              "    }\n",
              "</style>\n",
              "<table border=\"1\" class=\"dataframe\">\n",
              "  <thead>\n",
              "    <tr style=\"text-align: right;\">\n",
              "      <th></th>\n",
              "      <th>Año</th>\n",
              "      <th>Mes</th>\n",
              "      <th>Inflación (%)</th>\n",
              "    </tr>\n",
              "  </thead>\n",
              "  <tbody>\n",
              "    <tr>\n",
              "      <th>0</th>\n",
              "      <td>2021</td>\n",
              "      <td>Enero</td>\n",
              "      <td>0.30</td>\n",
              "    </tr>\n",
              "    <tr>\n",
              "      <th>1</th>\n",
              "      <td>2021</td>\n",
              "      <td>Febrero</td>\n",
              "      <td>0.40</td>\n",
              "    </tr>\n",
              "    <tr>\n",
              "      <th>2</th>\n",
              "      <td>2021</td>\n",
              "      <td>Marzo</td>\n",
              "      <td>0.35</td>\n",
              "    </tr>\n",
              "    <tr>\n",
              "      <th>3</th>\n",
              "      <td>2022</td>\n",
              "      <td>Enero</td>\n",
              "      <td>0.32</td>\n",
              "    </tr>\n",
              "    <tr>\n",
              "      <th>4</th>\n",
              "      <td>2022</td>\n",
              "      <td>Febrero</td>\n",
              "      <td>0.38</td>\n",
              "    </tr>\n",
              "    <tr>\n",
              "      <th>5</th>\n",
              "      <td>2022</td>\n",
              "      <td>Marzo</td>\n",
              "      <td>0.33</td>\n",
              "    </tr>\n",
              "  </tbody>\n",
              "</table>\n",
              "</div>"
            ],
            "text/plain": [
              "    Año      Mes  Inflación (%)\n",
              "0  2021    Enero           0.30\n",
              "1  2021  Febrero           0.40\n",
              "2  2021    Marzo           0.35\n",
              "3  2022    Enero           0.32\n",
              "4  2022  Febrero           0.38\n",
              "5  2022    Marzo           0.33"
            ]
          },
          "execution_count": 168,
          "metadata": {},
          "output_type": "execute_result"
        }
      ],
      "source": [
        "# Datos de inflación mensual\n",
        "inflacion_mensual = pd.DataFrame({\n",
        "    'Año': [2021, 2021, 2021, 2022, 2022, 2022],\n",
        "    'Mes': ['Enero', 'Febrero', 'Marzo', 'Enero', 'Febrero', 'Marzo'],\n",
        "    'Inflación (%)': [0.3, 0.4, 0.35, 0.32, 0.38, 0.33]\n",
        "})\n",
        "inflacion_mensual"
      ]
    },
    {
      "cell_type": "code",
      "execution_count": null,
      "metadata": {
        "id": "A-kmBaBLzcEw"
      },
      "outputs": [
        {
          "data": {
            "text/html": [
              "<div>\n",
              "<style scoped>\n",
              "    .dataframe tbody tr th:only-of-type {\n",
              "        vertical-align: middle;\n",
              "    }\n",
              "\n",
              "    .dataframe tbody tr th {\n",
              "        vertical-align: top;\n",
              "    }\n",
              "\n",
              "    .dataframe thead th {\n",
              "        text-align: right;\n",
              "    }\n",
              "</style>\n",
              "<table border=\"1\" class=\"dataframe\">\n",
              "  <thead>\n",
              "    <tr style=\"text-align: right;\">\n",
              "      <th>Mes</th>\n",
              "      <th>Enero</th>\n",
              "      <th>Febrero</th>\n",
              "      <th>Marzo</th>\n",
              "    </tr>\n",
              "    <tr>\n",
              "      <th>Año</th>\n",
              "      <th></th>\n",
              "      <th></th>\n",
              "      <th></th>\n",
              "    </tr>\n",
              "  </thead>\n",
              "  <tbody>\n",
              "    <tr>\n",
              "      <th>2021</th>\n",
              "      <td>0.30</td>\n",
              "      <td>0.40</td>\n",
              "      <td>0.35</td>\n",
              "    </tr>\n",
              "    <tr>\n",
              "      <th>2022</th>\n",
              "      <td>0.32</td>\n",
              "      <td>0.38</td>\n",
              "      <td>0.33</td>\n",
              "    </tr>\n",
              "  </tbody>\n",
              "</table>\n",
              "</div>"
            ],
            "text/plain": [
              "Mes   Enero  Febrero  Marzo\n",
              "Año                        \n",
              "2021   0.30     0.40   0.35\n",
              "2022   0.32     0.38   0.33"
            ]
          },
          "execution_count": 169,
          "metadata": {},
          "output_type": "execute_result"
        }
      ],
      "source": [
        "# Pivoteamos\n",
        "df_pivoteado = inflacion_mensual.pivot(index='Año', columns='Mes', values='Inflación (%)')\n",
        "df_pivoteado"
      ]
    },
    {
      "cell_type": "markdown",
      "metadata": {
        "id": "ul7ayzy10JXD"
      },
      "source": [
        "## **Environments y Manejo de versiones con Git**\n",
        "\n",
        "### Conda Environments\n",
        "\n",
        "Un punto importante al momento de trabajar en nuevos proyectos es el uso correcto de un *environment*. Podemos entenderlo como un espacio aislado con su propia instalación de Python donde podremos instalar paquetes sin alterar otros environments. Anaconda instala por defecto el environment `base`.\n",
        "\n",
        "#### ¿Por qué usar un nuevo environment para un proyecto?\n",
        "\n",
        "Las librerías/paquetes están en constante actualización, las que muchas veces alteran el funcionamiento de muchas componentes. Es muy común querer instalar una librería nueva que necesita por ejemplo la última versión de NumPy, y puede ser que esta última versión rompa el funcionamiento de otra librería que ya tenías instalada. Así, para evitar conflictos entre paquetes, se prefiere definir un nuevo *environment*.\n",
        "\n",
        "#### Creando un nuevo environment\n",
        "\n",
        "Para crear un nuevo environment utilizaremos el *anaconda prompt*. Nos basta con ejecutar el siguiente comando:\n",
        "\n",
        "```\n",
        "conda create --name mi_entorno python=3.12 ipykernel\n",
        "```\n",
        "\n",
        "Donde:\n",
        "- `mi_entorno` será el nombre del environment\n",
        "- `python=3.12` indica que queremos instalar dicha versión de Python\n",
        "- `ipykernel` indica que queremos incluir dicho paquete en nuestro environment\n",
        "\n",
        "Una vez creado, podemos activarlo usando `conda activate mi_entorno`.\n",
        "\n",
        "#### Habilitando el kernel de nuestro environment\n",
        "\n",
        "Una tarea necesaria para que el nuevo environment funcione con Jupyter Notebooks es la de incluir el *kernel* de nuestra instalación aislada de Python a la lista completa de kernels, para ello, basta con ejecutar el siguiente comando (es necesario haber activado el environment previamente):\n",
        "\n",
        "```\n",
        "python -m ipykernel install --user --name=mi_entorno --display-name=\"mi_entorno (Python 3.12)\"\n",
        "```\n",
        "\n",
        "Donde:\n",
        "- `--name=mi_entorno` se refiere a que environment usar\n",
        "- `--display-name=\"mi_entorno (Python 3.12)\"` indica con qué nombre queremos que aparezca en el listado.\n",
        "\n",
        "Una vez configurado, podremos entonces trabajar directamente sobre el kernel asociado a dicho environment.\n",
        "\n",
        "### Git\n",
        "\n",
        "Git es un sistema de control de versiones distribuido que permite a los desarrolladores gestionar y registrar cambios en su código de manera eficiente. Hoy en día es altamente utilizado en prácticamente todas las compañías. Por nuestro lado, lo estaremos utilizando para el proyecto final.\n",
        "\n",
        "#### Instalando `git`\n",
        "\n",
        "Dado que ya instalamos Anaconda, la forma más rápida de instalar `git` es usando el *anaconda prompt*\\*. Ejecutaremos el siguiente comando:\n",
        "\n",
        "```bash\n",
        "conda install anaconda::git\n",
        "```\n",
        "\n",
        "Una vez instalado, podemos verificar la instalación ejecutando `git -v`.\n",
        "\n",
        "\\* *Existen otras formas de [instalar](https://git-scm.com/downloads) git, incluso se puede utilizar [GitHub-Desktop](https://desktop.github.com/download/) para un manejo más amigable*.\n",
        "\n",
        "### GitHub\n",
        "GitHub es una plataforma que utiliza Git para el control de versiones y facilita la colaboración en proyectos.\n",
        "\n",
        "- Antes de empezar con la configuración, será importante que creen una cuenta en [GitHub](https://github.com/signup) si es que no la tienen.\n",
        "- Lo siguiente que se debe realizar, es [crear un repositorio](https://docs.github.com/en/repositories/creating-and-managing-repositories/quickstart-for-repositories) público.\n",
        "\n",
        "Una vez creado el repositorio, es momento de *clonarlo* en su computador utilizando `git`.\n",
        "\n",
        "#### Clonando el repositorio\n",
        "\n",
        "Para clonar un repositorio necesitaremos la url de este, la cual tendrá la estructura `https://github.com/mi_usuario/nombre_repositorio`. Si hemos configurado bien `git`, bastará con ejecutar lo siguiente desde *anaconda prompt*:\n",
        "\n",
        "```bash\n",
        "git clone https://github.com/mi_usuario/nombre_repositorio\n",
        "```\n",
        "\n",
        "Si todo está bien, verán una nueva carpeta `nombre_repositorio` con el contenido del repositorio.\n",
        "\n",
        "Para ir familiarizandose con `git`, se recomienda tener a mano [está hoja](https://education.github.com/git-cheat-sheet-education.pdf) con los comandos típicos.\n",
        "\n",
        "#### Realizando un *commit*\n",
        "\n",
        "Un *commit* es una manera de confirmar cambios a un repositorio. Para este ejemplo práctico, crearemos un simple notebook dentro del repositorio clonado y lo subiremos (push).\n",
        "\n",
        "Empezaremos creando un nuevo archivo `.ipynb` dentro de la carpeta e introduciendo un texto simple. Una vez guardado el notebook, utilizaremos *anaconda prompt* u otra consola para acceder a la carpeta. El comando típico para navegar entre carpetas es usar `cd carpeta`.\n",
        "\n",
        "Ahora bien, dentro de la carpeta ejecutaremos el comando `git status`, el cual nos mostrará algo muy similar a esto\n",
        "```\n",
        "On branch main\n",
        "Your branch is up to date with 'origin/main'.\n",
        "\n",
        "Untracked files:\n",
        "  (use \"git add <file>...\" to include in what will be committed)\n",
        "        mi_notebook.ipynb\n",
        "```\n",
        "\n",
        "Lo que nos indica que hay nuevo contenido, pero no está dentro del repositorio. Seguiremos la indicación de usar `git add <file>`, con `<file>` el nombre de nuestro archivo a incluir. Una vez hecho esto, volveremos a ejecutar `git status` y veremos algo similar a esto:\n",
        "\n",
        "```\n",
        "On branch main\n",
        "Your branch is up to date with 'origin/main'.\n",
        "\n",
        "Changes to be committed:\n",
        "  (use \"git restore --staged <file>...\" to unstage)\n",
        "        new file:   mi_notebook.ipynb\n",
        "\n",
        "```\n",
        "\n",
        "Excelente, ahora necesitamos realizar un *commit*, introduciendo un mensaje que describa qué acabamos de hacer:\n",
        "\n",
        "```\n",
        "commit -m \"Agrego mi notebook\"\n",
        "```\n",
        "\n",
        "Ahora que tenemos confirmado nuestro cambio, podemos subirlos ejecutando:\n",
        "\n",
        "```\n",
        "git push origin main\n",
        "```\n",
        "\n",
        "Donde:\n",
        "- `origin` se refiere al alias del repositorio. Por defecto cada vez que clonemos esté se llamará `origin`.\n",
        "- `main` es el nombre de la rama a la que se quieren subir los cambios. Por defecto la rama principal se llama `main`.\n",
        "\n",
        "Notarán que dicho comando nos exije el usuario y contraseña para subir los cambios. En el caso de GitHub, la contraseña en realidad debe ser un token de acceso, el cual se puede obtener desde el [siguiente link](https://github.com/settings/tokens).\n",
        "\n",
        "Si ahora entramos al link de GitHub de nuestro repositorio, veremos que los cambios ya están en el historial"
      ]
    },
    {
      "cell_type": "markdown",
      "metadata": {
        "id": "lNMtrYlmzeAV"
      },
      "source": [
        "# Links de interés\n",
        "- [W3Schools](https://www.w3schools.com/python/numpy/default.asp) tiene tutoriales simples de NumPy\n",
        "- [Pandas](https://pandas.pydata.org/docs/user_guide/10min.html) tiene una guía introductoria de 10 minutos\n",
        "- [W3Schools](https://www.w3schools.com/python/pandas/default.asp) tiene un tutorial de Pandas, incluyendo [algunos ejercicios](https://www.w3schools.com/python/pandas/exercise.asp)\n",
        "- [CheatSheet de GitHub](https://education.github.com/git-cheat-sheet-education.pdf)"
      ]
    }
  ],
  "metadata": {
    "colab": {
      "provenance": []
    },
    "kernelspec": {
      "display_name": "data-science",
      "language": "python",
      "name": "python3"
    },
    "language_info": {
      "codemirror_mode": {
        "name": "ipython",
        "version": 3
      },
      "file_extension": ".py",
      "mimetype": "text/x-python",
      "name": "python",
      "nbconvert_exporter": "python",
      "pygments_lexer": "ipython3",
      "version": "3.12.11"
    }
  },
  "nbformat": 4,
  "nbformat_minor": 0
}
