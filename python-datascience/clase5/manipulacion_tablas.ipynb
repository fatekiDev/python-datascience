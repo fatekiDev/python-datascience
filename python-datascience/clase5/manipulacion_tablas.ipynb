{
 "cells": [
  {
   "cell_type": "code",
   "execution_count": 17,
   "id": "b8c6ec16",
   "metadata": {},
   "outputs": [],
   "source": [
    "import numpy as np"
   ]
  },
  {
   "cell_type": "markdown",
   "id": "75e348d2",
   "metadata": {},
   "source": [
    "Para ejercitar un poco, revisemos la siguiente tabla:\n",
    "\n",
    "| Estudiante | Matemáticas | Ciencias | Historia |\n",
    "| ---------- | ----------- | -------- | -------- |\n",
    "| Juan       | 5.7         | 6.3      | 6.0      |\n",
    "| María      | 6.5         | 5.9      | 6.8      |\n",
    "| Carlos     | 5.0         | 5.5      | 5.2      |\n",
    "| Ana        | 6.2         | 5.3      | 6.5      |\n"
   ]
  },
  {
   "cell_type": "code",
   "execution_count": 18,
   "id": "425f7c4d",
   "metadata": {},
   "outputs": [],
   "source": [
    "nombres = [\"Juan\", \"Maria\", \"Carlos\", \"Ana\"]\n",
    "asignaturas = [\"Matematicas\", \"Ciencias\", \"Historia\"]\n",
    "\n",
    "notas = np.array([\n",
    "    [5.7, 6.3, 6.0],\n",
    "    [6.5, 5.9, 6.8],\n",
    "    [5.0, 5.5, 5.2],\n",
    "    [6.2, 5.3, 6.5]\n",
    "])"
   ]
  },
  {
   "cell_type": "markdown",
   "id": "e0553c25",
   "metadata": {},
   "source": [
    "### Sacando promedio"
   ]
  },
  {
   "cell_type": "code",
   "execution_count": 22,
   "id": "fdd88c8b",
   "metadata": {},
   "outputs": [
    {
     "data": {
      "text/plain": [
       "2"
      ]
     },
     "execution_count": 22,
     "metadata": {},
     "output_type": "execute_result"
    }
   ],
   "source": [
    "#Viendo el index del estudiante\n",
    "nombres.index(\"Carlos\")"
   ]
  },
  {
   "cell_type": "code",
   "execution_count": 28,
   "id": "bb315773",
   "metadata": {},
   "outputs": [
    {
     "name": "stdout",
     "output_type": "stream",
     "text": [
      "5.23\n"
     ]
    }
   ],
   "source": [
    "promedio_carlos = round(np.mean(notas[2,:]), 2)\n",
    "print(promedio_carlos)"
   ]
  },
  {
   "cell_type": "code",
   "execution_count": 29,
   "id": "1ce6d3a7",
   "metadata": {},
   "outputs": [
    {
     "name": "stdout",
     "output_type": "stream",
     "text": [
      "6\n"
     ]
    }
   ],
   "source": [
    "# Funcion para calcular los promedios\n",
    "def promedio(notas, estudiante):\n",
    "    indice = nombres.index(estudiante)\n",
    "    return round(np.mean(notas[indice]))\n",
    "\n",
    "print(promedio(notas,\"Juan\"))"
   ]
  }
 ],
 "metadata": {
  "kernelspec": {
   "display_name": "data-science",
   "language": "python",
   "name": "python3"
  },
  "language_info": {
   "codemirror_mode": {
    "name": "ipython",
    "version": 3
   },
   "file_extension": ".py",
   "mimetype": "text/x-python",
   "name": "python",
   "nbconvert_exporter": "python",
   "pygments_lexer": "ipython3",
   "version": "3.12.11"
  }
 },
 "nbformat": 4,
 "nbformat_minor": 5
}
