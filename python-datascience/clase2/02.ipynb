{
  "cells": [
    {
      "cell_type": "markdown",
      "metadata": {
        "id": "lYE0JBY6IVJ5"
      },
      "source": [
        "# Python para Data Science: Clase 02\n",
        "\n",
        "## Repaso clase anterior\n",
        "### Operadores de comparación\n",
        "\n",
        "Como su nombre lo indica, este tipo de operadores nos permiten comparar dos elementos, devolviendo un valor booleano que indica si la condición se cumple (`True`) o no (`False`):\n",
        "\n",
        "- **Igual a**: `a == b`\n",
        "- **No igual a**: `a != b`\n",
        "- **Mayor que**: `a > b`\n",
        "- **Menor que**: `a < b`\n",
        "- **Mayor o igual que**: `a >= b`\n",
        "- **Menor o igual que**: `a <= b`"
      ]
    },
    {
      "cell_type": "code",
      "execution_count": 1,
      "metadata": {
        "id": "h4-Q6WBoog2h"
      },
      "outputs": [
        {
          "data": {
            "text/plain": [
              "True"
            ]
          },
          "execution_count": 1,
          "metadata": {},
          "output_type": "execute_result"
        }
      ],
      "source": [
        "a = 5\n",
        "b = 3\n",
        "\n",
        "a // b == 1"
      ]
    },
    {
      "cell_type": "code",
      "execution_count": null,
      "metadata": {
        "id": "7Ufdjxtlorp2"
      },
      "outputs": [
        {
          "data": {
            "text/plain": [
              "False"
            ]
          },
          "execution_count": 2,
          "metadata": {},
          "output_type": "execute_result"
        }
      ],
      "source": [
        "# Resto de la división\n",
        "a % b != 2 "
      ]
    },
    {
      "cell_type": "code",
      "execution_count": 4,
      "metadata": {
        "id": "ZE6swQKpox76"
      },
      "outputs": [
        {
          "data": {
            "text/plain": [
              "True"
            ]
          },
          "execution_count": 4,
          "metadata": {},
          "output_type": "execute_result"
        }
      ],
      "source": [
        "a * b == b * a"
      ]
    },
    {
      "cell_type": "markdown",
      "metadata": {
        "id": "yAFyIGk2obnm"
      },
      "source": [
        "### Operaciones lógicas\n",
        "\n",
        "Los operadores lógicos son usados para combinar expresiones booleanas:\n",
        "\n",
        "- **Y (and)**: `a and b`\n",
        "- **O (or)**: `a or b`\n",
        "- **Negación (not)**: `not a`\n",
        "- **Está en (in)**: `a in b`"
      ]
    },
    {
      "cell_type": "code",
      "execution_count": 6,
      "metadata": {
        "id": "S6aoqhmlF9gX"
      },
      "outputs": [
        {
          "data": {
            "text/plain": [
              "True"
            ]
          },
          "execution_count": 6,
          "metadata": {},
          "output_type": "execute_result"
        }
      ],
      "source": [
        "True and (not False) and (False or True)"
      ]
    },
    {
      "cell_type": "code",
      "execution_count": 7,
      "metadata": {
        "id": "6etcco1Dj0mW"
      },
      "outputs": [
        {
          "data": {
            "text/plain": [
              "False"
            ]
          },
          "execution_count": 7,
          "metadata": {},
          "output_type": "execute_result"
        }
      ],
      "source": [
        "\"hola\" in \"Hola Mundo\""
      ]
    },
    {
      "cell_type": "code",
      "execution_count": 8,
      "metadata": {
        "id": "9tHEuMTikK_n"
      },
      "outputs": [
        {
          "data": {
            "text/plain": [
              "True"
            ]
          },
          "execution_count": 8,
          "metadata": {},
          "output_type": "execute_result"
        }
      ],
      "source": [
        "not (True or False) == (not True) and (not False)"
      ]
    },
    {
      "cell_type": "markdown",
      "metadata": {
        "id": "1AhsEc6g1O4M"
      },
      "source": [
        "### Comentarios sobre variables\n",
        "\n",
        "En Python una variable puede ser redefinida en cualquier momento, cosa que en algunos lenguajes debe hacerse explicita al momento de definir una variable:"
      ]
    },
    {
      "cell_type": "code",
      "execution_count": 9,
      "metadata": {
        "id": "79FG6jjO1oiy"
      },
      "outputs": [
        {
          "name": "stdout",
          "output_type": "stream",
          "text": [
            "5\n",
            "10\n"
          ]
        }
      ],
      "source": [
        "mi_variable = 5\n",
        "print(mi_variable)\n",
        "# La redefinimos como 10\n",
        "mi_variable = 10\n",
        "print(mi_variable)"
      ]
    },
    {
      "cell_type": "markdown",
      "metadata": {
        "id": "OsHoMXxa2BPJ"
      },
      "source": [
        "Por ejemplo, en javascript las variables se pueden definir con keywords como `const` y `let`, siendo este último lo que permite que una variable pueda cambiar de valor:\n",
        "\n",
        "```javascript\n",
        "const x = 4;\n",
        "x = 10; // esto tiraría un error, ya que debe tener valor constante\n",
        "\n",
        "let x = 4;\n",
        "x = 10; // esto funcionará\n",
        "\n",
        "```\n",
        "\n",
        "Python tiene la simpleza de asumir que cualquier variable puede ser redefinida, lo que a veces puede jugar en contra. Veamos un ejemplo a continuación, donde el código está distribuido en dos celdas:"
      ]
    },
    {
      "cell_type": "code",
      "execution_count": 10,
      "metadata": {
        "id": "Ht7PTSWL2A07"
      },
      "outputs": [],
      "source": [
        "variable = 10"
      ]
    },
    {
      "cell_type": "code",
      "execution_count": 12,
      "metadata": {
        "id": "JQaJ13ub23u3"
      },
      "outputs": [
        {
          "name": "stdout",
          "output_type": "stream",
          "text": [
            "5\n"
          ]
        }
      ],
      "source": [
        "# Qué ocurre si esto lo ejecutamos dos veces?\n",
        "print(variable)\n",
        "variable = 5"
      ]
    },
    {
      "cell_type": "markdown",
      "metadata": {
        "id": "wTBLN8A33KfE"
      },
      "source": [
        "Lo anterior ocurre porque la ejecución de celdas en jupyter notebook es sequencial y no se rige simplemente por el orden en que fueron creadas. Por ello, en la primera ejecución `variable` era igual a 10, pero luego pasa a ser 5 en la segunda. En términos estrictos, es como si hubiesemos ejecutado lo siguiente:"
      ]
    },
    {
      "cell_type": "code",
      "execution_count": 14,
      "metadata": {
        "id": "5cyN7WlI3JvU"
      },
      "outputs": [
        {
          "name": "stdout",
          "output_type": "stream",
          "text": [
            "10\n",
            "5\n"
          ]
        }
      ],
      "source": [
        "# Primer bloque\n",
        "variable = 10\n",
        "# Segundo bloque: primera vez\n",
        "print(variable)\n",
        "variable = 5\n",
        "# Segundo bloque: segunda vez\n",
        "print(variable)\n",
        "variable = 5"
      ]
    },
    {
      "cell_type": "markdown",
      "metadata": {
        "id": "D9p6irLD3uNy"
      },
      "source": [
        "#### Un ejercicio simple con variables\n",
        "\n",
        "Tengo dos variable `a` y `b`, como puedo intercambiar sus valores (sin redefinir de forma explícita)?"
      ]
    },
    {
      "cell_type": "code",
      "execution_count": 27,
      "metadata": {
        "id": "6bKV2Yoe3tT4"
      },
      "outputs": [
        {
          "name": "stdout",
          "output_type": "stream",
          "text": [
            "a =  20\n",
            "b = 10\n"
          ]
        }
      ],
      "source": [
        "a = 10\n",
        "b = 20\n",
        "\n",
        "# opción 1\n",
        "a , b = b , a\n",
        "\n",
        "# opción 2\n",
        "# c = a\n",
        "# a = b\n",
        "# b = c\n",
        "\n",
        "print(\"a = \", a)\n",
        "print(\"b =\", b)"
      ]
    },
    {
      "cell_type": "markdown",
      "metadata": {
        "id": "ftRP7vmOpGZg"
      },
      "source": [
        "## Control de Flujo Condicional\n",
        "\n",
        "Conociendo ya el uso de variables y operadores, estamos preparados para ver otro aspecto fundamental de la programación: el control de flujo condicional. La idea de esta clase es entender la lógica de decisión que permite a los programas ejecutar distintas acciones según se cumplan o no ciertas decisiones.\n",
        "\n",
        "Cuando hablamos de flujo, es bueno aondar en los diagramas de flujo:\n",
        "\n",
        "![](https://upload.wikimedia.org/wikipedia/commons/3/3d/LampFlowchart_es.svg)\n",
        "\n",
        "Los controladores de flujo vienen siendo los rombos amarillos, los cuales realizan una pregunta condicional.\n",
        "\n",
        "Haciendo uso de las palabras claves de Python `if`, `else`, `elif`, tambien conocidos como condicionales, podemos entonces construir cualquier flujo. En particular, la sintaxis sería la siguiente:\n",
        "\n",
        "```python\n",
        "if condicion1: # Si condicion1 es True, entonces\n",
        "  ... # hacer algo\n",
        "elif condicion2: # Si no lo es, ver si condicion2 es True, entonces\n",
        "  ... # hacer otra cosa\n",
        "else: # Si ninguna condicion se cumple, entonces\n",
        "  ... # hacer alguna otra cosa\n",
        "```\n",
        "\n",
        "Es importante mencionar que uno puede usar todos los `elif` que uno quisiera. Bajo esta estructura Python entrará solo al bloque donde la condición se cumpla.\n",
        "\n",
        "![](https://i.ibb.co/SwN05Vd/diagrama-elif.png)\n",
        "\n",
        "¿Qué pasa si solo quiero ver el flujo con dos opciones posibles?, basta con sacar `elif` de nuestro código:\n",
        "\n",
        "```python\n",
        "if condicion1: # Si condicion1 es True, entonces\n",
        "  ... # hacer algo\n",
        "else: # Si no, entonces\n",
        "  ... # hacer alguna otra cosa\n",
        "```\n",
        "\n",
        "\n",
        "Tambien recordemos que las condiciones pueden ir concatenadas usando los operadores lógicos `and` y `or`.\n",
        "\n",
        "```python\n",
        "if (condicion1 and condicion2): # El uso de parentesis no es obligatorio\n",
        "  ... # hacer algo\n",
        "\n",
        "```\n",
        "\n",
        "Notar la identación despues de los dos puntos, esto quiere decir que todo lo identado es parte de lo que se ejecutará si se cumple la condición. Este es el simil de muchos lenguajes de programación donde se usa `{...}` para bloques de ejecución.\n",
        "\n",
        "Veamos un ejemplo, ¿qué creen que se mostrará en pantalla?"
      ]
    },
    {
      "cell_type": "code",
      "execution_count": 28,
      "metadata": {
        "id": "EYry7NY9pRHM"
      },
      "outputs": [
        {
          "name": "stdout",
          "output_type": "stream",
          "text": [
            "respuesta 3\n"
          ]
        }
      ],
      "source": [
        "un_float = 3.5\n",
        "\n",
        "if un_float >= 4:\n",
        "  print(\"respuesta 1\")\n",
        "elif un_float > 3.5:\n",
        "  print(\"respuesta 2\")\n",
        "elif un_float > 0 and not False:\n",
        "  print(\"respuesta 3\")\n",
        "else:\n",
        "  print(\"respuesta 4\")"
      ]
    },
    {
      "cell_type": "markdown",
      "metadata": {
        "id": "fyrKfXrYpyu2"
      },
      "source": [
        "¿Y qué hay de este caso?"
      ]
    },
    {
      "cell_type": "code",
      "execution_count": 29,
      "metadata": {
        "id": "cA3ANPkIpzez"
      },
      "outputs": [
        {
          "name": "stdout",
          "output_type": "stream",
          "text": [
            "respuesta 1\n"
          ]
        }
      ],
      "source": [
        "un_numero = 5\n",
        "\n",
        "if un_numero >= 5:\n",
        "  print(\"respuesta 1\")\n",
        "elif un_numero == 5:\n",
        "  print(\"respuesta 2\")\n",
        "else:\n",
        "  print(\"respuesta 3\")"
      ]
    },
    {
      "cell_type": "markdown",
      "metadata": {
        "id": "V0rdgEDsp2m8"
      },
      "source": [
        "¿Y de este?"
      ]
    },
    {
      "cell_type": "code",
      "execution_count": 30,
      "metadata": {
        "id": "BF8NxMpdpwyq"
      },
      "outputs": [
        {
          "name": "stdout",
          "output_type": "stream",
          "text": [
            "respuesta 1\n",
            "respuesta 2\n"
          ]
        }
      ],
      "source": [
        "un_numero = 25\n",
        "\n",
        "if (un_numero % 5) == 0:\n",
        "  print(\"respuesta 1\")\n",
        "if un_numero == 25:\n",
        "  print(\"respuesta 2\")\n",
        "else:\n",
        "  print(\"respuesta 3\")"
      ]
    },
    {
      "cell_type": "markdown",
      "metadata": {
        "id": "bSLO4wkhp85Y"
      },
      "source": [
        "Hagamos algo más complejo aún:"
      ]
    },
    {
      "cell_type": "code",
      "execution_count": null,
      "metadata": {
        "id": "7d9-rxk1p7ki"
      },
      "outputs": [],
      "source": [
        "a = \"\"\n",
        "b = True\n",
        "c = 5\n",
        "\n",
        "if a and b:\n",
        "  print(\"respuesta 1\")\n",
        "elif a and c != 5:\n",
        "  print(\"respuesta 2\")\n",
        "elif not (not a or b and c > 0):\n",
        "  print(\"respuesta 3\")\n",
        "else:\n",
        "  print(\"respuesta 4\")"
      ]
    },
    {
      "cell_type": "markdown",
      "metadata": {
        "id": "tKb6UiseqCJP"
      },
      "source": [
        "Cuando trabajamos con condicionales, no estamos limitados a solo usar una línea de código por condicional. Podemos ejecutar cualquier cosa dentro de ellos, *incluso más condicionales*"
      ]
    },
    {
      "cell_type": "code",
      "execution_count": 31,
      "metadata": {
        "id": "99mDJlOop5xT"
      },
      "outputs": [
        {
          "name": "stdout",
          "output_type": "stream",
          "text": [
            "0.5\n"
          ]
        }
      ],
      "source": [
        "un_numero = float(input(\"Ingrese un numero entre 0 y 1: \"))\n",
        "\n",
        "if 0 <= un_numero <= 1:\n",
        "  if un_numero >= 0.5:\n",
        "    un_numero = un_numero - 0.5\n",
        "  else:\n",
        "    un_numero = 0.5 - un_numero\n",
        "  print(un_numero)\n",
        "else:\n",
        "  print(\"Por favor ingrese un número válido\")\n"
      ]
    },
    {
      "cell_type": "markdown",
      "metadata": {
        "id": "s6nCqZSiqGN6"
      },
      "source": [
        "En este caso, hemos representado la siguiente función, definida solo en el rango $[0,1]$\n",
        "\n",
        "$y(x) = \\left\\{\n",
        "\\begin{array}{ll}\n",
        "x - 0.5 & \\text{si } x \\geq 0.5 \\\\\n",
        "0.5 - x & \\text{si } x < 0.5 \\\\\n",
        "\\end{array}\n",
        "\\right.$"
      ]
    },
    {
      "cell_type": "code",
      "execution_count": 1,
      "metadata": {
        "id": "_Ntr-_WVqFo6"
      },
      "outputs": [
        {
          "data": {
            "image/png": "[encoded data removed]",
            "text/plain": [
              "<Figure size 640x480 with 1 Axes>"
            ]
          },
          "metadata": {},
          "output_type": "display_data"
        }
      ],
      "source": [
        "# No tienen porqué entender este apartado por ahora\n",
        "import numpy as np\n",
        "import matplotlib.pyplot as plt\n",
        "\n",
        "x = np.linspace(0, 1, 11)\n",
        "\n",
        "def y(un_numero):\n",
        "  if un_numero >= 0.5:\n",
        "    un_numero = un_numero - 0.5\n",
        "  else:\n",
        "    un_numero = 0.5 - un_numero\n",
        "  return un_numero\n",
        "\n",
        "plt.plot(x,[y(xi) for xi in x])\n",
        "plt.show()"
      ]
    },
    {
      "cell_type": "markdown",
      "metadata": {
        "id": "EQgjIxdwdoa2"
      },
      "source": [
        "### Ejercicios\n",
        "\n",
        "#### 1 Promedio de notas\n",
        "\n",
        "La nota final de un curso se compone de 2 pruebas, las cuales valen un 30% cada una, y una nota por ejercicios en clases, equivalente al 40% restante.\n",
        "\n",
        "Escriba un programa que *lea* con `input` cada una de las notas, e imprima en pantalla si un estudiante está reprobando o no"
      ]
    },
    {
      "cell_type": "code",
      "execution_count": 36,
      "metadata": {
        "id": "DYn6Em5-dp4R"
      },
      "outputs": [
        {
          "name": "stdout",
          "output_type": "stream",
          "text": [
            "El estudiante Aprobo con nota 6.16\n"
          ]
        }
      ],
      "source": [
        "nota_1 = float(input(\"Ingrese la nota de la prueba 1: \"))\n",
        "nota_2 = float(input(\"Ingrese la nota de la prueba 2: \"))\n",
        "nota_3 = float(input(\"Ingrese la nota por ejercicios en clases: \"))\n",
        "\n",
        "promedio = (nota_1 * 0.3) + (nota_2 * 0.3) + (nota_3 * 0.4)\n",
        "\n",
        "if promedio >= 4.0:\n",
        "    print(f\"El estudiante Aprobo con nota {promedio}\")\n",
        "else:\n",
        "    print(f\"El estudiante reprobo con nota: {promedio}\")\n"
      ]
    },
    {
      "cell_type": "markdown",
      "metadata": {
        "id": "wREDWjobfJMX"
      },
      "source": [
        "#### 2 Clasificador de triángulos\n",
        "\n",
        "Dados tres ángulos de un tríangulo, imprimir qué tipo de ángulo es: equilátero, isósceles o escaleno. Si los ángulos no corresponden a los de un tríangulo, entonces imprimir en pantalla `tríangulo no válido`."
      ]
    },
    {
      "cell_type": "code",
      "execution_count": 44,
      "metadata": {
        "id": "SPStF2SufIAW"
      },
      "outputs": [
        {
          "name": "stdout",
          "output_type": "stream",
          "text": [
            "El triangulo es escaleno\n"
          ]
        }
      ],
      "source": [
        "angulo_1 = 100\n",
        "angulo_2 = 30\n",
        "angulo_3 = 50\n",
        "\n",
        "if angulo_1 + angulo_2 + angulo_3 != 180:\n",
        "    print(\"El triángulo no es válido\")\n",
        "elif angulo_1 == angulo_2 and angulo_2 == angulo_3:\n",
        "    print(\"El triángulo es equilatero\")\n",
        "elif angulo_1 == angulo_2 or angulo_2 == angulo_3 or angulo_1 == angulo_3:\n",
        "    print(\"El triaángulo es isosceles\")\n",
        "else:\n",
        "    print(\"El triangulo es escaleno\")"
      ]
    },
    {
      "cell_type": "markdown",
      "metadata": {
        "id": "44JKMs8cf4gB"
      },
      "source": [
        "#### 3 Detector de paridad\n",
        "\n",
        "Dado un número entregado por el usuario, detectar si es par o no, imprimiendo la respuesta en pantalla."
      ]
    },
    {
      "cell_type": "code",
      "execution_count": 5,
      "metadata": {
        "id": "xnyiWu5fgCJa"
      },
      "outputs": [
        {
          "name": "stdout",
          "output_type": "stream",
          "text": [
            "El 3 ingresa es impar\n"
          ]
        }
      ],
      "source": [
        "numero = int(input(\"Ingrese un numero: \"))\n",
        "\n",
        "if numero % 2 == 0:\n",
        "    print(f\"El {numero} ingresa es par\" )\n",
        "else:\n",
        "    print(f\"El {numero} ingresa es impar\")"
      ]
    },
    {
      "cell_type": "markdown",
      "metadata": {
        "id": "ku2AvG4aqTJO"
      },
      "source": [
        "## Control de flujo de ciclos\n",
        "\n",
        "Otro conocimiento importante que deben saber todos los programadores es el control de flujo sobre ciclos, que, junto al flujo condicional, permiten definir la lógica de nuestro programa.\n",
        "\n",
        "\n",
        "Las palabras clave para realizar control de flujo en base a ciclos son `while` (mientras) y `for`. La sintaxis de cada uno es la siguiente:\n",
        "\n",
        "```python\n",
        "# Ciclo while\n",
        "while condicion1: # Mientras se cumpla la condicion1\n",
        "  ... # Hacer algo\n",
        "\n",
        "# ---------------\n",
        "\n",
        "# Ciclo for\n",
        "for elemento in elementos: # para cada elemento en mi conjunto de elementos\n",
        "  ... # Hacer algo\n",
        "\n",
        "```\n",
        "\n",
        "\n",
        "\n",
        "Veamos como funciona cada uno mirando un diagrama de flujo.\n",
        "\n",
        "![](https://i.ibb.co/VgDwzhT/for-while-drawio.png)\n",
        "\n",
        "Tambien recordemos que las condiciones pueden ir concatenadas usando los operadores lógicos `and` y `or`.\n",
        "\n",
        "```python\n",
        "while (condicion1 and condicion2): # El uso de parentesis no es obligatorio\n",
        "  ... # hacer algo\n",
        "\n",
        "```\n",
        "\n",
        "De forma similar a los condicionales `if`, `elif` y `else`, también debemos tener en cuenta la identación al momento de trabajar con ciclos.\n",
        "\n",
        "Veamos entonces el ciclo `while`.\n",
        "\n",
        "### While\n",
        "\n",
        "El ciclo `while` ejecutará el bloque de código hasta que la condición no se cumpla. Esto significa que el usuario debe indicar una forma de romper este flujo para que el programa no se esté ejecutando de manera infinita.\n",
        "\n",
        "Veamos un ejemplo:"
      ]
    },
    {
      "cell_type": "code",
      "execution_count": null,
      "metadata": {
        "id": "k_ne90hvqMKC"
      },
      "outputs": [],
      "source": [
        "# Ciclo Infinito\n",
        "#i = 0\n",
        "#while i < 5:\n",
        "  #print(i)"
      ]
    },
    {
      "cell_type": "markdown",
      "metadata": {
        "id": "v_QVDuncqz1H"
      },
      "source": [
        "Como habran visto, la celda anterior estará imprimiendo en pantalla eternamente el valor de `i`. ¿Cómo podríamos corregirlo?"
      ]
    },
    {
      "cell_type": "code",
      "execution_count": null,
      "metadata": {
        "id": "nP5Fr3ddq05c"
      },
      "outputs": [],
      "source": [
        "i = 0\n",
        "while i < 5:\n",
        "  print(i)\n",
        "  # que podemos agregar acá?"
      ]
    },
    {
      "cell_type": "markdown",
      "metadata": {
        "id": "auSFSV60q2ln"
      },
      "source": [
        "Veamos un ejemplo un tanto más interesante:"
      ]
    },
    {
      "cell_type": "code",
      "execution_count": 10,
      "metadata": {
        "id": "Ak-7OwzVq25e"
      },
      "outputs": [
        {
          "name": "stdout",
          "output_type": "stream",
          "text": [
            "Contraseña correcta, bienvenido!\n"
          ]
        }
      ],
      "source": [
        "real_password = \"micontraseña123\"\n",
        "password = input(\"Introduzca su contraseña: \")\n",
        "\n",
        "while password != real_password:\n",
        "  password = input(\"Contraseña incorrecta, inténtalo de nuevo: \")\n",
        "\n",
        "print(\"Contraseña correcta, bienvenido!\")"
      ]
    },
    {
      "cell_type": "markdown",
      "metadata": {
        "id": "q03cAjXOq5dV"
      },
      "source": [
        "Cual creen que es el valor de `una_variable`?"
      ]
    },
    {
      "cell_type": "code",
      "execution_count": 14,
      "metadata": {
        "id": "VFlRzXVJq6hb"
      },
      "outputs": [
        {
          "name": "stdout",
          "output_type": "stream",
          "text": [
            "15\n"
          ]
        }
      ],
      "source": [
        "#Forma para hacer una sumatoria\n",
        "\n",
        "i = 0\n",
        "una_variable = 0\n",
        "while i <= 5:\n",
        "  una_variable = una_variable + i\n",
        "  i = i + 1\n",
        "\n",
        "print(una_variable)"
      ]
    },
    {
      "cell_type": "markdown",
      "metadata": {
        "id": "du4QDk47q75O"
      },
      "source": [
        "En este punto es bueno introducir una nueva notación. Para Python (y otros lenguajes) la siguiente notación es una forma de abreviar cualquier operador aritmético que opere sobre si mismo:\n",
        "\n",
        "- `a = a + b` ⇔ `a += b`\n",
        "- `a = a - b` ⇔ `a -= b`\n",
        "- `a = a * b` ⇔ `a *= b`\n",
        "- `a = a / b` ⇔ `a /= b`\n",
        "- `a = a // b` ⇔ `a //= b`\n",
        "- `a = a % b` ⇔ `a %= b`\n",
        "- `a = a ** b` ⇔ `a **= b`\n",
        "\n",
        "Usando esta nueva notación, podemos escribir el programa anterior como"
      ]
    },
    {
      "cell_type": "code",
      "execution_count": null,
      "metadata": {
        "id": "fqQ_T3Yyq8S7"
      },
      "outputs": [],
      "source": [
        "i = 0\n",
        "una_variable = 0\n",
        "while i <= 5:\n",
        "  una_variable += i\n",
        "  i += 1\n",
        "\n",
        "print(una_variable)"
      ]
    },
    {
      "cell_type": "markdown",
      "metadata": {
        "id": "-MsMKU8grCjQ"
      },
      "source": [
        "Ahora veamos un ejemplo que aprovecha también el uso de flujos condicionales:"
      ]
    },
    {
      "cell_type": "code",
      "execution_count": 15,
      "metadata": {
        "id": "SC5VDhrqq_G5"
      },
      "outputs": [
        {
          "name": "stdout",
          "output_type": "stream",
          "text": [
            "1. Saludar\n",
            "2. Despedirse\n",
            "3. Salir\n",
            "¡Hola!\n",
            "1. Saludar\n",
            "2. Despedirse\n",
            "3. Salir\n",
            "Saliendo del programa...\n"
          ]
        }
      ],
      "source": [
        "opcion = 0\n",
        "\n",
        "while opcion != 3:\n",
        "  # Mostramos todas las opciones\n",
        "  print(\"1. Saludar\")\n",
        "  print(\"2. Despedirse\")\n",
        "  print(\"3. Salir\")\n",
        "  # Le pedimos al usuario que elija una opción\n",
        "  opcion = int(input(\"Elige una opción: \"))\n",
        "\n",
        "  # Dependiendo de la opción, ejecutamos algo\n",
        "  if opcion == 1:\n",
        "      print(\"¡Hola!\")\n",
        "  elif opcion == 2:\n",
        "      print(\"¡Hasta luego!\")\n",
        "  elif opcion == 3:\n",
        "      print(\"Saliendo del programa...\")\n",
        "  else:\n",
        "      print(\"Opción no válida, por favor intentalo de nuevo.\")\n"
      ]
    },
    {
      "cell_type": "markdown",
      "metadata": {
        "id": "QvHmxSiErFKU"
      },
      "source": [
        "### For\n",
        "\n",
        "Un ciclo `for` permite iterar sobre un conjunto de elementos, por ejemplo, una lista (las veremos en detalle más adelante, por ahora pueden entenderlas como un conjunto de elementos). Python tiene una función ideal para por ejemplo, generar un conjunto de números entre dos rangos, esta función en cuestión se llama `range`. Veamos un ejemplo:"
      ]
    },
    {
      "cell_type": "code",
      "execution_count": 16,
      "metadata": {
        "id": "vj5mYQK9rHgc"
      },
      "outputs": [
        {
          "name": "stdout",
          "output_type": "stream",
          "text": [
            "0\n",
            "1\n",
            "2\n",
            "3\n",
            "4\n",
            "5\n",
            "6\n",
            "7\n",
            "8\n",
            "9\n"
          ]
        }
      ],
      "source": [
        "for i in range(0, 10): # para cada numero entre el 0 (incluyente) y el 10 (excluyente)\n",
        "  print(i)"
      ]
    },
    {
      "cell_type": "markdown",
      "metadata": {
        "id": "td6oGUKUrKSq"
      },
      "source": [
        "En este caso, la variable `i` va tomando cada uno de los valores en el rango de valores definidos. Para entender un poco más la funcionalidad de range, dentro de un jupyter notebook podemos usar `?range` o `help(range)` para pedir información sobre esta función:"
      ]
    },
    {
      "cell_type": "code",
      "execution_count": 17,
      "metadata": {
        "id": "VQpHAHI6rIEp"
      },
      "outputs": [
        {
          "name": "stdout",
          "output_type": "stream",
          "text": [
            "\u001b[1;31mInit signature:\u001b[0m \u001b[0mrange\u001b[0m\u001b[1;33m(\u001b[0m\u001b[0mself\u001b[0m\u001b[1;33m,\u001b[0m \u001b[1;33m/\u001b[0m\u001b[1;33m,\u001b[0m \u001b[1;33m*\u001b[0m\u001b[0margs\u001b[0m\u001b[1;33m,\u001b[0m \u001b[1;33m**\u001b[0m\u001b[0mkwargs\u001b[0m\u001b[1;33m)\u001b[0m\u001b[1;33m\u001b[0m\u001b[1;33m\u001b[0m\u001b[0m\n",
            "\u001b[1;31mDocstring:\u001b[0m     \n",
            "range(stop) -> range object\n",
            "range(start, stop[, step]) -> range object\n",
            "\n",
            "Return an object that produces a sequence of integers from start (inclusive)\n",
            "to stop (exclusive) by step.  range(i, j) produces i, i+1, i+2, ..., j-1.\n",
            "start defaults to 0, and stop is omitted!  range(4) produces 0, 1, 2, 3.\n",
            "These are exactly the valid indices for a list of 4 elements.\n",
            "When step is given, it specifies the increment (or decrement).\n",
            "\u001b[1;31mType:\u001b[0m           type\n",
            "\u001b[1;31mSubclasses:\u001b[0m     "
          ]
        }
      ],
      "source": [
        "?range"
      ]
    },
    {
      "cell_type": "markdown",
      "metadata": {
        "id": "IZS3ctHKrNYE"
      },
      "source": [
        "Vemos entonces que la función toma de parámetros `start`, `stop` y `step`, siendo el último los pasos incrementales entre `start` y `stop`. Dicho esto, ¿cómo podemos iterar sobre los numeros pares entre el 0 y el 10 (incluido)?"
      ]
    },
    {
      "cell_type": "code",
      "execution_count": 21,
      "metadata": {
        "id": "0DbYAKkbrMvB"
      },
      "outputs": [
        {
          "name": "stdout",
          "output_type": "stream",
          "text": [
            "0\n",
            "2\n",
            "4\n",
            "6\n",
            "8\n"
          ]
        }
      ],
      "source": [
        "# codigo para iterar sobre pares entre 0 y 10\n",
        "\n",
        "for i in range(0,10,2):\n",
        "    print(i)"
      ]
    },
    {
      "cell_type": "markdown",
      "metadata": {
        "id": "Lx8L91MOrQAO"
      },
      "source": [
        "Una interesante característica de Python, es que podemos iterar también sobre un string:"
      ]
    },
    {
      "cell_type": "code",
      "execution_count": 23,
      "metadata": {
        "id": "t9EGX7karLTA"
      },
      "outputs": [
        {
          "name": "stdout",
          "output_type": "stream",
          "text": [
            "H\n",
            "o\n",
            "l\n",
            "a\n",
            " \n",
            "M\n",
            "u\n",
            "n\n",
            "d\n",
            "o\n"
          ]
        }
      ],
      "source": [
        "for c in \"Hola Mundo\":\n",
        "  print(c)"
      ]
    },
    {
      "cell_type": "markdown",
      "metadata": {
        "id": "uN7hLAthrXgp"
      },
      "source": [
        "Hasta ahora vemos que varios casos escritos con `while` pueden ser ejecutados también con `for`"
      ]
    },
    {
      "cell_type": "code",
      "execution_count": 26,
      "metadata": {
        "id": "5FvnM2EyrSRW"
      },
      "outputs": [
        {
          "name": "stdout",
          "output_type": "stream",
          "text": [
            "While: 15\n",
            "For  :  15\n"
          ]
        }
      ],
      "source": [
        "# Con while\n",
        "i = 0\n",
        "una_variable = 0\n",
        "while i <= 5:\n",
        "  una_variable += i\n",
        "  i += 1\n",
        "\n",
        "print(\"While:\", una_variable)\n",
        "\n",
        "# Con for\n",
        "una_variable = 0\n",
        "\n",
        "for i in range(6):\n",
        "  una_variable += i\n",
        "print(\"For  : \", una_variable)"
      ]
    },
    {
      "cell_type": "markdown",
      "metadata": {
        "id": "nSWIVubwrbrH"
      },
      "source": [
        "Pero entonces, ¿por qué usariamos `for` en vez de `while`, o viceversa?. La respuesta es sencilla:\n",
        "\n",
        "- Si ya conocemos de antemano el número de veces que queremos que se ejecute el ciclo, entoncés usar `for`.\n",
        "- Cuando se requiera un cambio en el programa, por ejemplo un `input` del usuario o una modificación de una variable, entonces usamos `while`.\n",
        "\n",
        "\n",
        "Veamos algunos ejemplos:\n",
        "\n",
        "1. Queremos imprimir en pantalla todos los números pares entre 1 y 50"
      ]
    },
    {
      "cell_type": "code",
      "execution_count": 27,
      "metadata": {
        "id": "VhE4anLSrbHT"
      },
      "outputs": [
        {
          "name": "stdout",
          "output_type": "stream",
          "text": [
            "2\n",
            "4\n",
            "6\n",
            "8\n",
            "10\n",
            "12\n",
            "14\n",
            "16\n",
            "18\n",
            "20\n",
            "22\n",
            "24\n",
            "26\n",
            "28\n",
            "30\n",
            "32\n",
            "34\n",
            "36\n",
            "38\n",
            "40\n",
            "42\n",
            "44\n",
            "46\n",
            "48\n",
            "50\n"
          ]
        }
      ],
      "source": [
        "# while o for? código aquí\n",
        "\n",
        "for i in range(2,51,2):\n",
        "    print(i)"
      ]
    },
    {
      "cell_type": "markdown",
      "metadata": {
        "id": "GXdasROIrfOa"
      },
      "source": [
        "2. Si sumamos números consecutivos partiendo del `1`, ¿cuántos números necesito para que la suma exceda el valor `100`?"
      ]
    },
    {
      "cell_type": "code",
      "execution_count": 42,
      "metadata": {
        "id": "twfmeLBrrex_"
      },
      "outputs": [
        {
          "name": "stdout",
          "output_type": "stream",
          "text": [
            "15\n",
            "105\n"
          ]
        }
      ],
      "source": [
        "# while o for? código aquí\n",
        "suma = 0\n",
        "i = 0\n",
        "while suma < 100:\n",
        "    suma += i\n",
        "    i += 1\n",
        "print(i)\n",
        "print(suma)"
      ]
    },
    {
      "cell_type": "markdown",
      "metadata": {
        "id": "rh5xfOvcrihh"
      },
      "source": [
        "3. Queremos obtener el factorial de un número `n`\n",
        "\n",
        "$$ n! = 1 x 2 x 3 x ... x (n-1) x n $$"
      ]
    },
    {
      "cell_type": "code",
      "execution_count": 44,
      "metadata": {
        "id": "e8VXC2BKrkCu"
      },
      "outputs": [
        {
          "name": "stdout",
          "output_type": "stream",
          "text": [
            "3628800\n"
          ]
        }
      ],
      "source": [
        "# while o for? código aquí\n",
        "n = 10\n",
        "\n",
        "factorial = 1\n",
        "\n",
        "for i in range(1, n+1):\n",
        "    factorial *= i\n",
        "print(factorial)"
      ]
    },
    {
      "cell_type": "markdown",
      "metadata": {
        "id": "7HhcDyDWrn7c"
      },
      "source": [
        "### Break y Continue\n",
        "\n",
        "En Python existen las palabras claves `break` y `continue`, muy útiles cuando se trabajan con ciclos. `break` se utiliza para \"romper\" el ciclo, es decir, terminarlo. Por otro lado, `continue` pide continuar con el siguiente ciclo sin ejecutar el código que va por debajo, lo que en un `while` significa volver a revisar la condición, mientras que en un `for` sería pasar al siguiente elemente.\n",
        "\n",
        "Veamos ejemplos con `break`"
      ]
    },
    {
      "cell_type": "code",
      "execution_count": 45,
      "metadata": {
        "id": "0ChSsv_JrnBa"
      },
      "outputs": [],
      "source": [
        "while True:\n",
        "  respuesta = input(\"Escribe 'salir' para terminar: \")\n",
        "  if respuesta == \"salir\":\n",
        "      break\n",
        "  else:\n",
        "      print(\"El ciclo continua...\")"
      ]
    },
    {
      "cell_type": "code",
      "execution_count": 46,
      "metadata": {
        "id": "iItqW-BqrjmU"
      },
      "outputs": [
        {
          "name": "stdout",
          "output_type": "stream",
          "text": [
            "0\n",
            "1\n",
            "2\n",
            "3\n",
            "4\n"
          ]
        }
      ],
      "source": [
        "# que creen que imprimirá en pantalla?\n",
        "for i in range(10):\n",
        "  if i == 5:\n",
        "    break\n",
        "  print(i)"
      ]
    },
    {
      "cell_type": "markdown",
      "metadata": {
        "id": "P9MRflNfrsDu"
      },
      "source": [
        "Vemos ahora ejemplos con `continue`"
      ]
    },
    {
      "cell_type": "code",
      "execution_count": 49,
      "metadata": {
        "id": "jG1enfVwrsWz"
      },
      "outputs": [
        {
          "name": "stdout",
          "output_type": "stream",
          "text": [
            "Se usaron 2 iteraciones\n"
          ]
        }
      ],
      "source": [
        "suma = 0\n",
        "i = 0\n",
        "while suma < 100:\n",
        "  numero = int(input(\"Introduzca un numero:\", ))\n",
        "\n",
        "  if numero <= 0:\n",
        "    continue\n",
        "\n",
        "  suma += numero\n",
        "  i+=1\n",
        "\n",
        "print(\"Se usaron \" + str(i) + \" iteraciones\")"
      ]
    },
    {
      "cell_type": "code",
      "execution_count": 50,
      "metadata": {
        "id": "dCBSCf9Hrtur"
      },
      "outputs": [
        {
          "name": "stdout",
          "output_type": "stream",
          "text": [
            "1\n",
            "3\n",
            "5\n",
            "7\n",
            "9\n"
          ]
        }
      ],
      "source": [
        "# que creen que imprimirá en pantalla?\n",
        "for i in range(10):\n",
        "  if i % 2 == 0:\n",
        "    continue\n",
        "  print(i)"
      ]
    },
    {
      "cell_type": "markdown",
      "metadata": {
        "id": "KzwGj1wpgO1B"
      },
      "source": [
        "### Ejercicios\n",
        "\n",
        "#### 1 Tabla de multiplicar\n",
        "\n",
        "Leer un número de entrada, e imprimir la tabla de multiplicar de dicho número desde el 1 al 10 en el formato `n x i = j`, siendo `n` asignado por el usuario, `i` los valores entre 1 y 10, y `j` como la multiplicación de `n` para cada `i`."
      ]
    },
    {
      "cell_type": "code",
      "execution_count": 57,
      "metadata": {
        "id": "6m1Q1wjogOUs"
      },
      "outputs": [
        {
          "name": "stdout",
          "output_type": "stream",
          "text": [
            "10 x 1 = 10\n",
            "10 x 2 = 20\n",
            "10 x 3 = 30\n",
            "10 x 4 = 40\n",
            "10 x 5 = 50\n",
            "10 x 6 = 60\n",
            "10 x 7 = 70\n",
            "10 x 8 = 80\n",
            "10 x 9 = 90\n",
            "10 x 10 = 100\n"
          ]
        }
      ],
      "source": [
        "numero = int(input(\"Ingrese un numero: \"))\n",
        "\n",
        "for i in range (1,11):\n",
        "    j = numero * i\n",
        "    print(f\"{numero} x {i} = {numero * i}\")"
      ]
    },
    {
      "cell_type": "markdown",
      "metadata": {
        "id": "SBr1U4h-gdE8"
      },
      "source": [
        "#### 2 Sumatoria\n",
        "\n",
        "Dado un número entero `n`, calcule el valor de\n",
        "$$\\sum_{i=1}^{n} \\frac{1}{i^2}$$"
      ]
    },
    {
      "cell_type": "code",
      "execution_count": 60,
      "metadata": {
        "id": "tdyW2bN8gcqT"
      },
      "outputs": [
        {
          "name": "stdout",
          "output_type": "stream",
          "text": [
            "1.6439345666815615\n"
          ]
        }
      ],
      "source": [
        "numero = int(input(\"Ingrese un numero: \"))\n",
        "# resto del código\n",
        "\n",
        "suma = 0 \n",
        "\n",
        "#Problema de Basilea (pi al cuadrado / 6)\n",
        "for i in range(1, numero+1):\n",
        "    suma += (1/(i**2))\n",
        "print(suma)"
      ]
    },
    {
      "cell_type": "markdown",
      "metadata": {
        "id": "VC1Vy4uJiSL-"
      },
      "source": [
        "#### 3 Fibonacci\n",
        "\n",
        "Imprimir en pantalla la sucesión de los primeros `n` números de Fibonacci*\n",
        "\n",
        "*La sucesión de Fibonacci depende de los dos valores anteriores:\n",
        "\n",
        "$f_n = f_{n-1} + f_{n-2}$\n",
        "\n",
        "Siendo $f_0=0$ y $f_1=1$ por definición.\n",
        "\n",
        "Los primeros 10 números de la sucesion de Fibonacci son $0, 1, 1, 2, 3, 5, 8, 13,21,34$"
      ]
    },
    {
      "cell_type": "code",
      "execution_count": 61,
      "metadata": {
        "id": "B29f9Wxog-8e"
      },
      "outputs": [
        {
          "name": "stdout",
          "output_type": "stream",
          "text": [
            "55\n"
          ]
        }
      ],
      "source": [
        "# Inicialización\n",
        "a = 0\n",
        "b = 1\n",
        "\n",
        "n = int(input(\"Ingrese un numero: \"))\n",
        "for i in range(n):\n",
        "    a, b = b, b + a\n",
        "print (a)"
      ]
    },
    {
      "cell_type": "code",
      "execution_count": 67,
      "metadata": {},
      "outputs": [
        {
          "name": "stdout",
          "output_type": "stream",
          "text": [
            "0\n",
            "1\n",
            "2\n",
            "3\n",
            "5\n",
            "8\n",
            "13\n",
            "21\n",
            "34\n",
            "55\n"
          ]
        }
      ],
      "source": [
        "# Resolver de otra manera esta serie de Fibonnaci\n",
        "a = 0\n",
        "b = 1\n",
        "\n",
        "n = int(input(\"Ingrese un numero: \"))\n",
        "print(a)  \n",
        "for i in range(n-1):  \n",
        "    c = a + b\n",
        "    print(c)\n",
        "    a = b\n",
        "    b = c\n"
      ]
    }
  ],
  "metadata": {
    "colab": {
      "provenance": []
    },
    "kernelspec": {
      "display_name": "data-science",
      "language": "python",
      "name": "python3"
    },
    "language_info": {
      "codemirror_mode": {
        "name": "ipython",
        "version": 3
      },
      "file_extension": ".py",
      "mimetype": "text/x-python",
      "name": "python",
      "nbconvert_exporter": "python",
      "pygments_lexer": "ipython3",
      "version": "3.12.11"
    }
  },
  "nbformat": 4,
  "nbformat_minor": 0
}
